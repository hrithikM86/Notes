{
 "cells": [
  {
   "cell_type": "code",
   "execution_count": 1,
   "id": "0c7ca655",
   "metadata": {},
   "outputs": [
    {
     "data": {
      "text/plain": [
       "2"
      ]
     },
     "execution_count": 1,
     "metadata": {},
     "output_type": "execute_result"
    }
   ],
   "source": [
    "minus = lambda x,y:x-y\n",
    "minus(9,7)\n"
   ]
  },
  {
   "cell_type": "code",
   "execution_count": 2,
   "id": "8e413390",
   "metadata": {},
   "outputs": [
    {
     "data": {
      "text/html": [
       "<div>\n",
       "<style scoped>\n",
       "    .dataframe tbody tr th:only-of-type {\n",
       "        vertical-align: middle;\n",
       "    }\n",
       "\n",
       "    .dataframe tbody tr th {\n",
       "        vertical-align: top;\n",
       "    }\n",
       "\n",
       "    .dataframe thead th {\n",
       "        text-align: right;\n",
       "    }\n",
       "</style>\n",
       "<table border=\"1\" class=\"dataframe\">\n",
       "  <thead>\n",
       "    <tr style=\"text-align: right;\">\n",
       "      <th></th>\n",
       "      <th>name</th>\n",
       "      <th>marks</th>\n",
       "      <th>city</th>\n",
       "    </tr>\n",
       "  </thead>\n",
       "  <tbody>\n",
       "    <tr>\n",
       "      <th>0</th>\n",
       "      <td>hrithik</td>\n",
       "      <td>95</td>\n",
       "      <td>Uchede</td>\n",
       "    </tr>\n",
       "    <tr>\n",
       "      <th>1</th>\n",
       "      <td>bhoumik</td>\n",
       "      <td>93</td>\n",
       "      <td>Pen</td>\n",
       "    </tr>\n",
       "    <tr>\n",
       "      <th>2</th>\n",
       "      <td>satwik</td>\n",
       "      <td>91</td>\n",
       "      <td>Pen</td>\n",
       "    </tr>\n",
       "  </tbody>\n",
       "</table>\n",
       "</div>"
      ],
      "text/plain": [
       "      name  marks    city\n",
       "0  hrithik     95  Uchede\n",
       "1  bhoumik     93     Pen\n",
       "2   satwik     91     Pen"
      ]
     },
     "execution_count": 2,
     "metadata": {},
     "output_type": "execute_result"
    }
   ],
   "source": [
    "import pandas as pd\n",
    "dict1={\n",
    "    \"name\":['hrithik','bhoumik','satwik'],\n",
    "    \"marks\":[95,93,91],\n",
    "    \"city\":['Uchede','Pen','Pen']\n",
    "}\n",
    "df=pd.DataFrame(dict1)\n",
    "df\n"
   ]
  },
  {
   "cell_type": "code",
   "execution_count": 3,
   "id": "bf2e52c4",
   "metadata": {},
   "outputs": [
    {
     "data": {
      "text/plain": [
       "0    95\n",
       "1    93\n",
       "2    91\n",
       "Name: marks, dtype: int64"
      ]
     },
     "execution_count": 3,
     "metadata": {},
     "output_type": "execute_result"
    }
   ],
   "source": [
    "df[\"marks\"]"
   ]
  },
  {
   "cell_type": "code",
   "execution_count": 4,
   "id": "44fe00e5",
   "metadata": {},
   "outputs": [
    {
     "name": "stderr",
     "output_type": "stream",
     "text": [
      "C:\\Users\\hrith\\AppData\\Local\\Temp\\ipykernel_3764\\3989734226.py:1: SettingWithCopyWarning: \n",
      "A value is trying to be set on a copy of a slice from a DataFrame\n",
      "\n",
      "See the caveats in the documentation: https://pandas.pydata.org/pandas-docs/stable/user_guide/indexing.html#returning-a-view-versus-a-copy\n",
      "  df[\"marks\"][1]=50\n"
     ]
    }
   ],
   "source": [
    "df[\"marks\"][1]=50"
   ]
  },
  {
   "cell_type": "code",
   "execution_count": 5,
   "id": "18f52d63",
   "metadata": {},
   "outputs": [
    {
     "data": {
      "text/html": [
       "<div>\n",
       "<style scoped>\n",
       "    .dataframe tbody tr th:only-of-type {\n",
       "        vertical-align: middle;\n",
       "    }\n",
       "\n",
       "    .dataframe tbody tr th {\n",
       "        vertical-align: top;\n",
       "    }\n",
       "\n",
       "    .dataframe thead th {\n",
       "        text-align: right;\n",
       "    }\n",
       "</style>\n",
       "<table border=\"1\" class=\"dataframe\">\n",
       "  <thead>\n",
       "    <tr style=\"text-align: right;\">\n",
       "      <th></th>\n",
       "      <th>name</th>\n",
       "      <th>marks</th>\n",
       "      <th>city</th>\n",
       "    </tr>\n",
       "  </thead>\n",
       "  <tbody>\n",
       "    <tr>\n",
       "      <th>0</th>\n",
       "      <td>hrithik</td>\n",
       "      <td>95</td>\n",
       "      <td>Uchede</td>\n",
       "    </tr>\n",
       "    <tr>\n",
       "      <th>1</th>\n",
       "      <td>bhoumik</td>\n",
       "      <td>50</td>\n",
       "      <td>Pen</td>\n",
       "    </tr>\n",
       "    <tr>\n",
       "      <th>2</th>\n",
       "      <td>satwik</td>\n",
       "      <td>91</td>\n",
       "      <td>Pen</td>\n",
       "    </tr>\n",
       "  </tbody>\n",
       "</table>\n",
       "</div>"
      ],
      "text/plain": [
       "      name  marks    city\n",
       "0  hrithik     95  Uchede\n",
       "1  bhoumik     50     Pen\n",
       "2   satwik     91     Pen"
      ]
     },
     "execution_count": 5,
     "metadata": {},
     "output_type": "execute_result"
    }
   ],
   "source": [
    "df"
   ]
  },
  {
   "cell_type": "code",
   "execution_count": 6,
   "id": "621effc8",
   "metadata": {},
   "outputs": [],
   "source": [
    "df.index=['01','02','03']"
   ]
  },
  {
   "cell_type": "code",
   "execution_count": 7,
   "id": "691343ef",
   "metadata": {},
   "outputs": [
    {
     "data": {
      "text/html": [
       "<div>\n",
       "<style scoped>\n",
       "    .dataframe tbody tr th:only-of-type {\n",
       "        vertical-align: middle;\n",
       "    }\n",
       "\n",
       "    .dataframe tbody tr th {\n",
       "        vertical-align: top;\n",
       "    }\n",
       "\n",
       "    .dataframe thead th {\n",
       "        text-align: right;\n",
       "    }\n",
       "</style>\n",
       "<table border=\"1\" class=\"dataframe\">\n",
       "  <thead>\n",
       "    <tr style=\"text-align: right;\">\n",
       "      <th></th>\n",
       "      <th>name</th>\n",
       "      <th>marks</th>\n",
       "      <th>city</th>\n",
       "    </tr>\n",
       "  </thead>\n",
       "  <tbody>\n",
       "    <tr>\n",
       "      <th>01</th>\n",
       "      <td>hrithik</td>\n",
       "      <td>95</td>\n",
       "      <td>Uchede</td>\n",
       "    </tr>\n",
       "    <tr>\n",
       "      <th>02</th>\n",
       "      <td>bhoumik</td>\n",
       "      <td>50</td>\n",
       "      <td>Pen</td>\n",
       "    </tr>\n",
       "    <tr>\n",
       "      <th>03</th>\n",
       "      <td>satwik</td>\n",
       "      <td>91</td>\n",
       "      <td>Pen</td>\n",
       "    </tr>\n",
       "  </tbody>\n",
       "</table>\n",
       "</div>"
      ],
      "text/plain": [
       "       name  marks    city\n",
       "01  hrithik     95  Uchede\n",
       "02  bhoumik     50     Pen\n",
       "03   satwik     91     Pen"
      ]
     },
     "execution_count": 7,
     "metadata": {},
     "output_type": "execute_result"
    }
   ],
   "source": [
    "df"
   ]
  },
  {
   "cell_type": "code",
   "execution_count": 8,
   "id": "1e17ba8f",
   "metadata": {},
   "outputs": [],
   "source": [
    "import numpy as np"
   ]
  },
  {
   "cell_type": "code",
   "execution_count": 9,
   "id": "be72d28d",
   "metadata": {},
   "outputs": [],
   "source": [
    "a=np.random.rand(345,5)"
   ]
  },
  {
   "cell_type": "code",
   "execution_count": 10,
   "id": "b4e2310a",
   "metadata": {},
   "outputs": [],
   "source": [
    "df2=pd.DataFrame(a)"
   ]
  },
  {
   "cell_type": "code",
   "execution_count": 11,
   "id": "8327e1fe",
   "metadata": {},
   "outputs": [
    {
     "data": {
      "text/html": [
       "<div>\n",
       "<style scoped>\n",
       "    .dataframe tbody tr th:only-of-type {\n",
       "        vertical-align: middle;\n",
       "    }\n",
       "\n",
       "    .dataframe tbody tr th {\n",
       "        vertical-align: top;\n",
       "    }\n",
       "\n",
       "    .dataframe thead th {\n",
       "        text-align: right;\n",
       "    }\n",
       "</style>\n",
       "<table border=\"1\" class=\"dataframe\">\n",
       "  <thead>\n",
       "    <tr style=\"text-align: right;\">\n",
       "      <th></th>\n",
       "      <th>0</th>\n",
       "      <th>1</th>\n",
       "      <th>2</th>\n",
       "      <th>3</th>\n",
       "      <th>4</th>\n",
       "    </tr>\n",
       "  </thead>\n",
       "  <tbody>\n",
       "    <tr>\n",
       "      <th>0</th>\n",
       "      <td>0.152928</td>\n",
       "      <td>0.075460</td>\n",
       "      <td>0.779739</td>\n",
       "      <td>0.122148</td>\n",
       "      <td>0.519781</td>\n",
       "    </tr>\n",
       "    <tr>\n",
       "      <th>1</th>\n",
       "      <td>0.473965</td>\n",
       "      <td>0.730235</td>\n",
       "      <td>0.737311</td>\n",
       "      <td>0.445809</td>\n",
       "      <td>0.415074</td>\n",
       "    </tr>\n",
       "    <tr>\n",
       "      <th>2</th>\n",
       "      <td>0.948494</td>\n",
       "      <td>0.246915</td>\n",
       "      <td>0.116379</td>\n",
       "      <td>0.176808</td>\n",
       "      <td>0.954565</td>\n",
       "    </tr>\n",
       "    <tr>\n",
       "      <th>3</th>\n",
       "      <td>0.114940</td>\n",
       "      <td>0.765818</td>\n",
       "      <td>0.445423</td>\n",
       "      <td>0.528839</td>\n",
       "      <td>0.257504</td>\n",
       "    </tr>\n",
       "    <tr>\n",
       "      <th>4</th>\n",
       "      <td>0.735533</td>\n",
       "      <td>0.724959</td>\n",
       "      <td>0.441941</td>\n",
       "      <td>0.369335</td>\n",
       "      <td>0.483641</td>\n",
       "    </tr>\n",
       "    <tr>\n",
       "      <th>...</th>\n",
       "      <td>...</td>\n",
       "      <td>...</td>\n",
       "      <td>...</td>\n",
       "      <td>...</td>\n",
       "      <td>...</td>\n",
       "    </tr>\n",
       "    <tr>\n",
       "      <th>340</th>\n",
       "      <td>0.781359</td>\n",
       "      <td>0.248296</td>\n",
       "      <td>0.531580</td>\n",
       "      <td>0.620474</td>\n",
       "      <td>0.600099</td>\n",
       "    </tr>\n",
       "    <tr>\n",
       "      <th>341</th>\n",
       "      <td>0.921250</td>\n",
       "      <td>0.462677</td>\n",
       "      <td>0.317861</td>\n",
       "      <td>0.234250</td>\n",
       "      <td>0.538482</td>\n",
       "    </tr>\n",
       "    <tr>\n",
       "      <th>342</th>\n",
       "      <td>0.153761</td>\n",
       "      <td>0.415751</td>\n",
       "      <td>0.724977</td>\n",
       "      <td>0.617011</td>\n",
       "      <td>0.634762</td>\n",
       "    </tr>\n",
       "    <tr>\n",
       "      <th>343</th>\n",
       "      <td>0.091237</td>\n",
       "      <td>0.800894</td>\n",
       "      <td>0.148207</td>\n",
       "      <td>0.175798</td>\n",
       "      <td>0.641485</td>\n",
       "    </tr>\n",
       "    <tr>\n",
       "      <th>344</th>\n",
       "      <td>0.641181</td>\n",
       "      <td>0.302790</td>\n",
       "      <td>0.154358</td>\n",
       "      <td>0.368208</td>\n",
       "      <td>0.621664</td>\n",
       "    </tr>\n",
       "  </tbody>\n",
       "</table>\n",
       "<p>345 rows × 5 columns</p>\n",
       "</div>"
      ],
      "text/plain": [
       "            0         1         2         3         4\n",
       "0    0.152928  0.075460  0.779739  0.122148  0.519781\n",
       "1    0.473965  0.730235  0.737311  0.445809  0.415074\n",
       "2    0.948494  0.246915  0.116379  0.176808  0.954565\n",
       "3    0.114940  0.765818  0.445423  0.528839  0.257504\n",
       "4    0.735533  0.724959  0.441941  0.369335  0.483641\n",
       "..        ...       ...       ...       ...       ...\n",
       "340  0.781359  0.248296  0.531580  0.620474  0.600099\n",
       "341  0.921250  0.462677  0.317861  0.234250  0.538482\n",
       "342  0.153761  0.415751  0.724977  0.617011  0.634762\n",
       "343  0.091237  0.800894  0.148207  0.175798  0.641485\n",
       "344  0.641181  0.302790  0.154358  0.368208  0.621664\n",
       "\n",
       "[345 rows x 5 columns]"
      ]
     },
     "execution_count": 11,
     "metadata": {},
     "output_type": "execute_result"
    }
   ],
   "source": [
    "df2"
   ]
  },
  {
   "cell_type": "code",
   "execution_count": 12,
   "id": "5b16e2e2",
   "metadata": {},
   "outputs": [
    {
     "data": {
      "text/plain": [
       "<function TextIOWrapper.close()>"
      ]
     },
     "execution_count": 12,
     "metadata": {},
     "output_type": "execute_result"
    }
   ],
   "source": [
    "f=open(\"DemoProgram.txt\",\"a\")\n",
    "\n",
    "f.write(\"\\n\")\n",
    "f.write(\"Hrithik\")\n",
    "f.close"
   ]
  },
  {
   "cell_type": "code",
   "execution_count": 13,
   "id": "ae76f8e7",
   "metadata": {},
   "outputs": [
    {
     "name": "stdout",
     "output_type": "stream",
     "text": [
      "hi 5\n"
     ]
    }
   ],
   "source": [
    "a=5\n",
    "print(\"hi \"+str(5))"
   ]
  },
  {
   "cell_type": "code",
   "execution_count": null,
   "id": "1e77b493",
   "metadata": {},
   "outputs": [],
   "source": []
  }
 ],
 "metadata": {
  "kernelspec": {
   "display_name": "Python 3 (ipykernel)",
   "language": "python",
   "name": "python3"
  },
  "language_info": {
   "codemirror_mode": {
    "name": "ipython",
    "version": 3
   },
   "file_extension": ".py",
   "mimetype": "text/x-python",
   "name": "python",
   "nbconvert_exporter": "python",
   "pygments_lexer": "ipython3",
   "version": "3.10.1"
  }
 },
 "nbformat": 4,
 "nbformat_minor": 5
}
