{
 "cells": [
  {
   "cell_type": "code",
   "execution_count": 1,
   "id": "e5baa23c",
   "metadata": {},
   "outputs": [],
   "source": [
    "file = open(\"hrithik.txt\", \"a\")\n",
    "array1=[[1,2],[1,2]]\n",
    "\n",
    "content = str(array1)\n",
    "file.write(content)\n",
    "space=\"\\n\"\n",
    "file.write(space)\n",
    "array1=[[7,2],[9,2]]\n",
    "content = str(array1)\n",
    "file.write(content)\n",
    "file.close()"
   ]
  },
  {
   "cell_type": "code",
   "execution_count": null,
   "id": "acd56f2b",
   "metadata": {},
   "outputs": [],
   "source": [
    "from picamera import PiCamera\n",
    "from time import sleep\n",
    "from PIL import Image\n"
   ]
  }
 ],
 "metadata": {
  "kernelspec": {
   "display_name": "Python 3 (ipykernel)",
   "language": "python",
   "name": "python3"
  },
  "language_info": {
   "codemirror_mode": {
    "name": "ipython",
    "version": 3
   },
   "file_extension": ".py",
   "mimetype": "text/x-python",
   "name": "python",
   "nbconvert_exporter": "python",
   "pygments_lexer": "ipython3",
   "version": "3.10.1"
  }
 },
 "nbformat": 4,
 "nbformat_minor": 5
}
