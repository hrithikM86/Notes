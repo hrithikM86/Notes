{
 "cells": [
  {
   "cell_type": "code",
   "execution_count": null,
   "id": "10537c1c",
   "metadata": {},
   "outputs": [],
   "source": []
  },
  {
   "cell_type": "code",
   "execution_count": null,
   "id": "a1c04463",
   "metadata": {},
   "outputs": [],
   "source": [
    "# Comments"
   ]
  },
  {
   "cell_type": "code",
   "execution_count": 48,
   "id": "8288b685",
   "metadata": {},
   "outputs": [
    {
     "data": {
      "text/plain": [
       "'hi'"
      ]
     },
     "execution_count": 48,
     "metadata": {},
     "output_type": "execute_result"
    }
   ],
   "source": [
    "#this is a comment \n"
   ]
  },
  {
   "cell_type": "markdown",
   "id": "502de99e",
   "metadata": {},
   "source": [
    "# Escape sequence characters"
   ]
  },
  {
   "cell_type": "code",
   "execution_count": 2,
   "id": "46fb787e",
   "metadata": {},
   "outputs": [
    {
     "name": "stdout",
     "output_type": "stream",
     "text": [
      " hello \\n world \n"
     ]
    }
   ],
   "source": [
    "print(\" hello \\\\n world \")"
   ]
  },
  {
   "cell_type": "markdown",
   "id": "190be703",
   "metadata": {},
   "source": [
    "\n",
    "# Variables"
   ]
  },
  {
   "cell_type": "code",
   "execution_count": 3,
   "id": "8270665c",
   "metadata": {},
   "outputs": [
    {
     "name": "stdout",
     "output_type": "stream",
     "text": [
      "<class 'str'>\n",
      "i am hrithik cricket is my favourite sport\n",
      "101.89\n"
     ]
    }
   ],
   "source": [
    "var1=\"i am hrithik \"\n",
    "var2=\"cricket is my favourite sport\"\n",
    "var3=45\n",
    "var4=56.89\n",
    "\n",
    "print(type(var1)) #prints type of the variable\n",
    "print(var1+var2)\n",
    "print(var3+var4)\n"
   ]
  },
  {
   "cell_type": "markdown",
   "id": "90a0807a",
   "metadata": {},
   "source": [
    "# Typecasting\n"
   ]
  },
  {
   "cell_type": "code",
   "execution_count": 4,
   "id": "85d16e8a",
   "metadata": {},
   "outputs": [
    {
     "name": "stdout",
     "output_type": "stream",
     "text": [
      "9.90 89 \n",
      "98.9\n"
     ]
    }
   ],
   "source": [
    "var5=\"89 \"\n",
    "var6=\"9.90 \"\n",
    "print(var6+var5)\n",
    "print(int(var5)+float(var6))"
   ]
  },
  {
   "cell_type": "markdown",
   "id": "186dde00",
   "metadata": {},
   "source": [
    "# Special print statements\n"
   ]
  },
  {
   "cell_type": "code",
   "execution_count": 5,
   "id": "c1339bde",
   "metadata": {},
   "outputs": [
    {
     "name": "stdout",
     "output_type": "stream",
     "text": [
      "hrithik \n",
      "hrithik \n",
      "hrithik \n",
      "hrithik \n",
      "hrithik \n",
      "\n"
     ]
    }
   ],
   "source": [
    "print(5*\"hrithik \\n\")"
   ]
  },
  {
   "cell_type": "markdown",
   "id": "33371ccf",
   "metadata": {},
   "source": [
    "# Taking input from user"
   ]
  },
  {
   "cell_type": "code",
   "execution_count": 6,
   "id": "4cbe4f7b",
   "metadata": {},
   "outputs": [],
   "source": [
    "\n",
    "\n",
    "# a=input(\"whats your name ?\") \n",
    "# takes input by default as string\n",
    "# print(a)"
   ]
  },
  {
   "cell_type": "markdown",
   "id": "5f027ff4",
   "metadata": {},
   "source": [
    "# String slicing\n"
   ]
  },
  {
   "cell_type": "code",
   "execution_count": 7,
   "id": "f480b462",
   "metadata": {},
   "outputs": [
    {
     "name": "stdout",
     "output_type": "stream",
     "text": [
      "i\n",
      "hrith\n",
      "21\n",
      "hihki\n",
      "good\n",
      "yob doog a si kihtirh\n"
     ]
    }
   ],
   "source": [
    "a=\"hrithik is a good boy\"\n",
    "print(a[2])\n",
    "print(a[0:5]) #the last number (here 5 i.e i ) is not included\n",
    "print(len(a)) #len=gives length of element\n",
    "print(a[0:10:2]) #skips 1 characters while printing(ie takes 0 then 2 , 1 is skipped)\n",
    "print(a[-8:-4]) # y=-1,0=-2,b=-3 and so onn\n",
    "print(a[::-1]) #reverse the string"
   ]
  },
  {
   "cell_type": "markdown",
   "id": "0a6bce56",
   "metadata": {},
   "source": [
    "# List\n"
   ]
  },
  {
   "cell_type": "code",
   "execution_count": 8,
   "id": "277740e3",
   "metadata": {},
   "outputs": [
    {
     "name": "stdout",
     "output_type": "stream",
     "text": [
      "['fruits', 'vegetables', 'soap', 'clothes', 'drinks', 78, 89]\n",
      "clothes\n"
     ]
    }
   ],
   "source": [
    "grocery=[\"fruits\",\"vegetables\",\"soap\",\"clothes\",\"drinks\",78,89] #mixed list\n",
    "print(grocery)\n",
    "print(grocery[3])"
   ]
  },
  {
   "cell_type": "code",
   "execution_count": 9,
   "id": "562222f8",
   "metadata": {},
   "outputs": [
    {
     "name": "stdout",
     "output_type": "stream",
     "text": [
      "[45, 56, 89, 12, 36, 47, 51, 69, 87, 62, 63]\n",
      "[12, 36, 45, 47, 51, 56, 62, 63, 69, 87, 89]\n",
      "[89, 87, 69, 63, 62, 56, 51, 47, 45, 36, 12]\n"
     ]
    }
   ],
   "source": [
    "num=[45,56,89,12,36,47,51,69,87,62,63] #list of numbers\n",
    "print(num)\n",
    "num.sort() #inbuild sort function\n",
    "print(num)\n",
    "num.reverse()\n",
    "print(num) #reversing the list"
   ]
  },
  {
   "cell_type": "code",
   "execution_count": 10,
   "id": "b71187a0",
   "metadata": {},
   "outputs": [
    {
     "name": "stdout",
     "output_type": "stream",
     "text": [
      "[89, 87, 69]\n",
      "[89, 69, 62, 51]\n"
     ]
    }
   ],
   "source": [
    "#slicing\n",
    "\n",
    "print(num[0:3]) #note element @3 wont get print\n",
    "print(num[0:7:2]) #will skip 1 element i.e 0th elenent then 2nd element will get print"
   ]
  },
  {
   "cell_type": "code",
   "execution_count": 11,
   "id": "94144016",
   "metadata": {},
   "outputs": [
    {
     "name": "stdout",
     "output_type": "stream",
     "text": [
      "[89, 87, 69, 63, 62, 56, 51, 47, 45, 36, 12]\n",
      "[89, 87, 69, 63, 62, 56, 51, 47, 45, 36, 12, 61]\n",
      "[89, 103, 87, 69, 63, 62, 56, 51, 47, 45, 36, 12, 61]\n",
      "[89, 103, 87, 69, 63, 62, 56, 51, 47, 45, 36, 12]\n"
     ]
    }
   ],
   "source": [
    "#adding numbers to list \n",
    "print(num)\n",
    "num.append(61) #will add 61 at the back of the list\n",
    "print(num)\n",
    "num.insert(1,103) #will insert 103 @ 1st postion\n",
    "print(num)\n",
    "num.pop() #remove an element from top\n",
    "print(num)"
   ]
  },
  {
   "cell_type": "code",
   "execution_count": 12,
   "id": "8f9f0935",
   "metadata": {},
   "outputs": [
    {
     "name": "stdout",
     "output_type": "stream",
     "text": [
      "[0, 103, 87, 69, 63, 62, 56, 51, 47, 45, 36, 12]\n"
     ]
    }
   ],
   "source": [
    "#list is mutable i.e we can change its elements , tupples are inmutable i.e cannot change\n",
    "num[0]=0\n",
    "print(num)"
   ]
  },
  {
   "cell_type": "markdown",
   "id": "62fcb775",
   "metadata": {},
   "source": [
    "# Tupples\n"
   ]
  },
  {
   "cell_type": "code",
   "execution_count": 13,
   "id": "e472987a",
   "metadata": {},
   "outputs": [
    {
     "name": "stdout",
     "output_type": "stream",
     "text": [
      "(2, 1, 5, 4, 8)\n",
      "(1,)\n"
     ]
    }
   ],
   "source": [
    "# NOTE: elements inside tupple cannot change\n",
    "tupple=(2,1,5,4,8)\n",
    "print(tupple)\n",
    "#tupple=(1) will throw an error , the right way to form an tupple with one element is \n",
    "tupple2=(1,)\n",
    "print(tupple2)"
   ]
  },
  {
   "cell_type": "code",
   "execution_count": 14,
   "id": "d8466bd6",
   "metadata": {},
   "outputs": [
    {
     "name": "stdout",
     "output_type": "stream",
     "text": [
      "6 4\n",
      "7 9\n"
     ]
    }
   ],
   "source": [
    "#swaping elememts in python \n",
    "#method 1\n",
    "a=4\n",
    "b=6 \n",
    "temp=a\n",
    "a=b\n",
    "b=temp\n",
    "print(a,b)\n",
    "\n",
    "#method2\n",
    "c=9\n",
    "d=7\n",
    "c,d=d,c\n",
    "print(c,d)"
   ]
  },
  {
   "cell_type": "markdown",
   "id": "8392a9e4",
   "metadata": {},
   "source": [
    "# Dictionary"
   ]
  },
  {
   "cell_type": "code",
   "execution_count": 15,
   "id": "3169817c",
   "metadata": {},
   "outputs": [],
   "source": [
    "#dictionary is just a key-value pairs"
   ]
  },
  {
   "cell_type": "code",
   "execution_count": 16,
   "id": "daaaa948",
   "metadata": {},
   "outputs": [
    {
     "name": "stdout",
     "output_type": "stream",
     "text": [
      "{'water': 'squirtle', 'fire': 'charmender', 'grass': 'bulbasaur'}\n",
      "squirtle\n"
     ]
    }
   ],
   "source": [
    "pkmn={\"water\":\"squirtle\",\"fire\":\"charmender\",\"grass\":\"bulbasaur\"}\n",
    "\n",
    "print(pkmn)\n",
    "print(pkmn[\"water\"])"
   ]
  },
  {
   "cell_type": "code",
   "execution_count": 17,
   "id": "4ee1138a",
   "metadata": {},
   "outputs": [
    {
     "name": "stdout",
     "output_type": "stream",
     "text": [
      "{'p1': 'sceptile', 'p2': 'bulbasaur', 'p3': 'tutwik'}\n",
      "bulbasaur\n"
     ]
    }
   ],
   "source": [
    "#dictionary insde a dictionary\n",
    "\n",
    "pkmn2={\"water\":\"squirtle\",\"fire\":\"charmender\",\"grass\":{\"p1\":\"sceptile\",\"p2\":\"bulbasaur\",\"p3\":\"tutwik\"}}\n",
    "\n",
    "print(pkmn2[\"grass\"])\n",
    "print(pkmn2[\"grass\"][\"p2\"])"
   ]
  },
  {
   "cell_type": "code",
   "execution_count": 18,
   "id": "f5987ede",
   "metadata": {},
   "outputs": [
    {
     "name": "stdout",
     "output_type": "stream",
     "text": [
      "{'water': 'squirtle', 'fire': 'charmender', 'grass': 'bulbasaur', 'steel': 'steelix'}\n"
     ]
    }
   ],
   "source": [
    "#adding element to a dictionary\n",
    "pkmn[\"steel\"]=\"steelix\"\n",
    "print(pkmn)"
   ]
  },
  {
   "cell_type": "code",
   "execution_count": 19,
   "id": "32c133ad",
   "metadata": {},
   "outputs": [
    {
     "name": "stdout",
     "output_type": "stream",
     "text": [
      "{'water': 'squirtle', 'fire': 'charmender', 'grass': 'bulbasaur'}\n"
     ]
    }
   ],
   "source": [
    "#deleting an element from dictionary\n",
    "del pkmn[\"steel\"]\n",
    "print(pkmn)"
   ]
  },
  {
   "cell_type": "code",
   "execution_count": 20,
   "id": "f01eeee6",
   "metadata": {},
   "outputs": [
    {
     "name": "stdout",
     "output_type": "stream",
     "text": [
      "9\n",
      "dict_keys(['water', 'fire', 'grass'])\n",
      "dict_items([('water', 'squirtle'), ('fire', 'charmender'), ('grass', 'bulbasaur')])\n"
     ]
    }
   ],
   "source": [
    "#some functions of dictionary\n",
    "d1=pkmn #changing d1 will change pkmn\n",
    "d2=pkmn.copy() #elememts are copied into d2 (changind d2 wont change pkmn)\n",
    "print(d)\n",
    "print(d2.keys())\n",
    "print(d2.items())"
   ]
  },
  {
   "cell_type": "markdown",
   "id": "160a152b",
   "metadata": {},
   "source": [
    "# Sets\n"
   ]
  },
  {
   "cell_type": "code",
   "execution_count": 21,
   "id": "3a72e78d",
   "metadata": {},
   "outputs": [
    {
     "name": "stdout",
     "output_type": "stream",
     "text": [
      "<class 'set'>\n"
     ]
    }
   ],
   "source": [
    "s=set() #creating an empty set s\n",
    "print(type(s))"
   ]
  },
  {
   "cell_type": "code",
   "execution_count": 22,
   "id": "ce224442",
   "metadata": {},
   "outputs": [
    {
     "name": "stdout",
     "output_type": "stream",
     "text": [
      "{1, 2, 4, 5, 6}\n"
     ]
    }
   ],
   "source": [
    "s1=set([5,4,6,2,1]) #set containing an list\n",
    "print(s1)"
   ]
  },
  {
   "cell_type": "code",
   "execution_count": 23,
   "id": "3199ffd4",
   "metadata": {},
   "outputs": [
    {
     "name": "stdout",
     "output_type": "stream",
     "text": [
      "{1}\n",
      "{1}\n",
      "{1, 2}\n"
     ]
    }
   ],
   "source": [
    "s.add(1)\n",
    "print(s)\n",
    "s.add(1) #1 will only get added once , set is a collection of unique values\n",
    "print(s)\n",
    "s.add(2)\n",
    "print(s)"
   ]
  },
  {
   "cell_type": "code",
   "execution_count": 24,
   "id": "afd5ac61",
   "metadata": {},
   "outputs": [
    {
     "name": "stdout",
     "output_type": "stream",
     "text": [
      "{1, 2, 3}\n",
      "{2}\n"
     ]
    }
   ],
   "source": [
    "s1=s.union({1,2,3}) #s1 is the union of set s and {1,2,3}\n",
    "print(s1)\n",
    "s2=s.intersection({2,3,4}) #s2 is the intersection of s and the set {2,3,4}\n",
    "print(s2)"
   ]
  },
  {
   "cell_type": "markdown",
   "id": "a9508901",
   "metadata": {},
   "source": [
    "# If else statements"
   ]
  },
  {
   "cell_type": "code",
   "execution_count": 25,
   "id": "34953a1b",
   "metadata": {},
   "outputs": [
    {
     "name": "stdout",
     "output_type": "stream",
     "text": [
      "v2 is greater than v1\n"
     ]
    }
   ],
   "source": [
    "v1=3\n",
    "v2=4\n",
    "if v1>v2:\n",
    "    print(\"v1 is greater than v2 \")\n",
    "elif v1==v2:\n",
    "    print(\"v1 is equal to v2 \")\n",
    "else:\n",
    "    print(\"v2 is greater than v1\")\n",
    "    "
   ]
  },
  {
   "cell_type": "code",
   "execution_count": 26,
   "id": "38dfb6dc",
   "metadata": {},
   "outputs": [
    {
     "name": "stdout",
     "output_type": "stream",
     "text": [
      "5 is their in list\n",
      "10 is not their in list\n"
     ]
    }
   ],
   "source": [
    "list=[3,5,6,7,21]\n",
    "if 5 in list:  #in function\n",
    "    print(\"5 is their in list\")\n",
    "if 10 not in list: #not in function\n",
    "    print(\"10 is not their in list\")"
   ]
  },
  {
   "cell_type": "markdown",
   "id": "43dff732",
   "metadata": {},
   "source": [
    "# For loops\n"
   ]
  },
  {
   "cell_type": "code",
   "execution_count": 27,
   "id": "1daf0615",
   "metadata": {},
   "outputs": [
    {
     "name": "stdout",
     "output_type": "stream",
     "text": [
      "Hrithik\n",
      "Bhoumik\n",
      "Satwik\n"
     ]
    }
   ],
   "source": [
    "list=[\"Hrithik\",\"Bhoumik\",\"Satwik\"]\n",
    "for item in list: \n",
    "    #will run from 1st to last element basically item points to Hrithik first then Bhoumik and so on..... \n",
    "    print(item)"
   ]
  },
  {
   "cell_type": "markdown",
   "id": "e7b87196",
   "metadata": {},
   "source": [
    "list2=[[\"raichu\",99],[\"pikachu\",60],[\"sceptile\",120]]\n",
    "for pokemon , speed_stats in list2:  \n",
    "    #calling pokemon automatically points to first element i.e raichu and speed stats points to second element ie 99\n",
    "    print(pokemon)\n",
    "    print(speed_stats)\n"
   ]
  },
  {
   "cell_type": "code",
   "execution_count": 29,
   "id": "dacffed0",
   "metadata": {},
   "outputs": [
    {
     "name": "stdout",
     "output_type": "stream",
     "text": [
      "{'raichu': 99, 'pikachu': 60, 'sceptile': 120}\n",
      "raichu\n",
      "99\n",
      "pikachu\n",
      "60\n",
      "sceptile\n",
      "120\n"
     ]
    }
   ],
   "source": [
    "dict1=dict(list2) #converting a list into dictionary\n",
    "print(dict1) \n",
    "for pokemon , speed_stats in dict1.items():  \n",
    "    #calling pokemon automatically points to first element i.e raichu and speed stats points to second element ie 99\n",
    "    print(pokemon)\n",
    "    print(speed_stats)"
   ]
  },
  {
   "cell_type": "code",
   "execution_count": 30,
   "id": "ec82bf57",
   "metadata": {},
   "outputs": [
    {
     "name": "stdout",
     "output_type": "stream",
     "text": [
      "raichu\n",
      "pikachu\n",
      "sceptile\n"
     ]
    }
   ],
   "source": [
    "for item in dict1:\n",
    "    print(item)"
   ]
  },
  {
   "cell_type": "markdown",
   "id": "cf6a3b34",
   "metadata": {},
   "source": [
    "# While loop"
   ]
  },
  {
   "cell_type": "code",
   "execution_count": 31,
   "id": "cad9d037",
   "metadata": {},
   "outputs": [
    {
     "name": "stdout",
     "output_type": "stream",
     "text": [
      "0\n",
      "1\n",
      "2\n",
      "3\n",
      "4\n",
      "5\n"
     ]
    }
   ],
   "source": [
    "i=0\n",
    "while(i<6):\n",
    "    print(i)\n",
    "    i=i+1"
   ]
  },
  {
   "cell_type": "code",
   "execution_count": 32,
   "id": "c2d6b6e1",
   "metadata": {},
   "outputs": [
    {
     "name": "stdout",
     "output_type": "stream",
     "text": [
      "0\n",
      "1\n",
      "3\n",
      "4\n",
      "5\n",
      "6\n"
     ]
    }
   ],
   "source": [
    "i=0\n",
    "while(True):\n",
    "    if i==7:\n",
    "        break #breaks the entire loop \n",
    "    if i==2:\n",
    "        i=i+1\n",
    "        continue #only that particular iteration is broken and the next itetrations is contunued\n",
    "    print(i)\n",
    "    i=i+1"
   ]
  },
  {
   "cell_type": "markdown",
   "id": "855ccfef",
   "metadata": {},
   "source": [
    "# Opreators in python"
   ]
  },
  {
   "cell_type": "code",
   "execution_count": 33,
   "id": "33d9a6b0",
   "metadata": {},
   "outputs": [
    {
     "name": "stdout",
     "output_type": "stream",
     "text": [
      "12\n",
      "25\n",
      "1\n"
     ]
    }
   ],
   "source": [
    "#Arithematic opreators (general mathematical opreators)\n",
    "\n",
    "print( 5+7)\n",
    "print( 5**2)\n",
    "print( 5%2)"
   ]
  },
  {
   "cell_type": "code",
   "execution_count": 34,
   "id": "5caa18dc",
   "metadata": {},
   "outputs": [
    {
     "name": "stdout",
     "output_type": "stream",
     "text": [
      "5\n",
      "12\n"
     ]
    }
   ],
   "source": [
    "#Assignment opreators\n",
    "\n",
    "x=5         #asssining a value to a variable\n",
    "print(x)\n",
    "x+=7        # x=x+7\n",
    "print(x)"
   ]
  },
  {
   "cell_type": "code",
   "execution_count": 35,
   "id": "355ebf8d",
   "metadata": {},
   "outputs": [
    {
     "name": "stdout",
     "output_type": "stream",
     "text": [
      "False\n",
      "True\n",
      "True\n",
      "False\n"
     ]
    }
   ],
   "source": [
    "#Comparison opreators\n",
    "\n",
    "i=8\n",
    "print(i==5)\n",
    "print(i>5)\n",
    "print(i<10)\n",
    "print(i!=8)"
   ]
  },
  {
   "cell_type": "code",
   "execution_count": 36,
   "id": "d8922747",
   "metadata": {},
   "outputs": [
    {
     "name": "stdout",
     "output_type": "stream",
     "text": [
      "False\n",
      "False\n",
      "True\n",
      "True\n"
     ]
    }
   ],
   "source": [
    "#logical opreators\n",
    "\n",
    "a=True\n",
    "b=False\n",
    "c=9\n",
    "d=9\n",
    "e=5\n",
    "print(a and b) \n",
    "print (a & b) #& same as using and\n",
    "\n",
    "print(a or b)\n",
    "print(a | b) #|same as using or"
   ]
  },
  {
   "cell_type": "code",
   "execution_count": 37,
   "id": "86b27c06",
   "metadata": {},
   "outputs": [
    {
     "name": "stdout",
     "output_type": "stream",
     "text": [
      "True\n",
      "True\n",
      "True\n",
      "True\n"
     ]
    }
   ],
   "source": [
    "#Identity Opreators\n",
    "\n",
    "print(a is a)       #if same return true\n",
    "print(a is not b)   #if same return false\n",
    "print(c is d)\n",
    "print(c is not e)"
   ]
  },
  {
   "cell_type": "code",
   "execution_count": 38,
   "id": "4d1ec8b0",
   "metadata": {},
   "outputs": [
    {
     "name": "stdout",
     "output_type": "stream",
     "text": [
      "True\n",
      "False\n"
     ]
    }
   ],
   "source": [
    "#Membership Opreators\n",
    "\n",
    "listz=[5,4,6,21,89,63,54,85]\n",
    "print( 5 in listz)\n",
    "print( 5 not in listz)\n"
   ]
  },
  {
   "cell_type": "code",
   "execution_count": 39,
   "id": "95455c69",
   "metadata": {},
   "outputs": [
    {
     "name": "stdout",
     "output_type": "stream",
     "text": [
      "0\n",
      "3\n"
     ]
    }
   ],
   "source": [
    "#Bitwise opreator\n",
    "# 0=00\n",
    "# 1=01\n",
    "# 2=10\n",
    "# 3=11\n",
    "\n",
    "print(1 & 2) \n",
    "print(1 | 2)"
   ]
  },
  {
   "cell_type": "markdown",
   "id": "e62a1058",
   "metadata": {},
   "source": [
    "# Functions and DocStrings"
   ]
  },
  {
   "cell_type": "code",
   "execution_count": 40,
   "id": "a03e171d",
   "metadata": {},
   "outputs": [
    {
     "name": "stdout",
     "output_type": "stream",
     "text": [
      "12\n"
     ]
    }
   ],
   "source": [
    "a=5\n",
    "b=7\n",
    "c=sum((a,b)) #build in function\n",
    "print(c)"
   ]
  },
  {
   "cell_type": "code",
   "execution_count": 41,
   "id": "0b603e36",
   "metadata": {},
   "outputs": [
    {
     "name": "stdout",
     "output_type": "stream",
     "text": [
      "hello world!!\n"
     ]
    }
   ],
   "source": [
    "#Creating a function\n",
    "#function with no paramaters\n",
    "def function1():\n",
    "    print(\"hello world!!\")\n",
    "\n",
    "function1()"
   ]
  },
  {
   "cell_type": "code",
   "execution_count": 42,
   "id": "d6d02933",
   "metadata": {},
   "outputs": [
    {
     "name": "stdout",
     "output_type": "stream",
     "text": [
      "5.0\n",
      "5.0\n",
      "None\n"
     ]
    }
   ],
   "source": [
    "#function with paramaters\n",
    "\n",
    "def function2(a,b):\n",
    "    c=a/b\n",
    "    print(c)\n",
    "    \n",
    "function2(10,2)\n",
    "v=function2(10,2)\n",
    "print(v)     #will return NONE as the return is not defined in the function\n"
   ]
  },
  {
   "cell_type": "code",
   "execution_count": 43,
   "id": "bb84876e",
   "metadata": {},
   "outputs": [
    {
     "name": "stdout",
     "output_type": "stream",
     "text": [
      "5.0\n"
     ]
    }
   ],
   "source": [
    "#re-modeling the function\n",
    "\n",
    "def function3(a,b):\n",
    "\n",
    "    c=a/b\n",
    "    return c      #return statement\n",
    "\n",
    "v=function3(10,2) #will store the value of c in variable v\n",
    "print(v) "
   ]
  },
  {
   "cell_type": "code",
   "execution_count": 44,
   "id": "3fcbc8ce",
   "metadata": {},
   "outputs": [
    {
     "name": "stdout",
     "output_type": "stream",
     "text": [
      "This function performs division\n"
     ]
    },
    {
     "data": {
      "text/plain": [
       "3.0"
      ]
     },
     "execution_count": 44,
     "metadata": {},
     "output_type": "execute_result"
    }
   ],
   "source": [
    "#Function with docstring \n",
    "\n",
    "def function4(a,b):\n",
    "    \"\"\"This function performs division\"\"\" #this is called as docstring of a function\n",
    "    c=a/b\n",
    "    return c\n",
    "\n",
    "print(function4.__doc__) \n",
    "function4(15,5)"
   ]
  },
  {
   "cell_type": "markdown",
   "id": "f514284f",
   "metadata": {},
   "source": [
    "# Try and exception handeling in Python"
   ]
  },
  {
   "cell_type": "code",
   "execution_count": 45,
   "id": "60bea42e",
   "metadata": {},
   "outputs": [
    {
     "name": "stdout",
     "output_type": "stream",
     "text": [
      "name 'n1' is not defined\n"
     ]
    }
   ],
   "source": [
    "# n1=input(\"The first number is \")\n",
    "# n2=input(\"The second number is \")\n",
    "try:\n",
    "    print(\"The sum of the two numbers is \",int(n1)+int(n2))\n",
    "    #will try to execute this , if this throws an error the program will not stop but instead...\n",
    "    \n",
    "except Exception as e:\n",
    "    #...the program will print the error statement and further execution of the code will take place\n",
    "    print(e)"
   ]
  },
  {
   "cell_type": "markdown",
   "id": "b0038655",
   "metadata": {},
   "source": [
    "# File IO basics"
   ]
  },
  {
   "cell_type": "code",
   "execution_count": 50,
   "id": "3390b43c",
   "metadata": {},
   "outputs": [
    {
     "data": {
      "text/plain": [
       "'\\n\\n\"r\" - open file in reading mode\\n\"w\" - open file in writing mode\\n\"x\" - create file if not existing\\n\"a\" - add more context at the end of file\\n\"t\" - open file in text mode\\n\"b\" - open file in binnary mode\\n\"+\" - read and right mode\\n\\n'"
      ]
     },
     "execution_count": 50,
     "metadata": {},
     "output_type": "execute_result"
    }
   ],
   "source": [
    "#File to Basics\n",
    "\"\"\"\n",
    "\n",
    "\"r\" - open file in reading mode- default mode\n",
    "\"w\" - open file in writing mode\n",
    "\"x\" - create file if not existing\n",
    "\"a\" - add more context at the end of file\n",
    "\"t\" - open file in text mode- default mode\n",
    "\"b\" - open file in binnary mode\n",
    "\"+\" - read and right mode\n",
    "\n",
    "\"\"\""
   ]
  },
  {
   "cell_type": "code",
   "execution_count": 35,
   "id": "72de7261",
   "metadata": {},
   "outputs": [],
   "source": [
    "#writing in a file"
   ]
  },
  {
   "cell_type": "code",
   "execution_count": 36,
   "id": "9b9b36d3",
   "metadata": {},
   "outputs": [
    {
     "data": {
      "text/plain": [
       "<_io.TextIOWrapper name='hrithik.txt' mode='r' encoding='cp1252'>"
      ]
     },
     "execution_count": 36,
     "metadata": {},
     "output_type": "execute_result"
    }
   ],
   "source": [
    " open(\"hrithik.txt\") #opening an already existing file\""
   ]
  },
  {
   "cell_type": "code",
   "execution_count": 37,
   "id": "2bda6681",
   "metadata": {},
   "outputs": [],
   "source": [
    "f=open(\"hrithik.txt\",\"r\") #creting a file pointer to open a file,then we can use file pointer to perform various opreations\n"
   ]
  },
  {
   "cell_type": "code",
   "execution_count": 38,
   "id": "ac23314e",
   "metadata": {},
   "outputs": [
    {
     "name": "stdout",
     "output_type": "stream",
     "text": [
      "hrithik is a good boy\n",
      "he loves watching cricket\n",
      "his favoutite player is rohit sharma\n",
      "\n"
     ]
    }
   ],
   "source": [
    "content=f.read()  #will read the entire file\n",
    "print(content)\n"
   ]
  },
  {
   "cell_type": "code",
   "execution_count": 40,
   "id": "37b2143e",
   "metadata": {},
   "outputs": [
    {
     "name": "stdout",
     "output_type": "stream",
     "text": [
      "\n",
      "\n"
     ]
    }
   ],
   "source": [
    "content=f.read(7) #will read first 7 letters\n",
    "print(content)\n",
    "content=f.read(7) #will read next 7 letters\n",
    "print(content)\n",
    "\n",
    "f.close() #closing a file"
   ]
  },
  {
   "cell_type": "code",
   "execution_count": 57,
   "id": "00a22af6",
   "metadata": {},
   "outputs": [],
   "source": [
    "f=open(\"hrithik.txt\",\"r\") #opening file again\n",
    "content=f.read()"
   ]
  },
  {
   "cell_type": "code",
   "execution_count": 58,
   "id": "ece4d2f2",
   "metadata": {},
   "outputs": [
    {
     "name": "stdout",
     "output_type": "stream",
     "text": [
      "h\n",
      "r\n",
      "i\n",
      "t\n",
      "h\n",
      "i\n",
      "k\n",
      " \n",
      "i\n",
      "s\n",
      " \n",
      "a\n",
      " \n",
      "g\n",
      "o\n",
      "o\n",
      "d\n",
      " \n",
      "b\n",
      "o\n",
      "y\n",
      "\n",
      "\n",
      "h\n",
      "e\n",
      " \n",
      "l\n",
      "o\n",
      "v\n",
      "e\n",
      "s\n",
      " \n",
      "w\n",
      "a\n",
      "t\n",
      "c\n",
      "h\n",
      "i\n",
      "n\n",
      "g\n",
      " \n",
      "c\n",
      "r\n",
      "i\n",
      "c\n",
      "k\n",
      "e\n",
      "t\n",
      "\n",
      "\n",
      "h\n",
      "i\n",
      "s\n",
      " \n",
      "f\n",
      "a\n",
      "v\n",
      "o\n",
      "u\n",
      "t\n",
      "i\n",
      "t\n",
      "e\n",
      " \n",
      "p\n",
      "l\n",
      "a\n",
      "y\n",
      "e\n",
      "r\n",
      " \n",
      "i\n",
      "s\n",
      " \n",
      "r\n",
      "o\n",
      "h\n",
      "i\n",
      "t\n",
      " \n",
      "s\n",
      "h\n",
      "a\n",
      "r\n",
      "m\n",
      "a\n",
      "\n",
      "\n"
     ]
    }
   ],
   "source": [
    "for word in content:\n",
    "    print(word)"
   ]
  },
  {
   "cell_type": "code",
   "execution_count": 61,
   "id": "c48151b2",
   "metadata": {},
   "outputs": [],
   "source": [
    "for line in f:\n",
    "    print(line) #wont read anything as content has already read the file\n",
    "    \n",
    "f.close()"
   ]
  },
  {
   "cell_type": "code",
   "execution_count": 66,
   "id": "6460dfa1",
   "metadata": {},
   "outputs": [
    {
     "name": "stdout",
     "output_type": "stream",
     "text": [
      "hrithik is a good boy\n",
      "\n",
      "he loves watching cricket\n",
      "\n"
     ]
    }
   ],
   "source": [
    "#readline function\n",
    "f=open(\"hrithik.txt\",\"r\") #opening file again\n",
    "print(f.readline())\n",
    "print(f.readline())\n",
    "f.close()"
   ]
  },
  {
   "cell_type": "code",
   "execution_count": 77,
   "id": "9b31cc0d",
   "metadata": {},
   "outputs": [],
   "source": [
    "#making a file and writing into it(writing mode)\n",
    "f=open(\"hrithik2.txt\",\"w\") #will make a new file if the file does not already exist\n",
    "f.write(\"Hello !! I am Hrithik.\") #will add this into the file \n",
    "f.close()"
   ]
  },
  {
   "cell_type": "code",
   "execution_count": 82,
   "id": "419601ef",
   "metadata": {},
   "outputs": [
    {
     "name": "stdout",
     "output_type": "stream",
     "text": [
      "6\n"
     ]
    }
   ],
   "source": [
    "#adding into end of file by keeping the already present information( append mode)\n",
    "f=open(\"hrithik2.txt\",\"a\")\n",
    "f.write(\"Hi!!\") #this will get added at the end of file \n",
    "a=f.write(\"hellow\") \n",
    "print(a) #will print the number of characters\n",
    "f.close()"
   ]
  },
  {
   "cell_type": "code",
   "execution_count": 1,
   "id": "79e0b4f1",
   "metadata": {},
   "outputs": [
    {
     "name": "stdout",
     "output_type": "stream",
     "text": [
      "Hello !! I am Hrithik.Hi!!Hi!!Hi!!Hi!!hellowHi!!hellowThankyouThankyou\n"
     ]
    }
   ],
   "source": [
    "f=open(\"hrithik2.txt\",\"r+\") #opening in read and write mode\n",
    "print(f.read())\n",
    "f.write(\"Thankyou\")\n",
    "f.close()"
   ]
  },
  {
   "cell_type": "code",
   "execution_count": 9,
   "id": "dbc9a1c9",
   "metadata": {},
   "outputs": [
    {
     "name": "stdout",
     "output_type": "stream",
     "text": [
      "Hello !!\n",
      "\n",
      "9\n",
      "lo !!\n",
      "\n"
     ]
    }
   ],
   "source": [
    "# tell and seek function\n",
    "\n",
    "f=open(\"hrithik2.txt\")\n",
    "print(f.readline())\n",
    "print(f.tell())      # tells at which position f is present currently\n",
    "f.seek(3)            # resets f to the mentioned position\n",
    "print(f.readline())\n",
    "f.close()\n"
   ]
  },
  {
   "cell_type": "code",
   "execution_count": 13,
   "id": "dca0e1d7",
   "metadata": {},
   "outputs": [
    {
     "name": "stdout",
     "output_type": "stream",
     "text": [
      "hrithik\n"
     ]
    }
   ],
   "source": [
    "# using block to open file\n",
    "#by usihng with function we dont need to close the file , with function automatically does it for us\n",
    "with open(\"hrithik.txt\",\"rt\") as f:\n",
    "    a=f.read(7)\n",
    "    print(a)\n",
    "    "
   ]
  },
  {
   "cell_type": "markdown",
   "id": "2f208306",
   "metadata": {},
   "source": [
    "# Global and Local variables\n"
   ]
  },
  {
   "cell_type": "code",
   "execution_count": 12,
   "id": "9ea1e637",
   "metadata": {},
   "outputs": [
    {
     "name": "stdout",
     "output_type": "stream",
     "text": [
      "5 8\n",
      "This is me  i have printed \n",
      "10\n"
     ]
    }
   ],
   "source": [
    "l=10   #Global variable\n",
    "def function1(n):\n",
    "    l=5  #local variable:can be acessed only in this function\n",
    "    m=8  #local variable \n",
    "    print(l,m) #will print local variables that are present inside this function\n",
    "    print(n,\"i have printed \")\n",
    "\n",
    "function1(\"This is me \")\n",
    "print(l) #will print global variable "
   ]
  },
  {
   "cell_type": "code",
   "execution_count": 13,
   "id": "91b191cf",
   "metadata": {},
   "outputs": [],
   "source": [
    "l=10 #gLobal variable\n",
    "def function2():\n",
    "    l=l+45 #will throw an error as global variable cannot be changed\n",
    "    print(l)\n",
    "\n",
    "# function2()   #will throw an error\n"
   ]
  },
  {
   "cell_type": "code",
   "execution_count": 14,
   "id": "1ae166d4",
   "metadata": {},
   "outputs": [
    {
     "name": "stdout",
     "output_type": "stream",
     "text": [
      "55\n"
     ]
    }
   ],
   "source": [
    "l=10 #gLobal variable\n",
    "def function3():\n",
    "    global l #giving permission to function to make a change in global variable\n",
    "    l=l+45 \n",
    "    print(l)\n",
    "\n",
    "function3()\n",
    "\n"
   ]
  },
  {
   "cell_type": "code",
   "execution_count": 19,
   "id": "02d8b1ce",
   "metadata": {},
   "outputs": [
    {
     "name": "stdout",
     "output_type": "stream",
     "text": [
      "before calling rohan() 20\n",
      "after calling rohan() 20\n",
      "88\n"
     ]
    }
   ],
   "source": [
    "#Advance example\n",
    "def harry():\n",
    "    x=20\n",
    "    def rohan ():\n",
    "        global x\n",
    "        x=88\n",
    "    print(\"before calling rohan()\",x)\n",
    "    rohan()\n",
    "    print(\"after calling rohan()\",x)\n",
    "    \n",
    "harry()\n",
    "print(x) #will create an global variable and print it\n",
    "        "
   ]
  },
  {
   "cell_type": "code",
   "execution_count": 17,
   "id": "9bb6e771",
   "metadata": {},
   "outputs": [
    {
     "data": {
      "text/plain": [
       "'\\nthe x=20 present in harry() is a local variable of the function. so doing global x wont change anything as \\ntheir is no global x present (here global x means x present outside the function) so in the entire function \\nand its nested function the value of x reamains 20\\n'"
      ]
     },
     "execution_count": 17,
     "metadata": {},
     "output_type": "execute_result"
    }
   ],
   "source": [
    "\"\"\"\n",
    "the x=20 present in harry() is a local variable of the function. so doing global x wont change anything as \n",
    "their is no global x present (here global x means x present outside the function) so in the entire function \n",
    "and its nested function the value of x reamains 20\n",
    "\"\"\""
   ]
  },
  {
   "cell_type": "code",
   "execution_count": null,
   "id": "9c27108c",
   "metadata": {},
   "outputs": [],
   "source": [
    "#Advance example 2\n",
    "x=25 #global variable\n",
    "def harry():\n",
    "    x=20 #local variable\n",
    "    def rohan ():\n",
    "        global x #this will change global x\n",
    "        x=88\n",
    "    print(\"before calling rohan()\",x)\n",
    "    rohan()\n",
    "    print(\"after calling rohan()\",x) #inside the finction local variable is present so its value will be printed here\n",
    "    \n",
    "harry()\n",
    "print(x)"
   ]
  },
  {
   "cell_type": "markdown",
   "id": "2656d791",
   "metadata": {},
   "source": [
    "# Recursions\n"
   ]
  },
  {
   "cell_type": "code",
   "execution_count": 3,
   "id": "89aeaa3b",
   "metadata": {},
   "outputs": [
    {
     "name": "stdout",
     "output_type": "stream",
     "text": [
      "Enter the number 5\n"
     ]
    },
    {
     "data": {
      "text/plain": [
       "120"
      ]
     },
     "execution_count": 3,
     "metadata": {},
     "output_type": "execute_result"
    }
   ],
   "source": [
    "# factorial using itetrative method\n",
    "def factorial_iterative(n):\n",
    "    fac=1\n",
    "    for i in range (n):\n",
    "        fac=fac*(i+1)\n",
    "    return fac\n",
    "   \n",
    "number=int(input(\"Enter the number \"))\n",
    "factorial_iterative(5)"
   ]
  },
  {
   "cell_type": "code",
   "execution_count": 6,
   "id": "89022e07",
   "metadata": {},
   "outputs": [
    {
     "name": "stdout",
     "output_type": "stream",
     "text": [
      "Enter the number 5\n"
     ]
    },
    {
     "data": {
      "text/plain": [
       "120"
      ]
     },
     "execution_count": 6,
     "metadata": {},
     "output_type": "execute_result"
    }
   ],
   "source": [
    "#factorial by recursive method\n",
    "\n",
    "number=int(input(\"Enter the number \"))\n",
    "\n",
    "def factorial_recursive(n):\n",
    "    if n==1 or n==0:\n",
    "        return 1\n",
    "    else:\n",
    "        return n*factorial_recursive(n-1)\n",
    "    \n",
    "    \n",
    "factorial_recursive(5)\n",
    "    \n",
    "    "
   ]
  },
  {
   "cell_type": "code",
   "execution_count": 4,
   "id": "b4938a44",
   "metadata": {},
   "outputs": [
    {
     "data": {
      "text/plain": [
       "3"
      ]
     },
     "execution_count": 4,
     "metadata": {},
     "output_type": "execute_result"
    }
   ],
   "source": [
    "#Fibonacci series using recursion\n",
    "\n",
    "def fib(n):\n",
    "    if n==0:\n",
    "        return 0\n",
    "    elif n==1:\n",
    "        return 1\n",
    "    else :\n",
    "        return fib(n-1)+fib(n-2)\n",
    "    \n",
    "fib(4)"
   ]
  },
  {
   "cell_type": "markdown",
   "id": "79b1bc71",
   "metadata": {},
   "source": [
    "# Lambda Functions or anonymous functions"
   ]
  },
  {
   "cell_type": "code",
   "execution_count": 3,
   "id": "cf179146",
   "metadata": {},
   "outputs": [
    {
     "data": {
      "text/plain": [
       "1"
      ]
     },
     "execution_count": 3,
     "metadata": {},
     "output_type": "execute_result"
    }
   ],
   "source": [
    "def minus(a,b):\n",
    "    return a-b\n",
    "minus(9,8)"
   ]
  },
  {
   "cell_type": "code",
   "execution_count": 5,
   "id": "0ef3bf1f",
   "metadata": {},
   "outputs": [
    {
     "data": {
      "text/plain": [
       "2"
      ]
     },
     "execution_count": 5,
     "metadata": {},
     "output_type": "execute_result"
    }
   ],
   "source": [
    "#lambda function\n",
    "minus = lambda x,y:x-y\n",
    "minus(9,7)"
   ]
  },
  {
   "cell_type": "code",
   "execution_count": 8,
   "id": "17c23880",
   "metadata": {},
   "outputs": [
    {
     "name": "stdout",
     "output_type": "stream",
     "text": [
      "[[16, 1], [4, 5], [0, 5]]\n"
     ]
    }
   ],
   "source": [
    "#Advance example\n",
    "def a_first(a):\n",
    "    return a[1]\n",
    "a=[[4,5],[16,1],[0,5]]\n",
    "a.sort(key=a_first)\n",
    "print(a)"
   ]
  },
  {
   "cell_type": "code",
   "execution_count": 9,
   "id": "85ab061a",
   "metadata": {},
   "outputs": [
    {
     "name": "stdout",
     "output_type": "stream",
     "text": [
      "[[16, 1], [4, 5], [0, 5]]\n"
     ]
    }
   ],
   "source": [
    "a=[[4,5],[16,1],[0,5]]\n",
    "a.sort(key=lambda x:x[1])\n",
    "print(a)"
   ]
  },
  {
   "cell_type": "markdown",
   "id": "02275634",
   "metadata": {},
   "source": [
    " # Using Python extensions and build in modules"
   ]
  },
  {
   "cell_type": "code",
   "execution_count": 13,
   "id": "b3304b50",
   "metadata": {},
   "outputs": [
    {
     "name": "stdout",
     "output_type": "stream",
     "text": [
      "2\n",
      "0.2891763517006991\n",
      "Ajj Tak\n"
     ]
    }
   ],
   "source": [
    "import random #importing a module\n",
    "\n",
    "\n",
    "#use official python documentation to get to know more functions \n",
    "random_number=random.randint(0,4)\n",
    "print(random_number)\n",
    "\n",
    "rand=random.random()\n",
    "print(rand)\n",
    "\n",
    "lst=[\"Ajj Tak\",\"CN\",\"POGO\",\"NICK\"]\n",
    "choice=random.choice(lst)\n",
    "print(choice)"
   ]
  },
  {
   "cell_type": "code",
   "execution_count": 14,
   "id": "25a07977",
   "metadata": {},
   "outputs": [
    {
     "data": {
      "text/plain": [
       "'\\npip install module_name\\n'"
      ]
     },
     "execution_count": 14,
     "metadata": {},
     "output_type": "execute_result"
    }
   ],
   "source": [
    "#installing a module\n",
    "\"\"\"\n",
    "pip install module_name\n",
    "\"\"\""
   ]
  },
  {
   "cell_type": "markdown",
   "id": "44d6b2e5",
   "metadata": {},
   "source": [
    " # F strings\n",
    " "
   ]
  },
  {
   "cell_type": "code",
   "execution_count": 3,
   "id": "28d68f50",
   "metadata": {},
   "outputs": [
    {
     "name": "stdout",
     "output_type": "stream",
     "text": [
      "This is Hrithiik\n"
     ]
    }
   ],
   "source": [
    "#puting variables inside strings\n",
    "\n",
    "me=\"Hrithiik\"\n",
    "a=\"This is %s\" %me\n",
    "print(a)"
   ]
  },
  {
   "cell_type": "code",
   "execution_count": 10,
   "id": "8f5b4e94",
   "metadata": {},
   "outputs": [
    {
     "name": "stdout",
     "output_type": "stream",
     "text": [
      "I am  Hrithiik and this is my friend hari\n"
     ]
    }
   ],
   "source": [
    "#puting variables inside strings\n",
    "\n",
    "me=\"Hrithik\"\n",
    "you=\"hari\"\n",
    "a=\"I am  %s and this is my friend %s\" %(me,you)\n",
    "print(a)"
   ]
  },
  {
   "cell_type": "code",
   "execution_count": 13,
   "id": "402716ef",
   "metadata": {},
   "outputs": [
    {
     "name": "stdout",
     "output_type": "stream",
     "text": [
      "I am  Hrithiik and this is my friend hari\n"
     ]
    }
   ],
   "source": [
    "#dot format \n",
    "\n",
    "me=\"Hrithik\"\n",
    "you=\"hari\"\n",
    "a=\"I am  {} and this is my friend {}\" \n",
    "b=a.format(me,you)\n",
    "print(b)"
   ]
  },
  {
   "cell_type": "code",
   "execution_count": 14,
   "id": "16dab1dc",
   "metadata": {},
   "outputs": [],
   "source": [
    "#finally F strings"
   ]
  },
  {
   "cell_type": "code",
   "execution_count": 17,
   "id": "3f5351de",
   "metadata": {},
   "outputs": [
    {
     "name": "stdout",
     "output_type": "stream",
     "text": [
      "I am Hrithik and this is my friend hari , 0.5253219888177297\n"
     ]
    }
   ],
   "source": [
    "import math\n",
    "me=\"Hrithik\"\n",
    "you=\"hari\"\n",
    "a=f\"I am {me} and this is my friend {you} , {math.cos(45)}\"\n",
    "print(a)"
   ]
  },
  {
   "cell_type": "markdown",
   "id": "e9d55e80",
   "metadata": {},
   "source": [
    "#   (* args) and (**kwargs)\n"
   ]
  },
  {
   "cell_type": "code",
   "execution_count": 6,
   "id": "e96cd383",
   "metadata": {},
   "outputs": [
    {
     "data": {
      "text/plain": [
       "'\\n\\ndef printData(a,b):\\n    print(a,b)\\n\\nprintData(\"Hrithik\",\"Bhoumik\",\"Satwik\")\\n\\n'"
      ]
     },
     "execution_count": 6,
     "metadata": {},
     "output_type": "execute_result"
    }
   ],
   "source": [
    "\"\"\"\n",
    "\n",
    "def printData(a,b):\n",
    "    print(a,b)\n",
    "\n",
    "printData(\"Hrithik\",\"Bhoumik\",\"Satwik\")\n",
    "\n",
    "\"\"\"\n",
    "#will throw an error as extra arguments cannot be passed \n",
    "#to solve this *args and **kwargs was introduced\n"
   ]
  },
  {
   "cell_type": "code",
   "execution_count": 8,
   "id": "7fc2caa2",
   "metadata": {},
   "outputs": [
    {
     "name": "stdout",
     "output_type": "stream",
     "text": [
      "Hrithik\n"
     ]
    }
   ],
   "source": [
    "def funargs(*args):\n",
    "    print(args[0])\n",
    "    \n",
    "list=[\"Hrithik\",\"Satwik\",\"Bhoumik\"] #a list can be passed as an argument to the function using *args\n",
    "funargs(*list)"
   ]
  },
  {
   "cell_type": "code",
   "execution_count": 13,
   "id": "0b9244dc",
   "metadata": {},
   "outputs": [
    {
     "name": "stdout",
     "output_type": "stream",
     "text": [
      "Hrithik\n",
      "Satwik\n",
      "Bhoumik\n"
     ]
    }
   ],
   "source": [
    "#printing an entire list\n",
    "#NOTE: *args used inside the function can be anything ie *anything will also do\n",
    "def funargs(*args): \n",
    "    for items in args:\n",
    "        print(items)\n",
    "    \n",
    "list=[\"Hrithik\",\"Satwik\",\"Bhoumik\"] #a list can be passed as an argument to the function using *args\n",
    "funargs(*list)"
   ]
  },
  {
   "cell_type": "code",
   "execution_count": 12,
   "id": "37eeda3e",
   "metadata": {},
   "outputs": [
    {
     "name": "stdout",
     "output_type": "stream",
     "text": [
      "Hello, Everyone !!\n",
      "Hrithik\n",
      "Satwik\n",
      "Bhoumik\n"
     ]
    }
   ],
   "source": [
    "def funargs(normal,*args):  #can also use normal arguments along with it \n",
    "    print(normal)\n",
    "    for items in args:\n",
    "        print(items)\n",
    "    \n",
    "list=[\"Hrithik\",\"Satwik\",\"Bhoumik\"] #a list can be passed as an argument to the function using *args\n",
    "normal=\"Hello, Everyone !!\"\n",
    "funargs(normal,*list)"
   ]
  },
  {
   "cell_type": "code",
   "execution_count": 16,
   "id": "38018d51",
   "metadata": {},
   "outputs": [
    {
     "data": {
      "text/plain": [
       "' \\n\\ndef funargs(*args,normal):           #this kind of representation will throw an error\\n    print(normal)\\n    for items in args:\\n        print(items)\\n    \\nlist=[\"Hrithik\",\"Satwik\",\"Bhoumik\"]  \\nnormal=\"Hello, Everyone !!\"\\nfunargs(*list,normal)\\n\\n'"
      ]
     },
     "execution_count": 16,
     "metadata": {},
     "output_type": "execute_result"
    }
   ],
   "source": [
    "#NOTE : the normal argument has to be passed first or will throw an error\n",
    "\n",
    "\"\"\" \n",
    "\n",
    "def funargs(*args,normal):           #this kind of representation will throw an error\n",
    "    print(normal)\n",
    "    for items in args:\n",
    "        print(items)\n",
    "    \n",
    "list=[\"Hrithik\",\"Satwik\",\"Bhoumik\"]  \n",
    "normal=\"Hello, Everyone !!\"\n",
    "funargs(*list,normal)\n",
    "\n",
    "\"\"\"\n",
    "\n",
    "\n",
    "\n",
    "#   general order \n",
    "#  1.Normal Arguments\n",
    "#  2. *args\n",
    "#  3. **kwargs"
   ]
  },
  {
   "cell_type": "code",
   "execution_count": 21,
   "id": "fe2e995c",
   "metadata": {},
   "outputs": [
    {
     "name": "stdout",
     "output_type": "stream",
     "text": [
      "Hello, Everyone !!\n",
      "Hrithik\n",
      "Satwik\n",
      "Bhoumik\n",
      "Hrithik is a Good boy\n",
      "Red is a  Bad Boy\n"
     ]
    }
   ],
   "source": [
    "#to pass a dictionary we use **kwargs\n",
    "\n",
    "def funargs(normal,*args,**kwargs):  #can also use normal arguments along with it \n",
    "    print(normal)\n",
    "    \n",
    "    for items in args:  #printing list using *args\n",
    "        print(items)\n",
    "        \n",
    "    for key,values in kwargs.items():   #printing dictionary using **kwargs\n",
    "        print(f\"{key} is a {values}\")  #using f_strings\n",
    "    \n",
    "    \n",
    "list=[\"Hrithik\",\"Satwik\",\"Bhoumik\"] #a list can be passed as an argument to the function using *args\n",
    "normal=\"Hello, Everyone !!\"\n",
    "dict={\"Hrithik\":\"Good boy\",\"Red\": \" Bad Boy\"}\n",
    "funargs(normal,*list,**dict)"
   ]
  },
  {
   "cell_type": "markdown",
   "id": "dfbdff39",
   "metadata": {},
   "source": [
    "# time module"
   ]
  },
  {
   "cell_type": "code",
   "execution_count": 22,
   "id": "91379428",
   "metadata": {},
   "outputs": [
    {
     "name": "stdout",
     "output_type": "stream",
     "text": [
      "1657734844.848108\n"
     ]
    }
   ],
   "source": [
    "import time \n",
    "print(time.time()) #printing current time"
   ]
  },
  {
   "cell_type": "code",
   "execution_count": 23,
   "id": "fe822111",
   "metadata": {},
   "outputs": [
    {
     "name": "stdout",
     "output_type": "stream",
     "text": [
      "I am Hrithik\n",
      "I am Hrithik\n",
      "I am Hrithik\n",
      "I am Hrithik\n",
      "I am Hrithik\n",
      "I am Hrithik\n",
      "I am Hrithik\n",
      "I am Hrithik\n",
      "I am Hrithik\n",
      "I am Hrithik\n",
      "I am Hrithik\n",
      "I am Hrithik\n",
      "I am Hrithik\n",
      "I am Hrithik\n",
      "I am Hrithik\n",
      "I am Hrithik\n",
      "I am Hrithik\n",
      "I am Hrithik\n",
      "I am Hrithik\n",
      "I am Hrithik\n",
      "I am Hrithik\n",
      "I am Hrithik\n",
      "I am Hrithik\n",
      "I am Hrithik\n",
      "I am Hrithik\n",
      "I am Hrithik\n",
      "I am Hrithik\n",
      "I am Hrithik\n",
      "I am Hrithik\n",
      "I am Hrithik\n",
      "I am Hrithik\n",
      "I am Hrithik\n",
      "I am Hrithik\n",
      "I am Hrithik\n",
      "I am Hrithik\n",
      "I am Hrithik\n",
      "I am Hrithik\n",
      "I am Hrithik\n",
      "I am Hrithik\n",
      "I am Hrithik\n",
      "I am Hrithik\n",
      "I am Hrithik\n",
      "I am Hrithik\n",
      "I am Hrithik\n",
      "I am Hrithik\n",
      "I am Hrithik\n",
      "I am Hrithik\n",
      "I am Hrithik\n",
      "I am Hrithik\n",
      "I am Hrithik\n",
      "I am Hrithik\n",
      "I am Hrithik\n",
      "I am Hrithik\n",
      "I am Hrithik\n",
      "I am Hrithik\n",
      "I am Hrithik\n",
      "I am Hrithik\n",
      "I am Hrithik\n",
      "I am Hrithik\n",
      "I am Hrithik\n",
      "I am Hrithik\n",
      "I am Hrithik\n",
      "I am Hrithik\n",
      "I am Hrithik\n",
      "I am Hrithik\n",
      "I am Hrithik\n",
      "I am Hrithik\n",
      "I am Hrithik\n",
      "I am Hrithik\n",
      "I am Hrithik\n",
      "I am Hrithik\n",
      "I am Hrithik\n",
      "I am Hrithik\n",
      "I am Hrithik\n",
      "I am Hrithik\n",
      "I am Hrithik\n",
      "I am Hrithik\n",
      "I am Hrithik\n",
      "I am Hrithik\n",
      "I am Hrithik\n",
      "I am Hrithik\n",
      "I am Hrithik\n",
      "I am Hrithik\n",
      "I am Hrithik\n",
      "I am Hrithik\n",
      "I am Hrithik\n",
      "I am Hrithik\n",
      "I am Hrithik\n",
      "I am Hrithik\n",
      "I am Hrithik\n",
      "I am Hrithik\n",
      "I am Hrithik\n",
      "I am Hrithik\n",
      "I am Hrithik\n",
      "I am Hrithik\n",
      "I am Hrithik\n",
      "I am Hrithik\n",
      "I am Hrithik\n",
      "I am Hrithik\n",
      "I am Hrithik\n",
      "Time required to run while loop 0.006000995635986328  seconds\n",
      "Time required to run for loop   0.0020008087158203125  seconds\n"
     ]
    }
   ],
   "source": [
    "import time\n",
    "\n",
    "initial = time.time() \n",
    "k=0\n",
    "\n",
    "while(k<50):\n",
    "    print(\"I am Hrithik\")\n",
    "    k+=1\n",
    "a=time.time()-initial    #time required to run the while loop\n",
    "initial2=time.time()\n",
    "\n",
    "for i in range(50):\n",
    "    print(\"I am Hrithik\") \n",
    "b=time.time()-initial2  #time required to run for loop\n",
    "\n",
    "print(\"Time required to run while loop\",a,\" seconds\")\n",
    "print(\"Time required to run for loop  \",b, \" seconds\")"
   ]
  },
  {
   "cell_type": "code",
   "execution_count": 24,
   "id": "da6ba6eb",
   "metadata": {},
   "outputs": [
    {
     "name": "stdout",
     "output_type": "stream",
     "text": [
      "Wed Jul 13 23:24:29 2022\n"
     ]
    }
   ],
   "source": [
    "#getting local time\n",
    "localtime=time.asctime(time.localtime(time.time()))\n",
    "print(localtime)"
   ]
  },
  {
   "cell_type": "code",
   "execution_count": 25,
   "id": "c90f6a2f",
   "metadata": {},
   "outputs": [
    {
     "name": "stdout",
     "output_type": "stream",
     "text": [
      "I am Hrithik\n",
      "I am Hrithik\n",
      "I am Hrithik\n",
      "I am Hrithik\n"
     ]
    }
   ],
   "source": [
    "import time\n",
    "for i in range(4):\n",
    "    print(\"I am Hrithik\")\n",
    "    time.sleep(0.1)    #will wait for 0.1 seconds before next iteration is repeated"
   ]
  },
  {
   "cell_type": "markdown",
   "id": "28c5c0eb",
   "metadata": {},
   "source": [
    "# Creating virtual environment and requirements.txt"
   ]
  },
  {
   "cell_type": "code",
   "execution_count": null,
   "id": "79162c05",
   "metadata": {},
   "outputs": [],
   "source": [
    "\"\"\"\n",
    "We create virtual environment before starting any project so that if any module gets updated , and the features we used \n",
    "in out project are not present in new update it dosent affect aur program , since the virtual environment has its own \n",
    "modules installed.\n",
    "\n",
    "1. Create a new folder\n",
    "2. open powershell in that folder\n",
    "3. pip install virtualenv              #module to create virtual environment\n",
    "4. virtualenv har                      #create a virtual environment named har\n",
    "5. .\\har\\Scripts\\activate              #activate the virtual environment\n",
    "6. (if it shows error the right click on windows icon and open powershell through admin mode and type\n",
    ">set-executionpolicy remotesigned ) and press Y \n",
    "7. NOTE: you can use \"deactivate\" command to exit from virtual environemnt\n",
    "8. NOTE: pip uninstall module_name can be used to uninstall any module\n",
    "9. requirements.txt containd all the modules and their versions used to create the project\n",
    "10. pip freeze > requirements.txt      #used to create requirements.txt\n",
    "11. NOTE: you can use >pip install numpy==1.15.4 to install the specific version of a module\n",
    "12. NOTE: to install all the file in on go present in requirements.txt put the file in the folder created and run\n",
    ">pip install -r .\\requirements.txt\n",
    "13. NOTE : >virtualenv --system-site-packages har2  #create a new virtual env har2 with all the packages in main computer \n",
    "already installed into it\n",
    "\n",
    "\"\"\""
   ]
  },
  {
   "cell_type": "markdown",
   "id": "2fc9a7f3",
   "metadata": {},
   "source": [
    "# Enumerate"
   ]
  },
  {
   "cell_type": "code",
   "execution_count": 31,
   "id": "3975c3c6",
   "metadata": {},
   "outputs": [
    {
     "name": "stdout",
     "output_type": "stream",
     "text": [
      "chips\n",
      "noodles\n"
     ]
    },
    {
     "name": "stderr",
     "output_type": "stream",
     "text": [
      "<>:4: SyntaxWarning: \"is not\" with a literal. Did you mean \"!=\"?\n",
      "<>:4: SyntaxWarning: \"is not\" with a literal. Did you mean \"!=\"?\n",
      "C:\\Users\\hrith\\AppData\\Local\\Temp\\ipykernel_10052\\1032744807.py:4: SyntaxWarning: \"is not\" with a literal. Did you mean \"!=\"?\n",
      "  if i%2 is not 0:\n"
     ]
    }
   ],
   "source": [
    "list=[\"chips\",\"ketchup\",\"noodles\",\"rice\"]\n",
    "i=1\n",
    "for item in list:\n",
    "    if i%2 is not 0:\n",
    "        print(item)\n",
    "    i+=1"
   ]
  },
  {
   "cell_type": "code",
   "execution_count": 33,
   "id": "494dd50d",
   "metadata": {},
   "outputs": [
    {
     "name": "stdout",
     "output_type": "stream",
     "text": [
      "chips\n",
      "noodles\n"
     ]
    }
   ],
   "source": [
    "#the same can be done by enumerate function as follwing #it represents index and item both \n",
    "\n",
    "list=[\"chips\",\"ketchup\",\"noodles\",\"rice\"]\n",
    "for index,item in enumerate(list):\n",
    "    if index%2==0:\n",
    "        print(item)"
   ]
  },
  {
   "cell_type": "markdown",
   "id": "410188f1",
   "metadata": {},
   "source": [
    "# import function in python"
   ]
  },
  {
   "cell_type": "code",
   "execution_count": 1,
   "id": "9b305296",
   "metadata": {},
   "outputs": [],
   "source": [
    "#NOTE: never create a file which is named after a module "
   ]
  },
  {
   "cell_type": "code",
   "execution_count": 9,
   "id": "4691357d",
   "metadata": {},
   "outputs": [
    {
     "data": {
      "text/plain": [
       "'\\na=3\\ndef printData():\\n    print(\"Hello\")\\n\\n'"
      ]
     },
     "execution_count": 9,
     "metadata": {},
     "output_type": "execute_result"
    }
   ],
   "source": [
    "#This are the context inside \"file3\"\n",
    "\n",
    "\"\"\"\n",
    "a=3\n",
    "def printData():\n",
    "    print(\"Hello\")\n",
    "\n",
    "\"\"\""
   ]
  },
  {
   "cell_type": "code",
   "execution_count": 12,
   "id": "4a2156ce",
   "metadata": {},
   "outputs": [
    {
     "name": "stdout",
     "output_type": "stream",
     "text": [
      "3\n"
     ]
    }
   ],
   "source": [
    "#importing another python file containing functions into current program \n",
    "# NOTE: the file should be .py to get imported\n",
    "#jupyter notebooks files are not .py\n",
    "\n",
    "from file3 import a\n",
    "print(a)                     \n",
    "\n"
   ]
  },
  {
   "cell_type": "code",
   "execution_count": 13,
   "id": "a11f60cc",
   "metadata": {},
   "outputs": [
    {
     "name": "stdout",
     "output_type": "stream",
     "text": [
      "3\n",
      "Hello !\n"
     ]
    }
   ],
   "source": [
    "#using functions of other file in current program\n",
    "import file3\n",
    "print(file3.a)                      #idk why it is not working here\n",
    "file3.printData()                  #using a function that is present in file2\n"
   ]
  },
  {
   "cell_type": "markdown",
   "id": "adcd23af",
   "metadata": {},
   "source": [
    "# if __name__==__main__ function "
   ]
  },
  {
   "cell_type": "code",
   "execution_count": 53,
   "id": "e0582185",
   "metadata": {},
   "outputs": [],
   "source": [
    "# NOTE: Try this in Vs code in case it fails here"
   ]
  },
  {
   "cell_type": "code",
   "execution_count": 54,
   "id": "120e6142",
   "metadata": {},
   "outputs": [
    {
     "data": {
      "text/plain": [
       "'\\ndef printData(str):\\n    return f\"Hello  {str}\"\\ndef sum(a,b):\\n    return a+b\\n\\na=sum(5,6)\\nprint(a)\\nprint(printData(\"Hrithik\"))\\n'"
      ]
     },
     "execution_count": 54,
     "metadata": {},
     "output_type": "execute_result"
    }
   ],
   "source": [
    "# This are the context inside \"file4\"\n",
    "\"\"\"\n",
    "def printData(str):\n",
    "    return f\"Hello  {str}\"\n",
    "def sum(a,b):\n",
    "    return a+b\n",
    "\n",
    "a=sum(5,6)\n",
    "print(a)\n",
    "print(printData(\"Hrithik\"))\n",
    "\"\"\""
   ]
  },
  {
   "cell_type": "code",
   "execution_count": 55,
   "id": "1334a6d7",
   "metadata": {},
   "outputs": [
    {
     "name": "stdout",
     "output_type": "stream",
     "text": [
      "Hello\n",
      "None\n"
     ]
    }
   ],
   "source": [
    "import file4\n",
    "print(file4.printData())  \n",
    "#if you normally run this code in vs code then print(a) and print(printData(\"Hrithik\")) will also get executed \n",
    "#to avoid this we use > if __name__=='__main__':  "
   ]
  },
  {
   "cell_type": "code",
   "execution_count": 56,
   "id": "3ed84799",
   "metadata": {},
   "outputs": [
    {
     "data": {
      "text/plain": [
       "'\\ndef printData(str):\\n    return f\"Hello  {str}\"\\ndef sum(a,b):\\n    return a+b\\n\\nif __name__==\\'__main__\\':      #using if __name function\\n    a=sum(5,6)\\n    print(a)\\n    print(printData(\"Hrithik\"))\\n   \\n'"
      ]
     },
     "execution_count": 56,
     "metadata": {},
     "output_type": "execute_result"
    }
   ],
   "source": [
    "# This are the context inside \"file4\"\n",
    "\"\"\"\n",
    "def printData(str):\n",
    "    return f\"Hello  {str}\"\n",
    "def sum(a,b):\n",
    "    return a+b\n",
    "\n",
    "if __name__=='__main__':      #using if __name function\n",
    "    a=sum(5,6)\n",
    "    print(a)\n",
    "    print(printData(\"Hrithik\"))\n",
    "   \n",
    "\"\"\""
   ]
  },
  {
   "cell_type": "code",
   "execution_count": 57,
   "id": "7111e361",
   "metadata": {},
   "outputs": [
    {
     "name": "stdout",
     "output_type": "stream",
     "text": [
      "Hello\n",
      "None\n"
     ]
    }
   ],
   "source": [
    "import file4\n",
    "print(file4.printData())  #extra things inside the if __name__==__main__: wont get printed"
   ]
  },
  {
   "cell_type": "markdown",
   "id": "45831891",
   "metadata": {},
   "source": [
    "# join function"
   ]
  },
  {
   "cell_type": "code",
   "execution_count": 58,
   "id": "e5faffca",
   "metadata": {},
   "outputs": [],
   "source": [
    "list=[\"chinese food\",\"italian food\",\"french food\",\"spanish food\"]"
   ]
  },
  {
   "cell_type": "code",
   "execution_count": 61,
   "id": "3fc4eaa1",
   "metadata": {},
   "outputs": [
    {
     "name": "stdout",
     "output_type": "stream",
     "text": [
      "chinese food  and  italian food  and  french food  and  spanish food  and  other types of food\n"
     ]
    }
   ],
   "source": [
    "for item in list:\n",
    "    print(item , \" and \", end=\" \")\n",
    "print(\"other types of food\")"
   ]
  },
  {
   "cell_type": "code",
   "execution_count": 62,
   "id": "cd8aa6bb",
   "metadata": {},
   "outputs": [],
   "source": [
    "#this same opreation can be performed by using and function as follows"
   ]
  },
  {
   "cell_type": "code",
   "execution_count": 64,
   "id": "b00dbde7",
   "metadata": {},
   "outputs": [
    {
     "name": "stdout",
     "output_type": "stream",
     "text": [
      "chinese food and italian food and french food and spanish food\n",
      "other types of food\n"
     ]
    }
   ],
   "source": [
    "a=\" and \".join(list)\n",
    "print(a)\n",
    "print(\"other types of food\")"
   ]
  },
  {
   "cell_type": "markdown",
   "id": "5d138b37",
   "metadata": {},
   "source": [
    "# map . fiflter and reduce"
   ]
  },
  {
   "cell_type": "markdown",
   "id": "24b47f98",
   "metadata": {},
   "source": [
    "# 1.map"
   ]
  },
  {
   "cell_type": "code",
   "execution_count": 82,
   "id": "2c0112f1",
   "metadata": {},
   "outputs": [
    {
     "name": "stdout",
     "output_type": "stream",
     "text": [
      "[3, 4, 9, 10]\n"
     ]
    }
   ],
   "source": [
    "#converting strings into integers \n",
    "\n",
    "numbers=[\"3\",\"4\",\"9\",\"10\"]\n",
    "for i in range(len(numbers)):\n",
    "    numbers[i]=int(numbers[i])\n",
    "\n",
    "print(numbers)"
   ]
  },
  {
   "cell_type": "code",
   "execution_count": 83,
   "id": "ba4d2293",
   "metadata": {},
   "outputs": [],
   "source": [
    "#this can be done in one line using map function"
   ]
  },
  {
   "cell_type": "code",
   "execution_count": 84,
   "id": "5cd74307",
   "metadata": {},
   "outputs": [
    {
     "data": {
      "text/plain": [
       "'\\nnumbers=[\"3\",\"4\",\"9\",\"10\"]\\nnumbers= list(map(int,numbers))      #basically the first thing (int) gets applied on second (numbers)\\nprint(numbers)\\n\\n'"
      ]
     },
     "execution_count": 84,
     "metadata": {},
     "output_type": "execute_result"
    }
   ],
   "source": [
    "#may throw an error in jupytre notebook , try in VScode\n",
    "#this converets the items in string format to int\n",
    "\"\"\"\n",
    "numbers=[\"3\",\"4\",\"9\",\"10\"]\n",
    "numbers= list(map(int,numbers))      #basically the first thing (int) gets applied on second (numbers)\n",
    "print(numbers)\n",
    "\n",
    "\"\"\""
   ]
  },
  {
   "cell_type": "code",
   "execution_count": 85,
   "id": "855f8935",
   "metadata": {},
   "outputs": [
    {
     "data": {
      "text/plain": [
       "'\\nnumbers=[\"3\",\"4\",\"9\",\"10\"]\\ndef sq(a):\\n    return a*a \\nnumbers= list(map(int,numbers))  #converting it into integer first fo to apply the function\\nnumbers= list(map(sq,numbers))   #applying the sq function on numbers\\nprint(numbers)\\n'"
      ]
     },
     "execution_count": 85,
     "metadata": {},
     "output_type": "execute_result"
    }
   ],
   "source": [
    "#may throw an error in jupytre notebook , try in VScode\n",
    "\"\"\"\n",
    "numbers=[\"3\",\"4\",\"9\",\"10\"]\n",
    "def sq(a):\n",
    "    return a*a \n",
    "numbers= list(map(int,numbers))  #converting it into integer first fo to apply the function\n",
    "numbers= list(map(sq,numbers))   #applying the sq function on numbers\n",
    "print(numbers)\n",
    "\"\"\""
   ]
  },
  {
   "cell_type": "code",
   "execution_count": 90,
   "id": "923439a9",
   "metadata": {},
   "outputs": [
    {
     "data": {
      "text/plain": [
       "'\\ndef square(a):\\n    return a*a\\ndef cube(a):\\n    return a*a*a\\nfunc=[square,cube]\\nfor i in range (5):\\n    val=list(map(lambda x:x(i),func))  #labda functon will take square and perform square[i] similarly for cube\\n    print(val)\\n    \\n'"
      ]
     },
     "execution_count": 90,
     "metadata": {},
     "output_type": "execute_result"
    }
   ],
   "source": [
    "#may throw an error in jupytre notebook , try in VScode\n",
    "\"\"\"\n",
    "def square(a):\n",
    "    return a*a\n",
    "def cube(a):\n",
    "    return a*a*a\n",
    "func=[square,cube]\n",
    "for i in range (5):\n",
    "    val=list(map(lambda x:x(i),func))  #labda functon will take square and perform square[i] similarly for cube\n",
    "    print(val)\n",
    "    \n",
    "\"\"\""
   ]
  },
  {
   "cell_type": "markdown",
   "id": "f31232a9",
   "metadata": {},
   "source": [
    "# 2.filter\n"
   ]
  },
  {
   "cell_type": "code",
   "execution_count": 96,
   "id": "8e9a7cb8",
   "metadata": {},
   "outputs": [
    {
     "data": {
      "text/plain": [
       "'\\nlist1=[1,2,3,4,5,6,7,8,9]\\ndef is_greater_5(a):              #will return true if function is greater than 5\\n    return a>5\\ngr_than_5=list(filter(is_greater_5,list1))\\nprint(gr_than_5)\\n\\n'"
      ]
     },
     "execution_count": 96,
     "metadata": {},
     "output_type": "execute_result"
    }
   ],
   "source": [
    "#may throw an error in jupytre notebook , try in VScode\n",
    "\"\"\"\n",
    "list1=[1,2,3,4,5,6,7,8,9]\n",
    "def is_greater_5(a):              #will return true if function is greater than 5\n",
    "    return a>5\n",
    "gr_than_5=list(filter(is_greater_5,list1))\n",
    "print(gr_than_5)\n",
    "\n",
    "\"\"\""
   ]
  },
  {
   "cell_type": "markdown",
   "id": "2b711cb6",
   "metadata": {},
   "source": [
    "# 3. reduce"
   ]
  },
  {
   "cell_type": "code",
   "execution_count": 100,
   "id": "4f623912",
   "metadata": {},
   "outputs": [],
   "source": [
    "from functools import reduce"
   ]
  },
  {
   "cell_type": "code",
   "execution_count": 104,
   "id": "997b061e",
   "metadata": {},
   "outputs": [
    {
     "name": "stdout",
     "output_type": "stream",
     "text": [
      "15\n"
     ]
    }
   ],
   "source": [
    "list=[1,2,3,4,5]\n",
    "num=0\n",
    "for i in list:\n",
    "    num=num+i\n",
    "    \n",
    "print(num)"
   ]
  },
  {
   "cell_type": "code",
   "execution_count": 107,
   "id": "dde3e3a3",
   "metadata": {},
   "outputs": [
    {
     "name": "stdout",
     "output_type": "stream",
     "text": [
      "15\n"
     ]
    }
   ],
   "source": [
    "#same can be done in the following way\n",
    "list=[1,2,3,4,5]\n",
    "num=reduce(lambda x,y:x+y , list)\n",
    "print(num)"
   ]
  },
  {
   "cell_type": "markdown",
   "id": "3b136265",
   "metadata": {},
   "source": [
    "# Decorators in python"
   ]
  },
  {
   "cell_type": "code",
   "execution_count": 6,
   "id": "adb158e0",
   "metadata": {},
   "outputs": [
    {
     "name": "stdout",
     "output_type": "stream",
     "text": [
      "Hello\n"
     ]
    }
   ],
   "source": [
    "def function():\n",
    "    print(\"Hello\")\n",
    "\n",
    "func2=function   #copying  function in functon2  \n",
    "del function    #deleting a function\n",
    "func2()"
   ]
  },
  {
   "cell_type": "code",
   "execution_count": 22,
   "id": "3407e454",
   "metadata": {},
   "outputs": [
    {
     "name": "stdout",
     "output_type": "stream",
     "text": [
      "I am Hrithik \n",
      "None\n"
     ]
    }
   ],
   "source": [
    "#passing functon as an return value\n",
    "def printData():\n",
    "    print(\"I am Hrithik \")\n",
    "def funcret(num):\n",
    "    if num==1:\n",
    "        return printData()      #returning functions\n",
    "    if num==0:\n",
    "        return sum        \n",
    "a=funcret(1)\n",
    "b=funcret(0)\n",
    "print(a)\n",
    "print(b)"
   ]
  },
  {
   "cell_type": "code",
   "execution_count": 26,
   "id": "48bf344e",
   "metadata": {},
   "outputs": [
    {
     "name": "stdout",
     "output_type": "stream",
     "text": [
      "This\n"
     ]
    }
   ],
   "source": [
    "#passing function as an argumrnt\n",
    "def execution(func):\n",
    "    func(\"This\")\n",
    "\n",
    "execution(print)"
   ]
  },
  {
   "cell_type": "code",
   "execution_count": 29,
   "id": "0e7b88de",
   "metadata": {},
   "outputs": [
    {
     "name": "stdout",
     "output_type": "stream",
     "text": [
      "Executing the function :\n",
      "Hrithik is a good boy \n",
      "Execution completed \n"
     ]
    },
    {
     "ename": "TypeError",
     "evalue": "'NoneType' object is not callable",
     "output_type": "error",
     "traceback": [
      "\u001b[1;31m---------------------------------------------------------------------------\u001b[0m",
      "\u001b[1;31mTypeError\u001b[0m                                 Traceback (most recent call last)",
      "Input \u001b[1;32mIn [29]\u001b[0m, in \u001b[0;36m<cell line: 13>\u001b[1;34m()\u001b[0m\n\u001b[0;32m     10\u001b[0m     \u001b[38;5;28mprint\u001b[39m(\u001b[38;5;124m\"\u001b[39m\u001b[38;5;124mHrithik is a good boy \u001b[39m\u001b[38;5;124m\"\u001b[39m)\n\u001b[0;32m     12\u001b[0m who_is_hrithik\u001b[38;5;241m=\u001b[39mdec1(who_is_hrithik)\n\u001b[1;32m---> 13\u001b[0m \u001b[43mwho_is_hrithik\u001b[49m\u001b[43m(\u001b[49m\u001b[43m)\u001b[49m   \n\u001b[0;32m     16\u001b[0m \u001b[38;5;124;03m\"\"\"\u001b[39;00m\n\u001b[0;32m     17\u001b[0m \u001b[38;5;124;03mWhat is happening here?\u001b[39;00m\n\u001b[0;32m     18\u001b[0m \u001b[38;5;124;03mThe function dec1 takes other function as argument. Now inside dec1 their is a function named \u001b[39;00m\n\u001b[0;32m     19\u001b[0m \u001b[38;5;124;03mnowexec which prints few lines and execute the function given as argument .\u001b[39;00m\n\u001b[0;32m     20\u001b[0m \u001b[38;5;124;03m\"\"\"\u001b[39;00m\n",
      "\u001b[1;31mTypeError\u001b[0m: 'NoneType' object is not callable"
     ]
    }
   ],
   "source": [
    "#decorators\n",
    "\n",
    "def dec1(func1):                                         #a function is passed as an argument\n",
    "    def nowexec():                                       #another function present inside which executes the passed function\n",
    "        print(\"Executing the function :\")\n",
    "        func1()\n",
    "        print(\"Execution completed \")\n",
    "    return nowexec()\n",
    "\n",
    "def who_is_hrithik():\n",
    "    print(\"Hrithik is a good boy \")\n",
    "\n",
    "who_is_hrithik=dec1(who_is_hrithik)\n",
    "who_is_hrithik()   \n",
    "\n",
    "\n",
    "\"\"\"\n",
    "What is happening here?\n",
    "The function dec1 takes other function as argument. Now inside dec1 their is a function named \n",
    "nowexec which prints few lines and execute the function given as argument .\n",
    "\"\"\"\n",
    "\n",
    "#ignore the error"
   ]
  },
  {
   "cell_type": "code",
   "execution_count": 32,
   "id": "57649f1f",
   "metadata": {},
   "outputs": [
    {
     "name": "stdout",
     "output_type": "stream",
     "text": [
      "Executing the function :\n",
      "Hrithik is a good boy \n",
      "Execution completed \n"
     ]
    },
    {
     "ename": "TypeError",
     "evalue": "'NoneType' object is not callable",
     "output_type": "error",
     "traceback": [
      "\u001b[1;31m---------------------------------------------------------------------------\u001b[0m",
      "\u001b[1;31mTypeError\u001b[0m                                 Traceback (most recent call last)",
      "Input \u001b[1;32mIn [32]\u001b[0m, in \u001b[0;36m<cell line: 14>\u001b[1;34m()\u001b[0m\n\u001b[0;32m     11\u001b[0m     \u001b[38;5;28mprint\u001b[39m(\u001b[38;5;124m\"\u001b[39m\u001b[38;5;124mHrithik is a good boy \u001b[39m\u001b[38;5;124m\"\u001b[39m)                    \u001b[38;5;66;03m# will take this function as argument             \u001b[39;00m\n\u001b[0;32m     13\u001b[0m \u001b[38;5;66;03m# who_is_hrithik=dec1(who_is_hrithik)\u001b[39;00m\n\u001b[1;32m---> 14\u001b[0m \u001b[43mwho_is_hrithik\u001b[49m\u001b[43m(\u001b[49m\u001b[43m)\u001b[49m\n",
      "\u001b[1;31mTypeError\u001b[0m: 'NoneType' object is not callable"
     ]
    }
   ],
   "source": [
    "#decorators\n",
    "\n",
    "def dec1(func1):                                         #a function is passed as an argument\n",
    "    def nowexec():                                       #another function present inside which executes the passed function\n",
    "        print(\"Executing the function :\")\n",
    "        func1()\n",
    "        print(\"Execution completed \")\n",
    "    return nowexec()\n",
    "@dec1                                                  #other way of making the given function decerator\n",
    "def who_is_hrithik():                                  # @dec1 basically means that their will be a function which \n",
    "    print(\"Hrithik is a good boy \")                    # will take this function as argument             \n",
    "\n",
    "# who_is_hrithik=dec1(who_is_hrithik)\n",
    "who_is_hrithik()   \n",
    "\n",
    "#ignore the error"
   ]
  },
  {
   "cell_type": "markdown",
   "id": "288e4aa7",
   "metadata": {},
   "source": [
    "# object and classes"
   ]
  },
  {
   "cell_type": "code",
   "execution_count": 33,
   "id": "851ccb97",
   "metadata": {},
   "outputs": [
    {
     "data": {
      "text/plain": [
       "'\\nImagine you are writing a letter , you already have a format (template) you just have to write the name and addreess to \\ncomplete that particular letter\\nnow realte\\nclasses--> template of letter\\nobject---> that particular letter\\n\\n'"
      ]
     },
     "execution_count": 33,
     "metadata": {},
     "output_type": "execute_result"
    }
   ],
   "source": [
    "\"\"\"\n",
    "Imagine you are writing a letter , you already have a format (template) you just have to write the name and addreess to \n",
    "complete that particular letter\n",
    "now realte :\n",
    "classes--> template of letter\n",
    "object---> that particular letter\n",
    "\n",
    "\"\"\""
   ]
  },
  {
   "cell_type": "code",
   "execution_count": 5,
   "id": "d1e486ec",
   "metadata": {},
   "outputs": [
    {
     "name": "stdout",
     "output_type": "stream",
     "text": [
      "<__main__.student object at 0x000001AB2C3D5FC0> <__main__.student object at 0x000001AB2C3D7EE0>\n",
      "Harry\n",
      "['Hindi', 'Marathi', 'Science']\n"
     ]
    }
   ],
   "source": [
    "#general idea of class\n",
    "\n",
    "class student:\n",
    "    pass               #when you dont want to give anythin inside a function you write \"pass\" inside it\n",
    "\n",
    "harry=student()\n",
    "larry=student()         #object of class\n",
    "\n",
    "\n",
    "print(harry,larry)     #they will have diff memory location since they are diff objects\n",
    "harry.name=\"Harry\"\n",
    "harry.section=1\n",
    "harry.std=12\n",
    "\n",
    "print(harry.name)\n",
    "\n",
    "larry.subjects=[\"Hindi\",\"Marathi\",\"Science\"]\n",
    "\n",
    "print(larry.subjects)\n"
   ]
  },
  {
   "cell_type": "markdown",
   "id": "beb90038",
   "metadata": {},
   "source": [
    "#  instance and class variable"
   ]
  },
  {
   "cell_type": "code",
   "execution_count": 15,
   "id": "4052d2e9",
   "metadata": {},
   "outputs": [
    {
     "name": "stdout",
     "output_type": "stream",
     "text": [
      "8\n",
      "10\n",
      "10\n",
      "15\n",
      "10\n",
      "{'__module__': '__main__', 'no_of_leaves': 10, '__dict__': <attribute '__dict__' of 'Employee' objects>, '__weakref__': <attribute '__weakref__' of 'Employee' objects>, '__doc__': None}\n"
     ]
    }
   ],
   "source": [
    "\n",
    "\n",
    "class Employee:\n",
    "    no_of_leaves=8                           #class variable\n",
    "    pass\n",
    "\n",
    "harry=Employee()\n",
    "rohan=Employee()\n",
    "\n",
    "harry.name=\"Harry\"\n",
    "harry.salary=90000\n",
    "harry.role=\"Teacher\"\n",
    "\n",
    "rohan.name=\"Rohan\"\n",
    "rohan.salary=8000\n",
    "rohan.role=\"Student\"\n",
    "\n",
    "print(Employee.no_of_leaves)  #1\n",
    "Employee.no_of_leaves=10                #class variable can only be changed by class refrence \n",
    "print(Employee.no_of_leaves)  #2\n",
    "print(harry.no_of_leaves)     #3\n",
    "harry.no_of_leaves=15                \n",
    "print(harry.no_of_leaves)     #4       #here instance variable of harry is changed\n",
    "print(Employee.no_of_leaves)  #5       #class variable remains same\n",
    "print(Employee.__dict__)               #shows all the class variables"
   ]
  },
  {
   "cell_type": "markdown",
   "id": "795ce992",
   "metadata": {},
   "source": [
    "# self and __init__()   (constructors)"
   ]
  },
  {
   "cell_type": "code",
   "execution_count": 19,
   "id": "1137d261",
   "metadata": {},
   "outputs": [
    {
     "name": "stdout",
     "output_type": "stream",
     "text": [
      "Name is Rohan , salary is 8000 and role is Student\n"
     ]
    }
   ],
   "source": [
    "class Employee:\n",
    "    no_of_leaves=8                           #class variable\n",
    "    def printDetails(self):                 #if we r running it on rohan then rohan will become self\n",
    "        \n",
    "        return f\"Name is {self.name} , salary is {self.salary} and role is {self.role}\"\n",
    "        \n",
    "    \n",
    "    \n",
    "harry=Employee()\n",
    "rohan=Employee()\n",
    "\n",
    "harry.name=\"Harry\"\n",
    "harry.salary=90000\n",
    "harry.role=\"Teacher\"\n",
    "\n",
    "rohan.name=\"Rohan\"\n",
    "rohan.salary=8000\n",
    "rohan.role=\"Student\"\n",
    "\n",
    "print(rohan.printDetails())     #ascessing the function"
   ]
  },
  {
   "cell_type": "code",
   "execution_count": 22,
   "id": "4a1d781b",
   "metadata": {},
   "outputs": [
    {
     "name": "stdout",
     "output_type": "stream",
     "text": [
      "Name is Rohan , salary is 8000 and role is Student\n"
     ]
    }
   ],
   "source": [
    "#Constructor\n",
    "\n",
    "class Employee:\n",
    "    no_of_leaves=8\n",
    "    \n",
    "    def __init__(self,a_name,a_salary,a_role):    #creating a constructor using __inti__\n",
    "        self.name=a_name\n",
    "        self.salary=a_salary\n",
    "        self.role=a_role\n",
    "        \n",
    "    def printDetails(self):                       #if we r running it on rohan then rohan will become self\n",
    "        \n",
    "        return f\"Name is {self.name} , salary is {self.salary} and role is {self.role}\"\n",
    "         \n",
    "    \n",
    "    \n",
    "harry=Employee(\"Harry\",90000,\"Teacher\")\n",
    "rohan=Employee(\"Rohan\",8000,\"Student\")\n",
    "\n",
    "\n",
    "print(rohan.printDetails())     #ascessing the function"
   ]
  },
  {
   "cell_type": "markdown",
   "id": "966b2006",
   "metadata": {},
   "source": [
    "# Class methods"
   ]
  },
  {
   "cell_type": "code",
   "execution_count": 33,
   "id": "aea8898e",
   "metadata": {},
   "outputs": [
    {
     "name": "stdout",
     "output_type": "stream",
     "text": [
      "67\n"
     ]
    }
   ],
   "source": [
    "\n",
    "\n",
    "class Employee:\n",
    "    no_of_leaves=8\n",
    "    \n",
    "    def __init__(self,a_name,a_salary,a_role):    \n",
    "        self.name=a_name\n",
    "        self.salary=a_salary\n",
    "        self.role=a_role\n",
    "        \n",
    "    def printDetails(self):                       \n",
    "        \n",
    "        return f\"Name is {self.name} , salary is {self.salary} and role is {self.role}\"\n",
    "    \n",
    "    @classmethod                                  #by using class method we can change class variable even by using instant\n",
    "    def change_leaves(cls,newleaves):             #variables , class method takes class as an imput\n",
    "        cls.no_of_leaves=newleaves                \n",
    "    \n",
    "    \n",
    "         \n",
    "    \n",
    "\n",
    "harry=Employee(\"Harry\",90000,\"Teacher\")\n",
    "rohan=Employee(\"Rohan\",8000,\"Student\")\n",
    "\n",
    "\n",
    "rohan.change_leaves(67)\n",
    "print(Employee.no_of_leaves)\n"
   ]
  },
  {
   "cell_type": "markdown",
   "id": "3fead273",
   "metadata": {},
   "source": [
    "# class methods as alternative constructors"
   ]
  },
  {
   "cell_type": "code",
   "execution_count": 35,
   "id": "e565aa21",
   "metadata": {},
   "outputs": [
    {
     "name": "stdout",
     "output_type": "stream",
     "text": [
      "student\n"
     ]
    }
   ],
   "source": [
    "class Employee:\n",
    "    no_of_leaves=8\n",
    "    \n",
    "    def __init__(self,a_name,a_salary,a_role):  \n",
    "        self.name=a_name\n",
    "        self.salary=a_salary\n",
    "        self.role=a_role\n",
    "        \n",
    "    @classmethod                                  #creating a constructor using class method\n",
    "    def from_str(cls,str):\n",
    "        list=str.split(\"-\")\n",
    "        return cls(list[0],list[1],list[2])\n",
    "    \n",
    "    \n",
    "    \"\"\"\n",
    "    @classmethod                                  #creating a constructor using class method\n",
    "    def from_str(cls,str):                        #one liner\n",
    "        return cls(*str.split(\"-\"))\n",
    "    \n",
    "    \"\"\"\n",
    "    \n",
    "    \n",
    "         \n",
    "    \n",
    "\n",
    "harry=Employee(\"Harry\",90000,\"Teacher\")\n",
    "rohan=Employee.from_str(\"Rohan-8000-student\")  ##\n",
    "print(rohan.role)\n",
    "\n"
   ]
  },
  {
   "cell_type": "markdown",
   "id": "7fb5da5a",
   "metadata": {},
   "source": [
    "# static methods"
   ]
  },
  {
   "cell_type": "code",
   "execution_count": 37,
   "id": "0b02fdf0",
   "metadata": {},
   "outputs": [
    {
     "name": "stdout",
     "output_type": "stream",
     "text": [
      "Your name is : Harry\n"
     ]
    }
   ],
   "source": [
    "class Employee:\n",
    "    no_of_leaves=8\n",
    "    \n",
    "    def __init__(self,a_name,a_salary,a_role):  \n",
    "        self.name=a_name\n",
    "        self.salary=a_salary\n",
    "        self.role=a_role\n",
    "    \n",
    "    @staticmethod                          #when you so not require instance variable or class variable only normal function\n",
    "    def printName(str):  \n",
    "        print(\"Your name is : \"+ str)\n",
    "        \n",
    "   \n",
    "    \n",
    "    \n",
    "         \n",
    "    \n",
    "\n",
    "harry=Employee(\"Harry\",90000,\"Teacher\")\n",
    "harry.printName(harry.name)\n",
    "\n",
    "\n"
   ]
  },
  {
   "cell_type": "markdown",
   "id": "9409fc7f",
   "metadata": {},
   "source": [
    "# encapsulation: wrapping of data & abstraction: hiding of data"
   ]
  },
  {
   "cell_type": "markdown",
   "id": "003e7a53",
   "metadata": {},
   "source": [
    "# inheritance\n",
    "\n"
   ]
  },
  {
   "cell_type": "code",
   "execution_count": 3,
   "id": "417a4938",
   "metadata": {},
   "outputs": [],
   "source": [
    "# single levle inheritance"
   ]
  },
  {
   "cell_type": "code",
   "execution_count": 8,
   "id": "dcc29ef8",
   "metadata": {},
   "outputs": [
    {
     "name": "stdout",
     "output_type": "stream",
     "text": [
      "Name is Shubham , salary is 1000000 , role is coder and the languages known are ['Python', 'C++']\n",
      "Name is Shubham , salary is 1000000 and role is coder\n"
     ]
    }
   ],
   "source": [
    "class Employee:\n",
    "    no_of_leaves=8\n",
    "    \n",
    "    def __init__(self,a_name,a_salary,a_role):    \n",
    "        self.name=a_name\n",
    "        self.salary=a_salary\n",
    "        self.role=a_role\n",
    "        \n",
    "    def printDetails(self):                       \n",
    "        \n",
    "        return f\"Name is {self.name} , salary is {self.salary} and role is {self.role}\"\n",
    "           \n",
    "    \n",
    "    \n",
    "         \n",
    "    \n",
    "\n",
    "harry=Employee(\"Harry\",90000,\"Teacher\")\n",
    "rohan=Employee(\"Rohan\",8000,\"Student\")\n",
    "\n",
    "\n",
    "class Programmer(Employee):                         #inheriting Employee class into Programmer calss\n",
    "    no_of_holidays=9\n",
    "    \n",
    "    def __init__(self,a_name,a_salary,a_role,a_languages):\n",
    "        self.name=a_name\n",
    "        self.salary=a_salary\n",
    "        self.role=a_role\n",
    "        self.languages=a_languages\n",
    "        \n",
    "        \n",
    "    def printProg_details(self):                       \n",
    "        \n",
    "        return f\"Name is {self.name} , salary is {self.salary} , role is {self.role} and the languages known are {self.languages}\"\n",
    "\n",
    "shubham=Programmer(\"Shubham\",1000000,\"coder\",[\"Python\",\"C++\"])\n",
    "print(shubham.printProg_details())\n",
    "print(shubham.printDetails())               #can be accessed through Employee class functions as well\n",
    "    "
   ]
  },
  {
   "cell_type": "code",
   "execution_count": 9,
   "id": "2ec3929b",
   "metadata": {},
   "outputs": [],
   "source": [
    "# Multiple Inheritance"
   ]
  },
  {
   "cell_type": "code",
   "execution_count": 19,
   "id": "68d5fa84",
   "metadata": {},
   "outputs": [
    {
     "name": "stdout",
     "output_type": "stream",
     "text": [
      "Name is Shubham , salary is 58000 and role is cool programmer\n",
      "8\n",
      "9\n",
      "Cricket\n"
     ]
    }
   ],
   "source": [
    "class Employee:\n",
    "    no_of_leaves=8\n",
    "    var1=8\n",
    "    \n",
    "    def __init__(self,a_name,a_salary,a_role):    \n",
    "        self.name=a_name\n",
    "        self.salary=a_salary\n",
    "        self.role=a_role\n",
    "        \n",
    "    def printDetails(self):                       \n",
    "        \n",
    "        return f\"Name is {self.name} , salary is {self.salary} and role is {self.role}\"\n",
    "           \n",
    "    \n",
    "class Player:\n",
    "    var2=9\n",
    "    def __init__(self,a_name,a_game):\n",
    "        self.name=a_name\n",
    "        self.game=a_game\n",
    "    \n",
    "    def printDetails(self):                       \n",
    "        \n",
    "        return f\"Name is {self.name} , and game is {self.game}\"\n",
    "\n",
    "class Cool_programmer(Employee,Player):            #order of inheritance is important\n",
    "    language=\"c++\"                                 #if Employee is inherited first then constructor of Employee would be called\n",
    "    def printLanguage(self):                       #so arguments must be given accordingly\n",
    "        print(self.language)\n",
    "        \n",
    "shubham = Cool_programmer(\"Shubham\", 58000,\"cool programmer\")  \n",
    "print(shubham.printDetails())\n",
    "print(shubham.var1)\n",
    "print(shubham.var2)\n",
    "shubham.game=\"Cricket\"\n",
    "print(shubham.game)\n",
    "#NOTE: since employee class is inherited first , the constructor arguments of employee class must be give\n",
    "        "
   ]
  },
  {
   "cell_type": "code",
   "execution_count": 1,
   "id": "a51d7c47",
   "metadata": {},
   "outputs": [],
   "source": [
    "# Multilevel Inheritance"
   ]
  },
  {
   "cell_type": "code",
   "execution_count": 11,
   "id": "85d0c47d",
   "metadata": {},
   "outputs": [
    {
     "name": "stdout",
     "output_type": "stream",
     "text": [
      "3\n",
      "I play basketball 3  times a day \n",
      "12\n"
     ]
    }
   ],
   "source": [
    "class Dad:\n",
    "    basketball=1\n",
    "    dance=12\n",
    "\n",
    "class Son(Dad):\n",
    "    basketball=2\n",
    "    def printSport(self):\n",
    "        print(f\" I play basketball {self.basketball}  times \")\n",
    "        \n",
    "class Grandson(Son):\n",
    "    basketball=3\n",
    "    def printSport(self):\n",
    "        print(f\"I play basketball {self.basketball}  times a day \")\n",
    "    \n",
    "hrithik=Grandson()\n",
    "print(hrithik.basketball)\n",
    "hrithik.printSport() \n",
    "print(hrithik.dance)\n",
    "\n",
    "\n",
    "#so Grandson inherit the properties of Son which in turns inherit the properties of Dad\n",
    "#basically Grandson inherit the properties of Dad too"
   ]
  },
  {
   "cell_type": "markdown",
   "id": "8be74480",
   "metadata": {},
   "source": [
    "# Public, Private & Protected Access Specifiers"
   ]
  },
  {
   "cell_type": "code",
   "execution_count": 12,
   "id": "bf135935",
   "metadata": {},
   "outputs": [],
   "source": [
    "#public= can be accessed anywhere in the program\n",
    "#private=can be accessed in the given class and all its derived classes\n",
    "#protected=can be accessed only by the given class "
   ]
  },
  {
   "cell_type": "code",
   "execution_count": 25,
   "id": "0ae02e40",
   "metadata": {},
   "outputs": [
    {
     "name": "stdout",
     "output_type": "stream",
     "text": [
      "1\n",
      "2\n",
      "1\n",
      "2\n",
      "3\n"
     ]
    }
   ],
   "source": [
    "class Dad:\n",
    "    cricket=1             #public variable    (syntax: var)\n",
    "    _hockey=2             #private variable   (syntax: _var)\n",
    "    __chess=3             #protected variable (syntax: __var)\n",
    "    \n",
    "class Son(Dad):\n",
    "    pass\n",
    "\n",
    "rohan=Son()\n",
    "print(rohan.cricket)     #public variable so can be accessed anywhere\n",
    "print(rohan._hockey)     #private variable so can be accessed by derived class\n",
    "# print(rohan.__chess)   #protected variable so cannot be accessed by derived class\n",
    "    \n",
    "rahul=Dad()\n",
    "print(rahul.cricket)\n",
    "print(rahul._hockey)  \n",
    "# print(rahul.__chess)      #wrong syntax to access protected variable\n",
    "print(rahul._Dad__chess)    #right syntax to  access protected vatiable"
   ]
  },
  {
   "cell_type": "markdown",
   "id": "5019e935",
   "metadata": {},
   "source": [
    "# polymorphism\n"
   ]
  },
  {
   "cell_type": "code",
   "execution_count": 26,
   "id": "ac97c3fa",
   "metadata": {},
   "outputs": [
    {
     "name": "stdout",
     "output_type": "stream",
     "text": [
      "14\n",
      "59\n"
     ]
    }
   ],
   "source": [
    "# ability to take various forms\n",
    "print(5+9)\n",
    "print(\"5\"+\"9\")"
   ]
  },
  {
   "cell_type": "markdown",
   "id": "49eda3e7",
   "metadata": {},
   "source": [
    "# super and overridng in classes"
   ]
  },
  {
   "cell_type": "code",
   "execution_count": 29,
   "id": "009598eb",
   "metadata": {},
   "outputs": [
    {
     "name": "stdout",
     "output_type": "stream",
     "text": [
      "I am instance var in class A \n"
     ]
    }
   ],
   "source": [
    "class A:\n",
    "    classvar1=\"I am a classvar in class A\"\n",
    "    def __init__(self):\n",
    "        self.var1=\"I am insied class A's constructor \"\n",
    "        self.classvar1=\"I am instance var in class A \"\n",
    "\n",
    "class B(A):\n",
    "    classvar1=\"I am a classvar in calss B\"\n",
    "    \n",
    "a=A()\n",
    "b=B()\n",
    "print(b.classvar1)  \n",
    "#first it searches for instance variable in B(which is not present in this case) , then instance variable in A\n",
    "#if not found it serches for normal variable in B , then normal varibale in A"
   ]
  },
  {
   "cell_type": "code",
   "execution_count": 31,
   "id": "3b2705fd",
   "metadata": {},
   "outputs": [
    {
     "name": "stdout",
     "output_type": "stream",
     "text": [
      "I am a classvar in class A\n"
     ]
    }
   ],
   "source": [
    "class A:\n",
    "    classvar1=\"I am a classvar in class A\"\n",
    "    def __init__(self):\n",
    "        self.var1=\"I am insied class A's constructor \"\n",
    "        self.classvar1=\"I am instance var in class A \"\n",
    "\n",
    "class B(A):\n",
    "    #classvar1=\"I am a classvar in calss B\"\n",
    "    def __init__(self):\n",
    "        self.var1=\"I am insied class B's constructor \"\n",
    "        # self.classvar1=\"I am instance var in class B \"\n",
    "\n",
    "        \n",
    "    \n",
    "a=A()\n",
    "b=B()\n",
    "print(b.classvar1)   \n",
    "\n",
    "#Here the constructor of class B has overwritten the constructor of class A. \n",
    "#so class A constructor wont run"
   ]
  },
  {
   "cell_type": "code",
   "execution_count": 32,
   "id": "10f5b85e",
   "metadata": {},
   "outputs": [],
   "source": [
    "# how to run class A and B constructor together?\n",
    "# ans: by using supper()"
   ]
  },
  {
   "cell_type": "code",
   "execution_count": 38,
   "id": "f6e536fc",
   "metadata": {},
   "outputs": [
    {
     "name": "stdout",
     "output_type": "stream",
     "text": [
      "supper\n",
      "I am instance var in class A \n"
     ]
    }
   ],
   "source": [
    "class A:\n",
    "    classvar1=\"I am a classvar in class A\"\n",
    "    def __init__(self):\n",
    "        self.var1=\"I am insied class A's constructor \"\n",
    "        self.classvar1=\"I am instance var in class A \"\n",
    "        self.supper=\"supper\"\n",
    "\n",
    "class B(A):\n",
    "    classvar1=\"I am a classvar in calss B\"\n",
    "    \n",
    "    def __init__(self):\n",
    "        super().__init__()                                   #calling super calss constructor\n",
    "        self.var1=\"I am insied class B's constructor \"\n",
    "        self.classvar1=\"I am instance var in class B\"\n",
    "\n",
    "        \n",
    "    \n",
    "a=A()\n",
    "b=B()\n",
    "print(b.supper)   \n",
    "print(b.classvar1)   \n",
    "\n",
    "# because of super command first constructor of A will run followed by reamining arguments of constructor B\n",
    "#note that order of writhing super().__init__() matters\n",
    "#look at the bello example where different output will be obtained because of diff order"
   ]
  },
  {
   "cell_type": "code",
   "execution_count": 40,
   "id": "379772b4",
   "metadata": {},
   "outputs": [
    {
     "name": "stdout",
     "output_type": "stream",
     "text": [
      "supper\n",
      "I am instance var in class A \n"
     ]
    }
   ],
   "source": [
    "class A:\n",
    "    classvar1=\"I am a classvar in class A\"\n",
    "    def __init__(self):\n",
    "        self.var1=\"I am insied class A's constructor \"\n",
    "        self.classvar1=\"I am instance var in class A \"\n",
    "        self.supper=\"supper\"\n",
    "\n",
    "class B(A):\n",
    "    classvar1=\"I am a classvar in calss B\"\n",
    "    \n",
    "    def __init__(self):\n",
    "                                                        \n",
    "        self.var1=\"I am insied class B's constructor \"\n",
    "        self.classvar1=\"I am instance var in class B\"\n",
    "        super().__init__()                                   #calling super calss constructor\n",
    "\n",
    "        \n",
    "    \n",
    "a=A()\n",
    "b=B()\n",
    "print(b.supper)   \n",
    "print(b.classvar1)   \n",
    "\n",
    "#here constructor of class B is called first then class A"
   ]
  },
  {
   "cell_type": "markdown",
   "id": "31e5db5b",
   "metadata": {},
   "source": [
    "# Dimond shaped problems in Inheritance"
   ]
  },
  {
   "cell_type": "code",
   "execution_count": 15,
   "id": "b1c54913",
   "metadata": {},
   "outputs": [
    {
     "name": "stdout",
     "output_type": "stream",
     "text": [
      "This is a function in class C\n"
     ]
    },
    {
     "data": {
      "text/plain": [
       "'\\nFirst it will check for function printData in class D , then in class B and C (in order in which they are inherited).\\nIf the function is not found in class D,B,C then it will check in class A.\\n\\n'"
      ]
     },
     "execution_count": 15,
     "metadata": {},
     "output_type": "execute_result"
    }
   ],
   "source": [
    "class A:\n",
    "    def printData(self):\n",
    "        print(\"This is a function in class A\")\n",
    "class B(A):\n",
    "    pass\n",
    "    #def printData(self):\n",
    "        #print(\"This is a function in class B\")\n",
    "class C(A):\n",
    "    def printData(self):\n",
    "        print(\"This is a function in class C\")\n",
    "class D(B,C):\n",
    "    pass\n",
    "    #def printData(self):\n",
    "        #print(\"This is a function in class D\")\n",
    "        \n",
    "        \n",
    "a=A()\n",
    "b=B()\n",
    "c=C()\n",
    "d=D()\n",
    "d.printData()\n",
    "\n",
    "\"\"\"\n",
    "First it will check for function printData in class D , then in class B and C (in order in which they are inherited).\n",
    "If the function is not found in class D,B,C then it will check in class A.\n",
    "\n",
    "\"\"\""
   ]
  },
  {
   "cell_type": "markdown",
   "id": "6b40f1d1",
   "metadata": {},
   "source": [
    "# Opreator overloading and dunder method.\n",
    "\n"
   ]
  },
  {
   "cell_type": "code",
   "execution_count": 16,
   "id": "d30ff033",
   "metadata": {},
   "outputs": [],
   "source": [
    "# Dunder or magic methods in Python are the methods having two prefix and suffix \n",
    "# underscores in the method name. Dunder here means “Double Under (Underscores)”. "
   ]
  },
  {
   "cell_type": "code",
   "execution_count": 28,
   "id": "d0e703c1",
   "metadata": {},
   "outputs": [
    {
     "name": "stdout",
     "output_type": "stream",
     "text": [
      "150\n",
      "90\n",
      "The name of the employee is Hrithik, salary is 50 and works as Student\n"
     ]
    }
   ],
   "source": [
    "class Employee:\n",
    "    no_of_leaves=8\n",
    "    \n",
    "    def __init__(self,a_name,a_salary,a_role):  \n",
    "        self.name=a_name\n",
    "        self.salary=a_salary\n",
    "        self.role=a_role\n",
    "        \n",
    "    def __add__(self,other):                 #overriding the add function using a dunder function\n",
    "        return self.salary+other.salary\n",
    "    def __repr__(self):                      \n",
    "        return f\"Employee ({self.name},{self.salary},{self.role})\" \n",
    "    def __str__(self):\n",
    "        return f\"The name of the employee is {self.name}, salary is {self.salary} and works as {self.role}\"\n",
    "\n",
    "e1=Employee(\"Hrithik\",50,\"Student\")\n",
    "e2=Employee(\"Satwik\",100,\"Student\")\n",
    "print(e1+e2)\n",
    "print(85+5)\n",
    "print(e1)\n",
    "\n"
   ]
  },
  {
   "cell_type": "code",
   "execution_count": 29,
   "id": "5eca7eb5",
   "metadata": {},
   "outputs": [
    {
     "data": {
      "text/plain": [
       "'\\n# The __repr__ method returns the string representation of an object.Typically, the __repr__() returns a string that can be executed and yield the same value as the object.\\nIn other words, if you pass the returned string of the object_name.\\n\\n# The __str__ function is supposed to return a human-readable format, \\nwhich is good for logging or to display some information about the object\\n\\n# __str__ overrides __repr__ function\\n\\n'"
      ]
     },
     "execution_count": 29,
     "metadata": {},
     "output_type": "execute_result"
    }
   ],
   "source": [
    "\"\"\"\n",
    "# The __repr__ method returns the string representation of an object.\\\n",
    "Typically, the __repr__() returns a string that can be executed and yield the same value as the object.\n",
    "In other words, if you pass the returned string of the object_name.\n",
    "\n",
    "# The __str__ function is supposed to return a human-readable format, \n",
    "which is good for logging or to display some information about the object\n",
    "\n",
    "# __str__ overrides __repr__ function\n",
    "\n",
    "\"\"\""
   ]
  },
  {
   "cell_type": "markdown",
   "id": "f62d7a5b",
   "metadata": {},
   "source": [
    "# abstract base class and @abstractmethod"
   ]
  },
  {
   "cell_type": "code",
   "execution_count": 30,
   "id": "cc512aef",
   "metadata": {},
   "outputs": [],
   "source": [
    "from abc import ABCMeta,abstractmethod"
   ]
  },
  {
   "cell_type": "code",
   "execution_count": 38,
   "id": "e769c213",
   "metadata": {},
   "outputs": [
    {
     "name": "stdout",
     "output_type": "stream",
     "text": [
      "800\n"
     ]
    }
   ],
   "source": [
    "class Shape(metaclass=ABCMeta):\n",
    "    @abstractmethod                #this will force every class derieved from Shape to have a function name Area\n",
    "    def area(self):                #else it will throw an error\n",
    "        return 0\n",
    "    \n",
    "class Rectangle(Shape):\n",
    "    type=\"Rectangle\"\n",
    "    sides=4\n",
    "    def __init__(self):\n",
    "        self.length=80\n",
    "        self.width=10\n",
    "\n",
    "    \n",
    "    def area(self):\n",
    "        return self.length*self.width\n",
    "        \n",
    "r1=Rectangle()\n",
    "print(r1.area())  \n",
    "# r2=Shape()                        #you cannot make direct object of abstract base class\n",
    "    "
   ]
  },
  {
   "cell_type": "markdown",
   "id": "ced76c63",
   "metadata": {},
   "source": [
    "# settlers and property decorators"
   ]
  },
  {
   "cell_type": "code",
   "execution_count": 49,
   "id": "68188a06",
   "metadata": {},
   "outputs": [
    {
     "name": "stdout",
     "output_type": "stream",
     "text": [
      "Hrithik.Mhatre@gmail.com\n",
      "Hrithik.Mhatre@gmail.com\n"
     ]
    }
   ],
   "source": [
    "class Employee():\n",
    "    def __init__(self,fname,lname):\n",
    "        self.fname=fname\n",
    "        self.lname=lname\n",
    "        self.email= f\"{self.fname}.{self.lname}@gmail.com\"\n",
    "    \n",
    "    def explain(self):\n",
    "        return f\"I am {self.fname} {self.lname} .\"\n",
    "    def email(self):\n",
    "        pass\n",
    "    \n",
    "hrithik=Employee(\"Hrithik\",\"Mhatre\")\n",
    "print(hrithik.email)\n",
    "hrithik.lname=\"Patil\"\n",
    "print(hrithik.email)\n",
    "\n",
    "#both will print same as email was formed at the time when constructor was called"
   ]
  },
  {
   "cell_type": "code",
   "execution_count": 51,
   "id": "dfa78c56",
   "metadata": {},
   "outputs": [
    {
     "name": "stdout",
     "output_type": "stream",
     "text": [
      "Hrithik.Mhatre@gmail.com\n",
      "Hrithik.Patil@gmail.com\n"
     ]
    }
   ],
   "source": [
    "class Employee():\n",
    "    def __init__(self,fname,lname):\n",
    "        self.fname=fname\n",
    "        self.lname=lname\n",
    "        #self.email= f\"{self.fname}.{self.lname}@gmail.com\"\n",
    "    \n",
    "    def explain(self):\n",
    "        return f\"I am {self.fname} {self.lname} .\"\n",
    "    def email(self):\n",
    "        return  f\"{self.fname}.{self.lname}@gmail.com\"\n",
    "    \n",
    "    \n",
    "    \n",
    "hrithik=Employee(\"Hrithik\",\"Mhatre\")\n",
    "print(hrithik.email())\n",
    "hrithik.lname=\"Patil\"\n",
    "print(hrithik.email())\n",
    "\n",
    "#now the change will be reflected\n"
   ]
  },
  {
   "cell_type": "code",
   "execution_count": 52,
   "id": "fd577645",
   "metadata": {},
   "outputs": [],
   "source": [
    "#if you want to pass email not as a function but as an argument the you use property decoratior"
   ]
  },
  {
   "cell_type": "code",
   "execution_count": 3,
   "id": "7f029a90",
   "metadata": {},
   "outputs": [
    {
     "name": "stdout",
     "output_type": "stream",
     "text": [
      "Hrithik.Mhatre@gmail.com\n",
      "Hrithik.Patil@gmail.com\n"
     ]
    }
   ],
   "source": [
    "class Employee():\n",
    "    def __init__(self,fname,lname):\n",
    "        self.fname=fname\n",
    "        self.lname=lname\n",
    "        #self.email= f\"{self.fname}.{self.lname}@gmail.com\"\n",
    "    \n",
    "    def explain(self):\n",
    "        return f\"I am {self.fname} {self.lname} .\"    #this will ensure that email is changed when fname or lname is changed\n",
    "    \n",
    "    @property\n",
    "    def email(self):\n",
    "        return  f\"{self.fname}.{self.lname}@gmail.com\"\n",
    "    \n",
    "    \n",
    "hrithik=Employee(\"Hrithik\",\"Mhatre\")\n",
    "print(hrithik.email)\n",
    "hrithik.lname=\"Patil\"\n",
    "print(hrithik.email)\n",
    "\n",
    "#now the change will be reflected\n"
   ]
  },
  {
   "cell_type": "code",
   "execution_count": 7,
   "id": "3a413c5b",
   "metadata": {},
   "outputs": [
    {
     "name": "stdout",
     "output_type": "stream",
     "text": [
      "Hrithik.Mhatre@gmail.com\n",
      "Hrithik.Patil@gmail.com\n",
      "this.that@gmail.com\n",
      "email dosent exist \n"
     ]
    }
   ],
   "source": [
    "class Employee():\n",
    "    def __init__(self,fname,lname):\n",
    "        self.fname=fname\n",
    "        self.lname=lname\n",
    "        #self.email= f\"{self.fname}.{self.lname}@gmail.com\"\n",
    "    \n",
    "    def explain(self):\n",
    "        return f\"I am {self.fname} {self.lname}.\"\n",
    "    \n",
    "    @property\n",
    "    def email(self):\n",
    "        if self.fname==None or self.lname==None:\n",
    "            return \"email dosent exist \"\n",
    "        return  f\"{self.fname}.{self.lname}@gmail.com\"\n",
    "    \n",
    "    \n",
    "    #writing a function that will change the last and the first name once the email is changed\n",
    "    \n",
    "    @email.setter                   # @function_name.setter\n",
    "    def email(self,string):         #fujnction with same name as earlier\n",
    "\n",
    "        names=string.split(\"@\")[0]\n",
    "        self.fname=names.split(\".\")[0]\n",
    "        self.lname=names.split(\".\")[1]\n",
    "    \n",
    "    @email.deleter                 #for deletig email\n",
    "    def email(self):\n",
    "        self.lname=None\n",
    "        self.fname=None\n",
    "          \n",
    "        \n",
    "    \n",
    "    \n",
    "    \n",
    "    \n",
    "hrithik=Employee(\"Hrithik\",\"Mhatre\")\n",
    "print(hrithik.email)\n",
    "hrithik.lname=\"Patil\"\n",
    "print(hrithik.email)\n",
    "hrithik.email=\"this.that@gmail.com\"\n",
    "print(hrithik.email)\n",
    "del hrithik.email\n",
    "print(hrithik.email)\n"
   ]
  },
  {
   "cell_type": "markdown",
   "id": "8c329f9f",
   "metadata": {},
   "source": [
    "# object introspection"
   ]
  },
  {
   "cell_type": "code",
   "execution_count": 17,
   "id": "cd29e262",
   "metadata": {},
   "outputs": [
    {
     "name": "stdout",
     "output_type": "stream",
     "text": [
      "<class '__main__.Employee'>\n",
      "1837083819552\n",
      "['__class__', '__delattr__', '__dict__', '__dir__', '__doc__', '__eq__', '__format__', '__ge__', '__getattribute__', '__gt__', '__hash__', '__init__', '__init_subclass__', '__le__', '__lt__', '__module__', '__ne__', '__new__', '__reduce__', '__reduce_ex__', '__repr__', '__setattr__', '__sizeof__', '__str__', '__subclasshook__', '__weakref__', 'email', 'explain', 'fname', 'lname']\n"
     ]
    }
   ],
   "source": [
    "\n",
    "class Employee:\n",
    "    no_of_leaves=8\n",
    "    \n",
    "    def __init__(self,a_name,a_salary,a_role):    \n",
    "        self.name=a_name\n",
    "        self.salary=a_salary\n",
    "        self.role=a_role\n",
    "        \n",
    "hrihtik=Employee(\"Hrithik\",50,\"Student\")\n",
    "print(type(hrithik))\n",
    "print(id(hrithik))\n",
    "print(dir(hrithik))           #we will get all the methods that are defined inside it\n",
    "\n",
    "\n"
   ]
  },
  {
   "cell_type": "code",
   "execution_count": 18,
   "id": "891e048d",
   "metadata": {},
   "outputs": [
    {
     "name": "stdout",
     "output_type": "stream",
     "text": [
      "Inspect module\n",
      "[('__class__', <class '__main__.Employee'>), ('__delattr__', <method-wrapper '__delattr__' of Employee object at 0x000001ABBABA7E20>), ('__dict__', {'fname': None, 'lname': None}), ('__dir__', <built-in method __dir__ of Employee object at 0x000001ABBABA7E20>), ('__doc__', None), ('__eq__', <method-wrapper '__eq__' of Employee object at 0x000001ABBABA7E20>), ('__format__', <built-in method __format__ of Employee object at 0x000001ABBABA7E20>), ('__ge__', <method-wrapper '__ge__' of Employee object at 0x000001ABBABA7E20>), ('__getattribute__', <method-wrapper '__getattribute__' of Employee object at 0x000001ABBABA7E20>), ('__gt__', <method-wrapper '__gt__' of Employee object at 0x000001ABBABA7E20>), ('__hash__', <method-wrapper '__hash__' of Employee object at 0x000001ABBABA7E20>), ('__init__', <bound method Employee.__init__ of <__main__.Employee object at 0x000001ABBABA7E20>>), ('__init_subclass__', <built-in method __init_subclass__ of type object at 0x000001ABB9C250A0>), ('__le__', <method-wrapper '__le__' of Employee object at 0x000001ABBABA7E20>), ('__lt__', <method-wrapper '__lt__' of Employee object at 0x000001ABBABA7E20>), ('__module__', '__main__'), ('__ne__', <method-wrapper '__ne__' of Employee object at 0x000001ABBABA7E20>), ('__new__', <built-in method __new__ of type object at 0x00007FFBDE3B0780>), ('__reduce__', <built-in method __reduce__ of Employee object at 0x000001ABBABA7E20>), ('__reduce_ex__', <built-in method __reduce_ex__ of Employee object at 0x000001ABBABA7E20>), ('__repr__', <method-wrapper '__repr__' of Employee object at 0x000001ABBABA7E20>), ('__setattr__', <method-wrapper '__setattr__' of Employee object at 0x000001ABBABA7E20>), ('__sizeof__', <built-in method __sizeof__ of Employee object at 0x000001ABBABA7E20>), ('__str__', <method-wrapper '__str__' of Employee object at 0x000001ABBABA7E20>), ('__subclasshook__', <built-in method __subclasshook__ of type object at 0x000001ABB9C250A0>), ('__weakref__', None), ('email', 'email dosent exist '), ('explain', <bound method Employee.explain of <__main__.Employee object at 0x000001ABBABA7E20>>), ('fname', None), ('lname', None)]\n"
     ]
    }
   ],
   "source": [
    "class Employee:\n",
    "    no_of_leaves=8\n",
    "    \n",
    "    def __init__(self,a_name,a_salary,a_role):    \n",
    "        self.name=a_name\n",
    "        self.salary=a_salary\n",
    "        self.role=a_role\n",
    "        \n",
    "hrihtik=Employee(\"Hrithik\",50,\"Student\")\n",
    "\n",
    "#inspect module\n",
    "\n",
    "print(\"Inspect module\")\n",
    "import inspect\n",
    "print(inspect.getmembers(hrithik))"
   ]
  },
  {
   "cell_type": "markdown",
   "id": "577f2934",
   "metadata": {},
   "source": [
    "# generators in python"
   ]
  },
  {
   "cell_type": "code",
   "execution_count": 20,
   "id": "728ff8e4",
   "metadata": {},
   "outputs": [
    {
     "name": "stdout",
     "output_type": "stream",
     "text": [
      "book\n",
      "pencil\n",
      "erszer\n"
     ]
    }
   ],
   "source": [
    "\"\"\"\n",
    "Iterables are objects that can be placed inside a loop and can return one variable at a time.\n",
    "In simple terms, we can say that iterables are objects capable of iteration.\n",
    "Examples of iterable include list, string, tuple, etc. \n",
    "\"\"\"\n",
    "\n",
    "a=[\"book\",\"pencil\",\"erszer\"]\n",
    "for c in a:\n",
    "      print (c)\n",
    "#Here a is an iterable."
   ]
  },
  {
   "cell_type": "code",
   "execution_count": 21,
   "id": "f53c836b",
   "metadata": {},
   "outputs": [
    {
     "data": {
      "text/plain": [
       "'\\n An iterator can be defined as an object that does iterations on iterable. \\n Meaning that it will move from character to character doing iteration.\\n Every iterable, either it is a string or tuple, has a built-in method __iter__() that creates an object when called. \\n The object moves from character to character of iterable using the __next__() method.\\n'"
      ]
     },
     "execution_count": 21,
     "metadata": {},
     "output_type": "execute_result"
    }
   ],
   "source": [
    "\"\"\"\n",
    " An iterator can be defined as an object that does iterations on iterable. \n",
    " Meaning that it will move from character to character doing iteration.\n",
    " Every iterable, either it is a string or tuple, has a built-in method __iter__() that creates an object when called. \n",
    " The object moves from character to character of iterable using the __next__() method.\n",
    "\"\"\""
   ]
  },
  {
   "cell_type": "code",
   "execution_count": 24,
   "id": "52634a2c",
   "metadata": {},
   "outputs": [
    {
     "data": {
      "text/plain": [
       "'\\nGenerators concept is also very similar as it is used to make an iterator. \\nThe only difference comes in the return statement. \\nThe generator does not use a return statement. Instead, it uses a yield keyword. \\n'"
      ]
     },
     "execution_count": 24,
     "metadata": {},
     "output_type": "execute_result"
    }
   ],
   "source": [
    "\"\"\"\n",
    "Generators concept is also very similar as it is used to make an iterator. \n",
    "The only difference comes in the return statement. \n",
    "The generator does not use a return statement. Instead, it uses a yield keyword. \n",
    "\"\"\""
   ]
  },
  {
   "cell_type": "code",
   "execution_count": 26,
   "id": "b5cfb61b",
   "metadata": {},
   "outputs": [
    {
     "name": "stdout",
     "output_type": "stream",
     "text": [
      "0\n",
      "1\n"
     ]
    }
   ],
   "source": [
    "def getNum (x):\n",
    "    for i in range(x):\n",
    "        yield i\n",
    "\n",
    "seq = getNum (2)\n",
    "print(seq.__next__())\n",
    "print(seq.__next__())\n"
   ]
  },
  {
   "cell_type": "markdown",
   "id": "c4a1d2ea",
   "metadata": {},
   "source": [
    "# Python Comprehensions"
   ]
  },
  {
   "cell_type": "code",
   "execution_count": 2,
   "id": "52cedb56",
   "metadata": {},
   "outputs": [
    {
     "name": "stdout",
     "output_type": "stream",
     "text": [
      "[0, 3, 6, 9, 12, 15, 18, 21, 24, 27, 30, 33, 36, 39, 42, 45, 48, 51, 54, 57, 60, 63, 66, 69, 72, 75, 78, 81, 84, 87, 90, 93, 96, 99]\n"
     ]
    }
   ],
   "source": [
    "ls =[]\n",
    "for i in range (100):\n",
    "    if i%3==0:\n",
    "        ls.append(i)\n",
    "print(ls)"
   ]
  },
  {
   "cell_type": "code",
   "execution_count": 5,
   "id": "1ef54c38",
   "metadata": {},
   "outputs": [
    {
     "name": "stdout",
     "output_type": "stream",
     "text": [
      "[0, 3, 6, 9, 12, 15, 18, 21, 24, 27, 30, 33, 36, 39, 42, 45, 48, 51, 54, 57, 60, 63, 66, 69, 72, 75, 78, 81, 84, 87, 90, 93, 96, 99]\n"
     ]
    }
   ],
   "source": [
    "#Shotcut for doing 1\n",
    "\n",
    "ls1=[i for i in range(100) if i%3==0]\n",
    "print(ls1)"
   ]
  },
  {
   "cell_type": "code",
   "execution_count": 6,
   "id": "fdc571e5",
   "metadata": {},
   "outputs": [],
   "source": [
    "#dictionary comprension"
   ]
  },
  {
   "cell_type": "code",
   "execution_count": 9,
   "id": "6406a771",
   "metadata": {},
   "outputs": [
    {
     "name": "stdout",
     "output_type": "stream",
     "text": [
      "{0: 'item0', 2: 'item2', 4: 'item4', 6: 'item6', 8: 'item8'}\n"
     ]
    }
   ],
   "source": [
    "dict1={i:f\"item{i}\" for i in range(10) if i%2==0}\n",
    "print(dict1)"
   ]
  },
  {
   "cell_type": "code",
   "execution_count": 12,
   "id": "c259abda",
   "metadata": {},
   "outputs": [
    {
     "name": "stdout",
     "output_type": "stream",
     "text": [
      "{'item0': 0, 'item1': 1, 'item2': 2, 'item3': 3, 'item4': 4}\n"
     ]
    }
   ],
   "source": [
    "#reversing the key value pairs in dictionary\n",
    "\n",
    "dict1={i:f\"item{i}\" for i in range(5)}\n",
    "dict2={value:key for key,value in dict1.items()}\n",
    "print(dict2)"
   ]
  },
  {
   "cell_type": "code",
   "execution_count": 13,
   "id": "70863beb",
   "metadata": {},
   "outputs": [],
   "source": [
    "#set comprension"
   ]
  },
  {
   "cell_type": "code",
   "execution_count": 15,
   "id": "1d4cf9cf",
   "metadata": {},
   "outputs": [
    {
     "name": "stdout",
     "output_type": "stream",
     "text": [
      "{'item1', 'item2'}\n"
     ]
    }
   ],
   "source": [
    "dresses={dress for dress in [\"item1\",\"item2\",\"item1\"]}\n",
    "print(dresses)"
   ]
  },
  {
   "cell_type": "code",
   "execution_count": 16,
   "id": "95b2cd47",
   "metadata": {},
   "outputs": [],
   "source": [
    "#generator comprension"
   ]
  },
  {
   "cell_type": "code",
   "execution_count": 22,
   "id": "debf6557",
   "metadata": {},
   "outputs": [
    {
     "name": "stdout",
     "output_type": "stream",
     "text": [
      "<generator object <genexpr> at 0x00000177D214A110>\n",
      "0\n",
      "2\n",
      "4\n"
     ]
    }
   ],
   "source": [
    "evens=(i for i in range(100) if i%2==0)\n",
    "print(evens)\n",
    "print(evens.__next__())\n",
    "print(evens.__next__())\n",
    "print(evens.__next__())"
   ]
  },
  {
   "cell_type": "markdown",
   "id": "7a9cbc79",
   "metadata": {},
   "source": [
    "# using else with for loop"
   ]
  },
  {
   "cell_type": "code",
   "execution_count": 31,
   "id": "4b5dba6b",
   "metadata": {},
   "outputs": [
    {
     "name": "stdout",
     "output_type": "stream",
     "text": [
      "roti\n",
      "chapati\n",
      "rice\n",
      "This for loop ended properly\n"
     ]
    }
   ],
   "source": [
    "khana=[\"roti\",\"chapati\",\"rice\"]\n",
    "\n",
    "for item in khana:\n",
    "    print(item)\n",
    "else: print(\"This for loop ended properly\")"
   ]
  },
  {
   "cell_type": "code",
   "execution_count": 32,
   "id": "bde2e754",
   "metadata": {},
   "outputs": [
    {
     "name": "stdout",
     "output_type": "stream",
     "text": [
      "roti\n"
     ]
    }
   ],
   "source": [
    " khana=[\"roti\",\"chapati\",\"rice\"]\n",
    "\n",
    "for item in khana:\n",
    "    print(item)\n",
    "    break\n",
    "else: print(\"This for loop ended properly\")"
   ]
  },
  {
   "cell_type": "code",
   "execution_count": 33,
   "id": "843b9117",
   "metadata": {},
   "outputs": [],
   "source": [
    "#how to use this?\n"
   ]
  },
  {
   "cell_type": "code",
   "execution_count": 38,
   "id": "88469b66",
   "metadata": {},
   "outputs": [
    {
     "name": "stdout",
     "output_type": "stream",
     "text": [
      "Your item was not found in list\n"
     ]
    }
   ],
   "source": [
    "khana=[\"roti\",\"chapati\",\"rice\"]\n",
    "\n",
    "for item in khana:\n",
    "    if item==\"paratha\":\n",
    "        break\n",
    "   \n",
    "else: print(\"Your item was not found in list\")"
   ]
  },
  {
   "cell_type": "markdown",
   "id": "0f81be2e",
   "metadata": {},
   "source": [
    "# Function Caching In Python"
   ]
  },
  {
   "cell_type": "code",
   "execution_count": null,
   "id": "cc8eb39b",
   "metadata": {},
   "outputs": [],
   "source": [
    "#Basically the input and output is stored as catch to reuse ans save runtime"
   ]
  },
  {
   "cell_type": "code",
   "execution_count": 1,
   "id": "73630af7",
   "metadata": {},
   "outputs": [],
   "source": [
    "import time"
   ]
  },
  {
   "cell_type": "code",
   "execution_count": 4,
   "id": "110e8a6a",
   "metadata": {},
   "outputs": [
    {
     "name": "stdout",
     "output_type": "stream",
     "text": [
      "Now running somework \n",
      "Done....now calling again \n",
      "Done\n"
     ]
    }
   ],
   "source": [
    "def some_work(n):\n",
    "    #some task taking n seconds\n",
    "    time.sleep(n)\n",
    "    return n\n",
    "\n",
    "if __name__=='__main__':\n",
    "    print(\"Now running somework \")\n",
    "    some_work(2)\n",
    "    print(\"Done....now calling again \")\n",
    "    some_work(2)\n",
    "    print(\"Done\")"
   ]
  },
  {
   "cell_type": "code",
   "execution_count": 5,
   "id": "fd096878",
   "metadata": {},
   "outputs": [],
   "source": [
    "from functools import lru_cache"
   ]
  },
  {
   "cell_type": "code",
   "execution_count": 13,
   "id": "e571d6cb",
   "metadata": {},
   "outputs": [
    {
     "name": "stdout",
     "output_type": "stream",
     "text": [
      "Now running somework \n",
      "Wait:1 sec\n",
      "Wait:2 sec\n",
      "Wait:3 sec\n",
      "Wait:4 sec\n",
      "Wait:3 sec\n",
      "Done\n"
     ]
    }
   ],
   "source": [
    "@lru_cache(maxsize=3)                              #max_size=3 means save the latest three calls\n",
    "def some_work(n):\n",
    "    #some task taking n seconds\n",
    "    time.sleep(n)\n",
    "    return n\n",
    "\n",
    "if __name__=='__main__':  \n",
    "    print(\"Now running somework \")\n",
    "    print(\"Wait:1 sec\")\n",
    "    some_work(1)                                   #this will get stored in cache\n",
    "    print(\"Wait:2 sec\")\n",
    "    some_work(2)\n",
    "    print(\"Wait:3 sec\")\n",
    "    some_work(3)\n",
    "    print(\"Wait:4 sec\")\n",
    "    some_work(4)\n",
    "    print(\"Wait:3 sec\")\n",
    "    some_work(3)                                #this got stored in cache\n",
    "    print(\"Done\")\n",
    "    "
   ]
  },
  {
   "cell_type": "markdown",
   "id": "a6c7ff9b",
   "metadata": {},
   "source": [
    "# Else & Finally In Try Except "
   ]
  },
  {
   "cell_type": "code",
   "execution_count": 16,
   "id": "6bf0d445",
   "metadata": {},
   "outputs": [
    {
     "name": "stdout",
     "output_type": "stream",
     "text": [
      "[Errno 2] No such file or directory: 'hrithik45.txt'\n"
     ]
    }
   ],
   "source": [
    "f1=open(\"hrithik2.txt\")\n",
    "try:\n",
    "    f=open(\"hrithik45.txt\")\n",
    "except Exception as e:\n",
    "    print(e)\n",
    "     \n",
    "finally:                                 #will run anyways\n",
    "    f1.close()\n"
   ]
  },
  {
   "cell_type": "code",
   "execution_count": 17,
   "id": "9a6ba2e2",
   "metadata": {},
   "outputs": [],
   "source": [
    "#either \"except\" or \"else\" will get run"
   ]
  },
  {
   "cell_type": "code",
   "execution_count": 18,
   "id": "a7db79c3",
   "metadata": {},
   "outputs": [
    {
     "name": "stdout",
     "output_type": "stream",
     "text": [
      "This ran because the exception didnt ran\n"
     ]
    }
   ],
   "source": [
    "\n",
    "try:\n",
    "    f1=open(\"hrithik2.txt\")\n",
    "except Exception as e:\n",
    "    print(e)\n",
    "else:\n",
    "    print(\"This ran because the exception didnt ran\")\n",
    "     \n",
    "finally:                                 #will run anyways\n",
    "    f1.close()\n"
   ]
  },
  {
   "cell_type": "markdown",
   "id": "4f96de47",
   "metadata": {},
   "source": [
    "# Coroutines"
   ]
  },
  {
   "cell_type": "code",
   "execution_count": 3,
   "id": "2ce71743",
   "metadata": {},
   "outputs": [],
   "source": [
    "#general coroutines function\n",
    "\n",
    "def myfunc():\n",
    "    while True:\n",
    "        value = (yield)"
   ]
  },
  {
   "cell_type": "code",
   "execution_count": 4,
   "id": "14562a80",
   "metadata": {},
   "outputs": [
    {
     "data": {
      "text/plain": [
       "'\\nCoroutines are mostly used in cases of time-consuming programs, such as tasks related to machine learning \\nor deep learning algorithms, or in cases where the program has to read a file containing a large number of data\\nIn such situations, we do not want the program to read the file or data again and again,\\nso we use coroutines to make the program more efficient and faster. \\nCoroutines run endlessly in a program because they use a while loop with a true or 1 condition,\\nso it may run until infinite time. Even after yielding the value to the caller, it still awaits further instruction or calls.\\nWe have to stop the execution of the coroutine by calling the coroutine.close() function.\\nIt is crucial to close a coroutine because its continuous running can take up memory space,\\nas we have discussed \\n'"
      ]
     },
     "execution_count": 4,
     "metadata": {},
     "output_type": "execute_result"
    }
   ],
   "source": [
    "\"\"\"\n",
    "Coroutines are mostly used in cases of time-consuming programs, such as tasks related to machine learning \n",
    "or deep learning algorithms, or in cases where the program has to read a file containing a large number of data\n",
    "In such situations, we do not want the program to read the file or data again and again,\n",
    "so we use coroutines to make the program more efficient and faster. \n",
    "Coroutines run endlessly in a program because they use a while loop with a true or 1 condition,\n",
    "so it may run until infinite time. Even after yielding the value to the caller, it still awaits further instruction or calls.\n",
    "We have to stop the execution of the coroutine by calling the coroutine.close() function.\n",
    "It is crucial to close a coroutine because its continuous running can take up memory space,\n",
    "as we have discussed \n",
    "\"\"\"\n",
    "# send() — used to send data to coroutine\n",
    "# close() — to close the coroutine"
   ]
  },
  {
   "cell_type": "code",
   "execution_count": 8,
   "id": "4e5d5f7d",
   "metadata": {},
   "outputs": [
    {
     "name": "stdout",
     "output_type": "stream",
     "text": [
      "Hrithik is a good boy\n",
      "is\n",
      "a\n"
     ]
    }
   ],
   "source": [
    "#general idea\n",
    "\n",
    "def myfunc():\n",
    "    print(\"Hrithik is a good boy\")\n",
    "    while True:\n",
    "        value=(yield)\n",
    "        print(value)\n",
    "        \n",
    "        \n",
    "coroutine=myfunc()           #creating a coroutine\n",
    "next(coroutine)             #Coroutine requires the use of the next statement first so it may start its execution\n",
    "coroutine.send(\"is\")        #We can search a coroutine by sending it the keywords as input using object name along with send()\n",
    "coroutine.send(\"a\")\n",
    "coroutine.close()"
   ]
  },
  {
   "cell_type": "code",
   "execution_count": 9,
   "id": "c34deef1",
   "metadata": {},
   "outputs": [
    {
     "name": "stdout",
     "output_type": "stream",
     "text": [
      "search started\n",
      "Next method run\n",
      "Your text is in the book\n"
     ]
    }
   ],
   "source": [
    "def searcher():\n",
    "    import time\n",
    "    # Some 4 seconds time consuming task\n",
    "    book = \"This is a book on harry and code with harry and good\"\n",
    "    time.sleep(4)\n",
    "\n",
    "    while True:\n",
    "        text = (yield)\n",
    "        if text in book:\n",
    "            print(\"Your text is in the book\")\n",
    "        else:\n",
    "            print(\"Text is not in the book\")\n",
    "\n",
    "search = searcher()\n",
    "print(\"search started\")\n",
    "next(search)\n",
    "print(\"Next method run\")\n",
    "search.send(\"harry\")\n",
    "\n",
    "search.close()"
   ]
  },
  {
   "cell_type": "markdown",
   "id": "a98eed10",
   "metadata": {},
   "source": [
    " # Os Module"
   ]
  },
  {
   "cell_type": "code",
   "execution_count": 25,
   "id": "f1de957d",
   "metadata": {},
   "outputs": [],
   "source": [
    "import os"
   ]
  },
  {
   "cell_type": "code",
   "execution_count": 26,
   "id": "d7ce5f14",
   "metadata": {},
   "outputs": [
    {
     "name": "stdout",
     "output_type": "stream",
     "text": [
      "['DirEntry', 'F_OK', 'GenericAlias', 'Mapping', 'MutableMapping', 'O_APPEND', 'O_BINARY', 'O_CREAT', 'O_EXCL', 'O_NOINHERIT', 'O_RANDOM', 'O_RDONLY', 'O_RDWR', 'O_SEQUENTIAL', 'O_SHORT_LIVED', 'O_TEMPORARY', 'O_TEXT', 'O_TRUNC', 'O_WRONLY', 'P_DETACH', 'P_NOWAIT', 'P_NOWAITO', 'P_OVERLAY', 'P_WAIT', 'PathLike', 'R_OK', 'SEEK_CUR', 'SEEK_END', 'SEEK_SET', 'TMP_MAX', 'W_OK', 'X_OK', '_AddedDllDirectory', '_Environ', '__all__', '__builtins__', '__cached__', '__doc__', '__file__', '__loader__', '__name__', '__package__', '__spec__', '_check_methods', '_execvpe', '_exists', '_exit', '_fspath', '_get_exports_list', '_walk', '_wrap_close', 'abc', 'abort', 'access', 'add_dll_directory', 'altsep', 'chdir', 'chmod', 'close', 'closerange', 'cpu_count', 'curdir', 'defpath', 'device_encoding', 'devnull', 'dup', 'dup2', 'environ', 'error', 'execl', 'execle', 'execlp', 'execlpe', 'execv', 'execve', 'execvp', 'execvpe', 'extsep', 'fdopen', 'fsdecode', 'fsencode', 'fspath', 'fstat', 'fsync', 'ftruncate', 'get_exec_path', 'get_handle_inheritable', 'get_inheritable', 'get_terminal_size', 'getcwd', 'getcwdb', 'getenv', 'getlogin', 'getpid', 'getppid', 'isatty', 'kill', 'linesep', 'link', 'listdir', 'lseek', 'lstat', 'makedirs', 'mkdir', 'name', 'open', 'pardir', 'path', 'pathsep', 'pipe', 'popen', 'putenv', 'read', 'readlink', 'remove', 'removedirs', 'rename', 'renames', 'replace', 'rmdir', 'scandir', 'sep', 'set_handle_inheritable', 'set_inheritable', 'spawnl', 'spawnle', 'spawnv', 'spawnve', 'st', 'startfile', 'stat', 'stat_result', 'statvfs_result', 'strerror', 'supports_bytes_environ', 'supports_dir_fd', 'supports_effective_ids', 'supports_fd', 'supports_follow_symlinks', 'symlink', 'sys', 'system', 'terminal_size', 'times', 'times_result', 'truncate', 'umask', 'uname_result', 'unlink', 'unsetenv', 'urandom', 'utime', 'waitpid', 'waitstatus_to_exitcode', 'walk', 'write']\n"
     ]
    }
   ],
   "source": [
    "print(dir(os))           #object introspection"
   ]
  },
  {
   "cell_type": "code",
   "execution_count": 27,
   "id": "bdf08f7e",
   "metadata": {},
   "outputs": [
    {
     "name": "stdout",
     "output_type": "stream",
     "text": [
      "C:\\Users\\hrith\\OneDrive\\Desktop\\Lecture Files\\python\n"
     ]
    }
   ],
   "source": [
    "print(os.getcwd())            #get cuttent working directory"
   ]
  },
  {
   "cell_type": "code",
   "execution_count": 28,
   "id": "fcc9d14c",
   "metadata": {},
   "outputs": [],
   "source": [
    "# os.chdir(\"C://\")              #change the working directory to \"C://\"\n",
    "# print(os.getcwd())            #get cuttent working directory"
   ]
  },
  {
   "cell_type": "code",
   "execution_count": 29,
   "id": "59eb05be",
   "metadata": {},
   "outputs": [],
   "source": [
    "# print(os.listdir(\"C://\"))    #list the folders/files persent in the current directory"
   ]
  },
  {
   "cell_type": "code",
   "execution_count": 30,
   "id": "a59f2811",
   "metadata": {},
   "outputs": [],
   "source": [
    "# os.mkdir(\"Os\")                 #creating a new folder named Os in the current directory"
   ]
  },
  {
   "cell_type": "code",
   "execution_count": 31,
   "id": "8f08aad0",
   "metadata": {},
   "outputs": [],
   "source": [
    "# os.makedirs(\"os/text52.txt\")   #create a folder and a file inside it\n"
   ]
  },
  {
   "cell_type": "code",
   "execution_count": 32,
   "id": "67acfdb3",
   "metadata": {},
   "outputs": [
    {
     "name": "stdout",
     "output_type": "stream",
     "text": [
      "C:\\Users\\hrith\\OneDrive\\Desktop\\Lecture Files\\python\n"
     ]
    }
   ],
   "source": [
    "print(os.getcwd())            #get cuttent working directory"
   ]
  },
  {
   "cell_type": "code",
   "execution_count": 33,
   "id": "cce8e4d5",
   "metadata": {},
   "outputs": [],
   "source": [
    "# os.rename(\"hrithik2.txt\",\"hrithik52.txt\")   #rename file1 to file2  ( the file should be in current directory)"
   ]
  },
  {
   "cell_type": "code",
   "execution_count": 34,
   "id": "40661d09",
   "metadata": {},
   "outputs": [
    {
     "name": "stdout",
     "output_type": "stream",
     "text": [
      "C:\\windows\\system32;C:\\windows;C:\\windows\\System32\\Wbem;C:\\windows\\System32\\WindowsPowerShell\\v1.0\\;C:\\windows\\System32\\OpenSSH\\;C:\\MinGW\\bin;C:\\Users\\hrith\\AppData\\Local\\Programs\\Python\\Python310\\Scripts\\;C:\\Users\\hrith\\AppData\\Local\\Programs\\Python\\Python310\\;C:\\Users\\hrith\\AppData\\Local\\Microsoft\\WindowsApps;C:\\Users\\hrith\\AppData\\Local\\Programs\\Microsoft VS Code\\bin;C:\\Users\\hrith\\AppData\\Local\\GitHubDesktop\\bin\n"
     ]
    }
   ],
   "source": [
    "print(os.environ.get(\"Path\"))           #get environment variables"
   ]
  },
  {
   "cell_type": "code",
   "execution_count": 35,
   "id": "ebb8532b",
   "metadata": {},
   "outputs": [
    {
     "data": {
      "text/plain": [
       "'C://hrithik52.txt'"
      ]
     },
     "execution_count": 35,
     "metadata": {},
     "output_type": "execute_result"
    }
   ],
   "source": [
    "os.path.join(\"C://\",\"hrithik52.txt\")              #join two paths"
   ]
  },
  {
   "cell_type": "code",
   "execution_count": 36,
   "id": "44674690",
   "metadata": {},
   "outputs": [
    {
     "name": "stdout",
     "output_type": "stream",
     "text": [
      "True\n"
     ]
    }
   ],
   "source": [
    "print(os.path.exists(\"C://\"))                 #tells if the path exists or not"
   ]
  },
  {
   "cell_type": "code",
   "execution_count": 38,
   "id": "bde58875",
   "metadata": {},
   "outputs": [
    {
     "name": "stdout",
     "output_type": "stream",
     "text": [
      "False\n"
     ]
    }
   ],
   "source": [
    "print(os.path.isfile(\"C://Program Files\"))    #to check it is a file or directory etc...."
   ]
  },
  {
   "cell_type": "markdown",
   "id": "21bde14e",
   "metadata": {},
   "source": [
    "# Requests Module For HTTP Requests"
   ]
  },
  {
   "cell_type": "code",
   "execution_count": 40,
   "id": "04373919",
   "metadata": {},
   "outputs": [],
   "source": [
    "import requests"
   ]
  },
  {
   "cell_type": "code",
   "execution_count": 48,
   "id": "e139a4f7",
   "metadata": {},
   "outputs": [
    {
     "data": {
      "text/plain": [
       "'\\n\\n\\n\\n\\n<!DOCTYPE html>\\n<html class=\"no-js \" lang=\"en\">\\n<head>\\n  <meta charset=\"utf-8\" />\\n  <meta http-equiv=\"X-UA-Compatible\" content=\"IE=edge,chrome=1\" /><script type=\"text/javascript\">(window.NREUM||(NREUM={})).init={ajax:{deny_list:[\"bam.nr-data.net\"]}};(window.NREUM||(NREUM={})).loader_config={xpid:\"VQ4OWFZXGwIAXFZTBgI=\",licenseKey:\"ba34eb72cb\",applicationID:\"1087113\"};window.NREUM||(NREUM={}),__nr_require=function(t,e,n){function r(n){if(!e[n]){var o=e[n]={exports:{}};t[n][0].call(o.exports,function(e){var o=t[n][1][e];return r(o||e)},o,o.exports)}return e[n].exports}if(\"function\"==typeof __nr_require)return __nr_require;for(var o=0;o<n.length;o++)r(n[o]);return r}({1:[function(t,e,n){function r(t){try{s.console&&console.log(t)}catch(e){}}var o,i=t(\"ee\"),a=t(31),s={};try{o=localStorage.getItem(\"__nr_flags\").split(\",\"),console&&\"function\"==typeof console.log&&(s.console=!0,o.indexOf(\"dev\")!==-1&&(s.dev=!0),o.indexOf(\"nr_dev\")!==-1&&(s.nrDev=!0))}catch(c){}s.nrDev&&i.on(\"internal-error\",function(t){r(t.stack)}),s.dev&&i.on(\"fn-err\",function(t,e,n){r(n.stack)}),s.dev&&(r(\"NR AGENT IN DEVELOPMENT MODE\"),r(\"flags: \"+a(s,function(t,e){return t}).join(\", \")))},{}],2:[function(t,e,n){function r(t,e,n,r,s){try{l?l-=1:o(s||new UncaughtException(t,e,n),!0)}catch(f){try{i(\"ierr\",[f,c.now(),!0])}catch(d){}}return\"function\"==typeof u&&u.apply(this,a(arguments))}function UncaughtException(t,e,n){this.message=t||\"Uncaught error with no additional information\",this.sourceURL=e,this.line=n}function o(t,e){var n=e?null:c.now();i(\"err\",[t,n])}var i=t(\"handle\"),a=t(32),s=t(\"ee\"),c=t(\"loader\"),f=t(\"gos\"),u=window.onerror,d=!1,p=\"nr@seenError\";if(!c.disabled){var l=0;c.features.err=!0,t(1),window.onerror=r;try{throw new Error}catch(h){\"stack\"in h&&(t(14),t(13),\"addEventListener\"in window&&t(7),c.xhrWrappable&&t(15),d=!0)}s.on(\"fn-start\",function(t,e,n){d&&(l+=1)}),s.on(\"fn-err\",function(t,e,n){d&&!n[p]&&(f(n,p,function(){return!0}),this.thrown=!0,o(n))}),s.on(\"fn-end\",function(){d&&!this.thrown&&l>0&&(l-=1)}),s.on(\"internal-error\",function(t){i(\"ierr\",[t,c.now(),!0])})}},{}],3:[function(t,e,n){var r=t(\"loader\");r.disabled||(r.features.ins=!0)},{}],4:[function(t,e,n){function r(){U++,L=g.hash,this[u]=y.now()}function o(){U--,g.hash!==L&&i(0,!0);var t=y.now();this[h]=~~this[h]+t-this[u],this[d]=t}function i(t,e){E.emit(\"newURL\",[\"\"+g,e])}function a(t,e){t.on(e,function(){this[e]=y.now()})}var s=\"-start\",c=\"-end\",f=\"-body\",u=\"fn\"+s,d=\"fn\"+c,p=\"cb\"+s,l=\"cb\"+c,h=\"jsTime\",m=\"fetch\",v=\"addEventListener\",w=window,g=w.location,y=t(\"loader\");if(w[v]&&y.xhrWrappable&&!y.disabled){var x=t(11),b=t(12),E=t(9),R=t(7),O=t(14),T=t(8),S=t(15),P=t(10),M=t(\"ee\"),C=M.get(\"tracer\"),N=t(23);t(17),y.features.spa=!0;var L,U=0;M.on(u,r),b.on(p,r),P.on(p,r),M.on(d,o),b.on(l,o),P.on(l,o),M.buffer([u,d,\"xhr-resolved\"]),R.buffer([u]),O.buffer([\"setTimeout\"+c,\"clearTimeout\"+s,u]),S.buffer([u,\"new-xhr\",\"send-xhr\"+s]),T.buffer([m+s,m+\"-done\",m+f+s,m+f+c]),E.buffer([\"newURL\"]),x.buffer([u]),b.buffer([\"propagate\",p,l,\"executor-err\",\"resolve\"+s]),C.buffer([u,\"no-\"+u]),P.buffer([\"new-jsonp\",\"cb-start\",\"jsonp-error\",\"jsonp-end\"]),a(T,m+s),a(T,m+\"-done\"),a(P,\"new-jsonp\"),a(P,\"jsonp-end\"),a(P,\"cb-start\"),E.on(\"pushState-end\",i),E.on(\"replaceState-end\",i),w[v](\"hashchange\",i,N(!0)),w[v](\"load\",i,N(!0)),w[v](\"popstate\",function(){i(0,U>1)},N(!0))}},{}],5:[function(t,e,n){function r(){var t=new PerformanceObserver(function(t,e){var n=t.getEntries();s(v,[n])});try{t.observe({entryTypes:[\"resource\"]})}catch(e){}}function o(t){if(s(v,[window.performance.getEntriesByType(w)]),window.performance[\"c\"+p])try{window.performance[h](m,o,!1)}catch(t){}else try{window.performance[h](\"webkit\"+m,o,!1)}catch(t){}}function i(t){}if(window.performance&&window.performance.timing&&window.performance.getEntriesByType){var a=t(\"ee\"),s=t(\"handle\"),c=t(14),f=t(13),u=t(6),d=t(23),p=\"learResourceTimings\",l=\"addEventListener\",h=\"removeEventListener\",m=\"resourcetimingbufferfull\",v=\"bstResource\",w=\"resource\",g=\"-start\",y=\"-end\",x=\"fn\"+g,b=\"fn\"+y,E=\"bstTimer\",R=\"pushState\",O=t(\"loader\");if(!O.disabled){O.features.stn=!0,t(9),\"addEventListener\"in window&&t(7);var T=NREUM.o.EV;a.on(x,function(t,e){var n=t[0];n instanceof T&&(this.bstStart=O.now())}),a.on(b,function(t,e){var n=t[0];n instanceof T&&s(\"bst\",[n,e,this.bstStart,O.now()])}),c.on(x,function(t,e,n){this.bstStart=O.now(),this.bstType=n}),c.on(b,function(t,e){s(E,[e,this.bstStart,O.now(),this.bstType])}),f.on(x,function(){this.bstStart=O.now()}),f.on(b,function(t,e){s(E,[e,this.bstStart,O.now(),\"requestAnimationFrame\"])}),a.on(R+g,function(t){this.time=O.now(),this.startPath=location.pathname+location.hash}),a.on(R+y,function(t){s(\"bstHist\",[location.pathname+location.hash,this.startPath,this.time])}),u()?(s(v,[window.performance.getEntriesByType(\"resource\")]),r()):l in window.performance&&(window.performance[\"c\"+p]?window.performance[l](m,o,d(!1)):window.performance[l](\"webkit\"+m,o,d(!1))),document[l](\"scroll\",i,d(!1)),document[l](\"keypress\",i,d(!1)),document[l](\"click\",i,d(!1))}}},{}],6:[function(t,e,n){e.exports=function(){return\"PerformanceObserver\"in window&&\"function\"==typeof window.PerformanceObserver}},{}],7:[function(t,e,n){function r(t){for(var e=t;e&&!e.hasOwnProperty(u);)e=Object.getPrototypeOf(e);e&&o(e)}function o(t){s.inPlace(t,[u,d],\"-\",i)}function i(t,e){return t[1]}var a=t(\"ee\").get(\"events\"),s=t(\"wrap-function\")(a,!0),c=t(\"gos\"),f=XMLHttpRequest,u=\"addEventListener\",d=\"removeEventListener\";e.exports=a,\"getPrototypeOf\"in Object?(r(document),r(window),r(f.prototype)):f.prototype.hasOwnProperty(u)&&(o(window),o(f.prototype)),a.on(u+\"-start\",function(t,e){var n=t[1];if(null!==n&&(\"function\"==typeof n||\"object\"==typeof n)){var r=c(n,\"nr@wrapped\",function(){function t(){if(\"function\"==typeof n.handleEvent)return n.handleEvent.apply(n,arguments)}var e={object:t,\"function\":n}[typeof n];return e?s(e,\"fn-\",null,e.name||\"anonymous\"):n});this.wrapped=t[1]=r}}),a.on(d+\"-start\",function(t){t[1]=this.wrapped||t[1]})},{}],8:[function(t,e,n){function r(t,e,n){var r=t[e];\"function\"==typeof r&&(t[e]=function(){var t=i(arguments),e={};o.emit(n+\"before-start\",[t],e);var a;e[m]&&e[m].dt&&(a=e[m].dt);var s=r.apply(this,t);return o.emit(n+\"start\",[t,a],s),s.then(function(t){return o.emit(n+\"end\",[null,t],s),t},function(t){throw o.emit(n+\"end\",[t],s),t})})}var o=t(\"ee\").get(\"fetch\"),i=t(32),a=t(31);e.exports=o;var s=window,c=\"fetch-\",f=c+\"body-\",u=[\"arrayBuffer\",\"blob\",\"json\",\"text\",\"formData\"],d=s.Request,p=s.Response,l=s.fetch,h=\"prototype\",m=\"nr@context\";d&&p&&l&&(a(u,function(t,e){r(d[h],e,f),r(p[h],e,f)}),r(s,\"fetch\",c),o.on(c+\"end\",function(t,e){var n=this;if(e){var r=e.headers.get(\"content-length\");null!==r&&(n.rxSize=r),o.emit(c+\"done\",[null,e],n)}else o.emit(c+\"done\",[t],n)}))},{}],9:[function(t,e,n){var r=t(\"ee\").get(\"history\"),o=t(\"wrap-function\")(r);e.exports=r;var i=window.history&&window.history.constructor&&window.history.constructor.prototype,a=window.history;i&&i.pushState&&i.replaceState&&(a=i),o.inPlace(a,[\"pushState\",\"replaceState\"],\"-\")},{}],10:[function(t,e,n){function r(t){function e(){f.emit(\"jsonp-end\",[],l),t.removeEventListener(\"load\",e,c(!1)),t.removeEventListener(\"error\",n,c(!1))}function n(){f.emit(\"jsonp-error\",[],l),f.emit(\"jsonp-end\",[],l),t.removeEventListener(\"load\",e,c(!1)),t.removeEventListener(\"error\",n,c(!1))}var r=t&&\"string\"==typeof t.nodeName&&\"script\"===t.nodeName.toLowerCase();if(r){var o=\"function\"==typeof t.addEventListener;if(o){var a=i(t.src);if(a){var d=s(a),p=\"function\"==typeof d.parent[d.key];if(p){var l={};u.inPlace(d.parent,[d.key],\"cb-\",l),t.addEventListener(\"load\",e,c(!1)),t.addEventListener(\"error\",n,c(!1)),f.emit(\"new-jsonp\",[t.src],l)}}}}}function o(){return\"addEventListener\"in window}function i(t){var e=t.match(d);return e?e[1]:null}function a(t,e){var n=t.match(l),r=n[1],o=n[3];return o?a(o,e[r]):e[r]}function s(t){var e=t.match(p);return e&&e.length>=3?{key:e[2],parent:a(e[1],window)}:{key:t,parent:window}}var c=t(23),f=t(\"ee\").get(\"jsonp\"),u=t(\"wrap-function\")(f);if(e.exports=f,o()){var d=/[?&](?:callback|cb)=([^&#]+)/,p=/(.*)\\\\.([^.]+)/,l=/^(\\\\w+)(\\\\.|$)(.*)$/,h=[\"appendChild\",\"insertBefore\",\"replaceChild\"];Node&&Node.prototype&&Node.prototype.appendChild?u.inPlace(Node.prototype,h,\"dom-\"):(u.inPlace(HTMLElement.prototype,h,\"dom-\"),u.inPlace(HTMLHeadElement.prototype,h,\"dom-\"),u.inPlace(HTMLBodyElement.prototype,h,\"dom-\")),f.on(\"dom-start\",function(t){r(t[0])})}},{}],11:[function(t,e,n){var r=t(\"ee\").get(\"mutation\"),o=t(\"wrap-function\")(r),i=NREUM.o.MO;e.exports=r,i&&(window.MutationObserver=function(t){return this instanceof i?new i(o(t,\"fn-\")):i.apply(this,arguments)},MutationObserver.prototype=i.prototype)},{}],12:[function(t,e,n){function r(t){var e=i.context(),n=s(t,\"executor-\",e,null,!1),r=new f(n);return i.context(r).getCtx=function(){return e},r}var o=t(\"wrap-function\"),i=t(\"ee\").get(\"promise\"),a=t(\"ee\").getOrSetContext,s=o(i),c=t(31),f=NREUM.o.PR;e.exports=i,f&&(window.Promise=r,[\"all\",\"race\"].forEach(function(t){var e=f[t];f[t]=function(n){function r(t){return function(){i.emit(\"propagate\",[null,!o],a,!1,!1),o=o||!t}}var o=!1;c(n,function(e,n){Promise.resolve(n).then(r(\"all\"===t),r(!1))});var a=e.apply(f,arguments),s=f.resolve(a);return s}}),[\"resolve\",\"reject\"].forEach(function(t){var e=f[t];f[t]=function(t){var n=e.apply(f,arguments);return t!==n&&i.emit(\"propagate\",[t,!0],n,!1,!1),n}}),f.prototype[\"catch\"]=function(t){return this.then(null,t)},f.prototype=Object.create(f.prototype,{constructor:{value:r}}),c(Object.getOwnPropertyNames(f),function(t,e){try{r[e]=f[e]}catch(n){}}),o.wrapInPlace(f.prototype,\"then\",function(t){return function(){var e=this,n=o.argsToArray.apply(this,arguments),r=a(e);r.promise=e,n[0]=s(n[0],\"cb-\",r,null,!1),n[1]=s(n[1],\"cb-\",r,null,!1);var c=t.apply(this,n);return r.nextPromise=c,i.emit(\"propagate\",[e,!0],c,!1,!1),c}}),i.on(\"executor-start\",function(t){t[0]=s(t[0],\"resolve-\",this,null,!1),t[1]=s(t[1],\"resolve-\",this,null,!1)}),i.on(\"executor-err\",function(t,e,n){t[1](n)}),i.on(\"cb-end\",function(t,e,n){i.emit(\"propagate\",[n,!0],this.nextPromise,!1,!1)}),i.on(\"propagate\",function(t,e,n){this.getCtx&&!e||(this.getCtx=function(){if(t instanceof Promise)var e=i.context(t);return e&&e.getCtx?e.getCtx():this})}),r.toString=function(){return\"\"+f})},{}],13:[function(t,e,n){var r=t(\"ee\").get(\"raf\"),o=t(\"wrap-function\")(r),i=\"equestAnimationFrame\";e.exports=r,o.inPlace(window,[\"r\"+i,\"mozR\"+i,\"webkitR\"+i,\"msR\"+i],\"raf-\"),r.on(\"raf-start\",function(t){t[0]=o(t[0],\"fn-\")})},{}],14:[function(t,e,n){function r(t,e,n){t[0]=a(t[0],\"fn-\",null,n)}function o(t,e,n){this.method=n,this.timerDuration=isNaN(t[1])?0:+t[1],t[0]=a(t[0],\"fn-\",this,n)}var i=t(\"ee\").get(\"timer\"),a=t(\"wrap-function\")(i),s=\"setTimeout\",c=\"setInterval\",f=\"clearTimeout\",u=\"-start\",d=\"-\";e.exports=i,a.inPlace(window,[s,\"setImmediate\"],s+d),a.inPlace(window,[c],c+d),a.inPlace(window,[f,\"clearImmediate\"],f+d),i.on(c+u,r),i.on(s+u,o)},{}],15:[function(t,e,n){function r(t,e){d.inPlace(e,[\"onreadystatechange\"],\"fn-\",s)}function o(){var t=this,e=u.context(t);t.readyState>3&&!e.resolved&&(e.resolved=!0,u.emit(\"xhr-resolved\",[],t)),d.inPlace(t,y,\"fn-\",s)}function i(t){x.push(t),m&&(E?E.then(a):w?w(a):(R=-R,O.data=R))}function a(){for(var t=0;t<x.length;t++)r([],x[t]);x.length&&(x=[])}function s(t,e){return e}function c(t,e){for(var n in t)e[n]=t[n];return e}t(7);var f=t(\"ee\"),u=f.get(\"xhr\"),d=t(\"wrap-function\")(u),p=t(23),l=NREUM.o,h=l.XHR,m=l.MO,v=l.PR,w=l.SI,g=\"readystatechange\",y=[\"onload\",\"onerror\",\"onabort\",\"onloadstart\",\"onloadend\",\"onprogress\",\"ontimeout\"],x=[];e.exports=u;var b=window.XMLHttpRequest=function(t){var e=new h(t);try{u.emit(\"new-xhr\",[e],e),e.addEventListener(g,o,p(!1))}catch(n){try{u.emit(\"internal-error\",[n])}catch(r){}}return e};if(c(h,b),b.prototype=h.prototype,d.inPlace(b.prototype,[\"open\",\"send\"],\"-xhr-\",s),u.on(\"send-xhr-start\",function(t,e){r(t,e),i(e)}),u.on(\"open-xhr-start\",r),m){var E=v&&v.resolve();if(!w&&!v){var R=1,O=document.createTextNode(R);new m(a).observe(O,{characterData:!0})}}else f.on(\"fn-end\",function(t){t[0]&&t[0].type===g||a()})},{}],16:[function(t,e,n){function r(t){if(!s(t))return null;var e=window.NREUM;if(!e.loader_config)return null;var n=(e.loader_config.accountID||\"\").toString()||null,r=(e.loader_config.agentID||\"\").toString()||null,f=(e.loader_config.trustKey||\"\").toString()||null;if(!n||!r)return null;var h=l.generateSpanId(),m=l.generateTraceId(),v=Date.now(),w={spanId:h,traceId:m,timestamp:v};return(t.sameOrigin||c(t)&&p())&&(w.traceContextParentHeader=o(h,m),w.traceContextStateHeader=i(h,v,n,r,f)),(t.sameOrigin&&!u()||!t.sameOrigin&&c(t)&&d())&&(w.newrelicHeader=a(h,m,v,n,r,f)),w}function o(t,e){return\"00-\"+e+\"-\"+t+\"-01\"}function i(t,e,n,r,o){var i=0,a=\"\",s=1,c=\"\",f=\"\";return o+\"@nr=\"+i+\"-\"+s+\"-\"+n+\"-\"+r+\"-\"+t+\"-\"+a+\"-\"+c+\"-\"+f+\"-\"+e}function a(t,e,n,r,o,i){var a=\"btoa\"in window&&\"function\"==typeof window.btoa;if(!a)return null;var s={v:[0,1],d:{ty:\"Browser\",ac:r,ap:o,id:t,tr:e,ti:n}};return i&&r!==i&&(s.d.tk=i),btoa(JSON.stringify(s))}function s(t){return f()&&c(t)}function c(t){var e=!1,n={};if(\"init\"in NREUM&&\"distributed_tracing\"in NREUM.init&&(n=NREUM.init.distributed_tracing),t.sameOrigin)e=!0;else if(n.allowed_origins instanceof Array)for(var r=0;r<n.allowed_origins.length;r++){var o=h(n.allowed_origins[r]);if(t.hostname===o.hostname&&t.protocol===o.protocol&&t.port===o.port){e=!0;break}}return e}function f(){return\"init\"in NREUM&&\"distributed_tracing\"in NREUM.init&&!!NREUM.init.distributed_tracing.enabled}function u(){return\"init\"in NREUM&&\"distributed_tracing\"in NREUM.init&&!!NREUM.init.distributed_tracing.exclude_newrelic_header}function d(){return\"init\"in NREUM&&\"distributed_tracing\"in NREUM.init&&NREUM.init.distributed_tracing.cors_use_newrelic_header!==!1}function p(){return\"init\"in NREUM&&\"distributed_tracing\"in NREUM.init&&!!NREUM.init.distributed_tracing.cors_use_tracecontext_headers}var l=t(28),h=t(18);e.exports={generateTracePayload:r,shouldGenerateTrace:s}},{}],17:[function(t,e,n){function r(t){var e=this.params,n=this.metrics;if(!this.ended){this.ended=!0;for(var r=0;r<p;r++)t.removeEventListener(d[r],this.listener,!1);return e.protocol&&\"data\"===e.protocol?void g(\"Ajax/DataUrl/Excluded\"):void(e.aborted||(n.duration=a.now()-this.startTime,this.loadCaptureCalled||4!==t.readyState?null==e.status&&(e.status=0):i(this,t),n.cbTime=this.cbTime,s(\"xhr\",[e,n,this.startTime,this.endTime,\"xhr\"],this)))}}function o(t,e){var n=c(e),r=t.params;r.hostname=n.hostname,r.port=n.port,r.protocol=n.protocol,r.host=n.hostname+\":\"+n.port,r.pathname=n.pathname,t.parsedOrigin=n,t.sameOrigin=n.sameOrigin}function i(t,e){t.params.status=e.status;var n=v(e,t.lastSize);if(n&&(t.metrics.rxSize=n),t.sameOrigin){var r=e.getResponseHeader(\"X-NewRelic-App-Data\");r&&(t.params.cat=r.split(\", \").pop())}t.loadCaptureCalled=!0}var a=t(\"loader\");if(a.xhrWrappable&&!a.disabled){var s=t(\"handle\"),c=t(18),f=t(16).generateTracePayload,u=t(\"ee\"),d=[\"load\",\"error\",\"abort\",\"timeout\"],p=d.length,l=t(\"id\"),h=t(24),m=t(22),v=t(19),w=t(23),g=t(25).recordSupportability,y=NREUM.o.REQ,x=window.XMLHttpRequest;a.features.xhr=!0,t(15),t(8),u.on(\"new-xhr\",function(t){var e=this;e.totalCbs=0,e.called=0,e.cbTime=0,e.end=r,e.ended=!1,e.xhrGuids={},e.lastSize=null,e.loadCaptureCalled=!1,e.params=this.params||{},e.metrics=this.metrics||{},t.addEventListener(\"load\",function(n){i(e,t)},w(!1)),h&&(h>34||h<10)||t.addEventListener(\"progress\",function(t){e.lastSize=t.loaded},w(!1))}),u.on(\"open-xhr-start\",function(t){this.params={method:t[0]},o(this,t[1]),this.metrics={}}),u.on(\"open-xhr-end\",function(t,e){\"loader_config\"in NREUM&&\"xpid\"in NREUM.loader_config&&this.sameOrigin&&e.setRequestHeader(\"X-NewRelic-ID\",NREUM.loader_config.xpid);var n=f(this.parsedOrigin);if(n){var r=!1;n.newrelicHeader&&(e.setRequestHeader(\"newrelic\",n.newrelicHeader),r=!0),n.traceContextParentHeader&&(e.setRequestHeader(\"traceparent\",n.traceContextParentHeader),n.traceContextStateHeader&&e.setRequestHeader(\"tracestate\",n.traceContextStateHeader),r=!0),r&&(this.dt=n)}}),u.on(\"send-xhr-start\",function(t,e){var n=this.metrics,r=t[0],o=this;if(n&&r){var i=m(r);i&&(n.txSize=i)}this.startTime=a.now(),this.listener=function(t){try{\"abort\"!==t.type||o.loadCaptureCalled||(o.params.aborted=!0),(\"load\"!==t.type||o.called===o.totalCbs&&(o.onloadCalled||\"function\"!=typeof e.onload))&&o.end(e)}catch(n){try{u.emit(\"internal-error\",[n])}catch(r){}}};for(var s=0;s<p;s++)e.addEventListener(d[s],this.listener,w(!1))}),u.on(\"xhr-cb-time\",function(t,e,n){this.cbTime+=t,e?this.onloadCalled=!0:this.called+=1,this.called!==this.totalCbs||!this.onloadCalled&&\"function\"==typeof n.onload||this.end(n)}),u.on(\"xhr-load-added\",function(t,e){var n=\"\"+l(t)+!!e;this.xhrGuids&&!this.xhrGuids[n]&&(this.xhrGuids[n]=!0,this.totalCbs+=1)}),u.on(\"xhr-load-removed\",function(t,e){var n=\"\"+l(t)+!!e;this.xhrGuids&&this.xhrGuids[n]&&(delete this.xhrGuids[n],this.totalCbs-=1)}),u.on(\"xhr-resolved\",function(){this.endTime=a.now()}),u.on(\"addEventListener-end\",function(t,e){e instanceof x&&\"load\"===t[0]&&u.emit(\"xhr-load-added\",[t[1],t[2]],e)}),u.on(\"removeEventListener-end\",function(t,e){e instanceof x&&\"load\"===t[0]&&u.emit(\"xhr-load-removed\",[t[1],t[2]],e)}),u.on(\"fn-start\",function(t,e,n){e instanceof x&&(\"onload\"===n&&(this.onload=!0),(\"load\"===(t[0]&&t[0].type)||this.onload)&&(this.xhrCbStart=a.now()))}),u.on(\"fn-end\",function(t,e){this.xhrCbStart&&u.emit(\"xhr-cb-time\",[a.now()-this.xhrCbStart,this.onload,e],e)}),u.on(\"fetch-before-start\",function(t){function e(t,e){var n=!1;return e.newrelicHeader&&(t.set(\"newrelic\",e.newrelicHeader),n=!0),e.traceContextParentHeader&&(t.set(\"traceparent\",e.traceContextParentHeader),e.traceContextStateHeader&&t.set(\"tracestate\",e.traceContextStateHeader),n=!0),n}var n,r=t[1]||{};\"string\"==typeof t[0]?n=t[0]:t[0]&&t[0].url?n=t[0].url:window.URL&&t[0]&&t[0]instanceof URL&&(n=t[0].href),n&&(this.parsedOrigin=c(n),this.sameOrigin=this.parsedOrigin.sameOrigin);var o=f(this.parsedOrigin);if(o&&(o.newrelicHeader||o.traceContextParentHeader))if(\"string\"==typeof t[0]||window.URL&&t[0]&&t[0]instanceof URL){var i={};for(var a in r)i[a]=r[a];i.headers=new Headers(r.headers||{}),e(i.headers,o)&&(this.dt=o),t.length>1?t[1]=i:t.push(i)}else t[0]&&t[0].headers&&e(t[0].headers,o)&&(this.dt=o)}),u.on(\"fetch-start\",function(t,e){this.params={},this.metrics={},this.startTime=a.now(),this.dt=e,t.length>=1&&(this.target=t[0]),t.length>=2&&(this.opts=t[1]);var n,r=this.opts||{},i=this.target;if(\"string\"==typeof i?n=i:\"object\"==typeof i&&i instanceof y?n=i.url:window.URL&&\"object\"==typeof i&&i instanceof URL&&(n=i.href),o(this,n),\"data\"!==this.params.protocol){var s=(\"\"+(i&&i instanceof y&&i.method||r.method||\"GET\")).toUpperCase();this.params.method=s,this.txSize=m(r.body)||0}}),u.on(\"fetch-done\",function(t,e){if(this.endTime=a.now(),this.params||(this.params={}),\"data\"===this.params.protocol)return void g(\"Ajax/DataUrl/Excluded\");this.params.status=e?e.status:0;var n;\"string\"==typeof this.rxSize&&this.rxSize.length>0&&(n=+this.rxSize);var r={txSize:this.txSize,rxSize:n,duration:a.now()-this.startTime};s(\"xhr\",[this.params,r,this.startTime,this.endTime,\"fetch\"],this)})}},{}],18:[function(t,e,n){var r={};e.exports=function(t){if(t in r)return r[t];if(0===(t||\"\").indexOf(\"data:\"))return{protocol:\"data\"};var e=document.createElement(\"a\"),n=window.location,o={};e.href=t,o.port=e.port;var i=e.href.split(\"://\");!o.port&&i[1]&&(o.port=i[1].split(\"/\")[0].split(\"@\").pop().split(\":\")[1]),o.port&&\"0\"!==o.port||(o.port=\"https\"===i[0]?\"443\":\"80\"),o.hostname=e.hostname||n.hostname,o.pathname=e.pathname,o.protocol=i[0],\"/\"!==o.pathname.charAt(0)&&(o.pathname=\"/\"+o.pathname);var a=!e.protocol||\":\"===e.protocol||e.protocol===n.protocol,s=e.hostname===document.domain&&e.port===n.port;return o.sameOrigin=a&&(!e.hostname||s),\"/\"===o.pathname&&(r[t]=o),o}},{}],19:[function(t,e,n){function r(t,e){var n=t.responseType;return\"json\"===n&&null!==e?e:\"arraybuffer\"===n||\"blob\"===n||\"json\"===n?o(t.response):\"text\"===n||\"\"===n||void 0===n?o(t.responseText):void 0}var o=t(22);e.exports=r},{}],20:[function(t,e,n){function r(){}function o(t,e,n,r){return function(){return u.recordSupportability(\"API/\"+e+\"/called\"),i(t+e,[f.now()].concat(s(arguments)),n?null:this,r),n?void 0:this}}var i=t(\"handle\"),a=t(31),s=t(32),c=t(\"ee\").get(\"tracer\"),f=t(\"loader\"),u=t(25),d=NREUM;\"undefined\"==typeof window.newrelic&&(newrelic=d);var p=[\"setPageViewName\",\"setCustomAttribute\",\"setErrorHandler\",\"finished\",\"addToTrace\",\"inlineHit\",\"addRelease\"],l=\"api-\",h=l+\"ixn-\";a(p,function(t,e){d[e]=o(l,e,!0,\"api\")}),d.addPageAction=o(l,\"addPageAction\",!0),d.setCurrentRouteName=o(l,\"routeName\",!0),e.exports=newrelic,d.interaction=function(){return(new r).get()};var m=r.prototype={createTracer:function(t,e){var n={},r=this,o=\"function\"==typeof e;return i(h+\"tracer\",[f.now(),t,n],r),function(){if(c.emit((o?\"\":\"no-\")+\"fn-start\",[f.now(),r,o],n),o)try{return e.apply(this,arguments)}catch(t){throw c.emit(\"fn-err\",[arguments,this,t],n),t}finally{c.emit(\"fn-end\",[f.now()],n)}}}};a(\"actionText,setName,setAttribute,save,ignore,onEnd,getContext,end,get\".split(\",\"),function(t,e){m[e]=o(h,e)}),newrelic.noticeError=function(t,e){\"string\"==typeof t&&(t=new Error(t)),u.recordSupportability(\"API/noticeError/called\"),i(\"err\",[t,f.now(),!1,e])}},{}],21:[function(t,e,n){function r(t){if(NREUM.init){for(var e=NREUM.init,n=t.split(\".\"),r=0;r<n.length-1;r++)if(e=e[n[r]],\"object\"!=typeof e)return;return e=e[n[n.length-1]]}}e.exports={getConfiguration:r}},{}],22:[function(t,e,n){e.exports=function(t){if(\"string\"==typeof t&&t.length)return t.length;if(\"object\"==typeof t){if(\"undefined\"!=typeof ArrayBuffer&&t instanceof ArrayBuffer&&t.byteLength)return t.byteLength;if(\"undefined\"!=typeof Blob&&t instanceof Blob&&t.size)return t.size;if(!(\"undefined\"!=typeof FormData&&t instanceof FormData))try{return JSON.stringify(t).length}catch(e){return}}}},{}],23:[function(t,e,n){var r=!1;try{var o=Object.defineProperty({},\"passive\",{get:function(){r=!0}});window.addEventListener(\"testPassive\",null,o),window.removeEventListener(\"testPassive\",null,o)}catch(i){}e.exports=function(t){return r?{passive:!0,capture:!!t}:!!t}},{}],24:[function(t,e,n){var r=0,o=navigator.userAgent.match(/Firefox[\\\\/\\\\s](\\\\d+\\\\.\\\\d+)/);o&&(r=+o[1]),e.exports=r},{}],25:[function(t,e,n){function r(t,e){var n=[a,t,{name:t},e];return i(\"storeMetric\",n,null,\"api\"),n}function o(t,e){var n=[s,t,{name:t},e];return i(\"storeEventMetrics\",n,null,\"api\"),n}var i=t(\"handle\"),a=\"sm\",s=\"cm\";e.exports={constants:{SUPPORTABILITY_METRIC:a,CUSTOM_METRIC:s},recordSupportability:r,recordCustom:o}},{}],26:[function(t,e,n){function r(){return s.exists&&performance.now?Math.round(performance.now()):(i=Math.max((new Date).getTime(),i))-a}function o(){return i}var i=(new Date).getTime(),a=i,s=t(33);e.exports=r,e.exports.offset=a,e.exports.getLastTimestamp=o},{}],27:[function(t,e,n){function r(t,e){var n=t.getEntries();n.forEach(function(t){\"first-paint\"===t.name?l(\"timing\",[\"fp\",Math.floor(t.startTime)]):\"first-contentful-paint\"===t.name&&l(\"timing\",[\"fcp\",Math.floor(t.startTime)])})}function o(t,e){var n=t.getEntries();if(n.length>0){var r=n[n.length-1];if(f&&f<r.startTime)return;var o=[r],i=a({});i&&o.push(i),l(\"lcp\",o)}}function i(t){t.getEntries().forEach(function(t){t.hadRecentInput||l(\"cls\",[t])})}function a(t){var e=navigator.connection||navigator.mozConnection||navigator.webkitConnection;if(e)return e.type&&(t[\"net-type\"]=e.type),e.effectiveType&&(t[\"net-etype\"]=e.effectiveType),e.rtt&&(t[\"net-rtt\"]=e.rtt),e.downlink&&(t[\"net-dlink\"]=e.downlink),t}function s(t){if(t instanceof w&&!y){var e=Math.round(t.timeStamp),n={type:t.type};a(n),e<=h.now()?n.fid=h.now()-e:e>h.offset&&e<=Date.now()?(e-=h.offset,n.fid=h.now()-e):e=h.now(),y=!0,l(\"timing\",[\"fi\",e,n])}}function c(t){\"hidden\"===t&&(f=h.now(),l(\"pageHide\",[f]))}if(!(\"init\"in NREUM&&\"page_view_timing\"in NREUM.init&&\"enabled\"in NREUM.init.page_view_timing&&NREUM.init.page_view_timing.enabled===!1)){var f,u,d,p,l=t(\"handle\"),h=t(\"loader\"),m=t(30),v=t(23),w=NREUM.o.EV;if(\"PerformanceObserver\"in window&&\"function\"==typeof window.PerformanceObserver){u=new PerformanceObserver(r);try{u.observe({entryTypes:[\"paint\"]})}catch(g){}d=new PerformanceObserver(o);try{d.observe({entryTypes:[\"largest-contentful-paint\"]})}catch(g){}p=new PerformanceObserver(i);try{p.observe({type:\"layout-shift\",buffered:!0})}catch(g){}}if(\"addEventListener\"in document){var y=!1,x=[\"click\",\"keydown\",\"mousedown\",\"pointerdown\",\"touchstart\"];x.forEach(function(t){document.addEventListener(t,s,v(!1))})}m(c)}},{}],28:[function(t,e,n){function r(){function t(){return e?15&e[n++]:16*Math.random()|0}var e=null,n=0,r=window.crypto||window.msCrypto;r&&r.getRandomValues&&(e=r.getRandomValues(new Uint8Array(31)));for(var o,i=\"xxxxxxxx-xxxx-4xxx-yxxx-xxxxxxxxxxxx\",a=\"\",s=0;s<i.length;s++)o=i[s],\"x\"===o?a+=t().toString(16):\"y\"===o?(o=3&t()|8,a+=o.toString(16)):a+=o;return a}function o(){return a(16)}function i(){return a(32)}function a(t){function e(){return n?15&n[r++]:16*Math.random()|0}var n=null,r=0,o=window.crypto||window.msCrypto;o&&o.getRandomValues&&Uint8Array&&(n=o.getRandomValues(new Uint8Array(t)));for(var i=[],a=0;a<t;a++)i.push(e().toString(16));return i.join(\"\")}e.exports={generateUuid:r,generateSpanId:o,generateTraceId:i}},{}],29:[function(t,e,n){function r(t,e){if(!o)return!1;if(t!==o)return!1;if(!e)return!0;if(!i)return!1;for(var n=i.split(\".\"),r=e.split(\".\"),a=0;a<r.length;a++)if(r[a]!==n[a])return!1;return!0}var o=null,i=null,a=/Version\\\\/(\\\\S+)\\\\s+Safari/;if(navigator.userAgent){var s=navigator.userAgent,c=s.match(a);c&&s.indexOf(\"Chrome\")===-1&&s.indexOf(\"Chromium\")===-1&&(o=\"Safari\",i=c[1])}e.exports={agent:o,version:i,match:r}},{}],30:[function(t,e,n){function r(t){function e(){t(s&&document[s]?document[s]:document[i]?\"hidden\":\"visible\")}\"addEventListener\"in document&&a&&document.addEventListener(a,e,o(!1))}var o=t(23);e.exports=r;var i,a,s;\"undefined\"!=typeof document.hidden?(i=\"hidden\",a=\"visibilitychange\",s=\"visibilityState\"):\"undefined\"!=typeof document.msHidden?(i=\"msHidden\",a=\"msvisibilitychange\"):\"undefined\"!=typeof document.webkitHidden&&(i=\"webkitHidden\",a=\"webkitvisibilitychange\",s=\"webkitVisibilityState\")},{}],31:[function(t,e,n){function r(t,e){var n=[],r=\"\",i=0;for(r in t)o.call(t,r)&&(n[i]=e(r,t[r]),i+=1);return n}var o=Object.prototype.hasOwnProperty;e.exports=r},{}],32:[function(t,e,n){function r(t,e,n){e||(e=0),\"undefined\"==typeof n&&(n=t?t.length:0);for(var r=-1,o=n-e||0,i=Array(o<0?0:o);++r<o;)i[r]=t[e+r];return i}e.exports=r},{}],33:[function(t,e,n){e.exports={exists:\"undefined\"!=typeof window.performance&&window.performance.timing&&\"undefined\"!=typeof window.performance.timing.navigationStart}},{}],ee:[function(t,e,n){function r(){}function o(t){function e(t){return t&&t instanceof r?t:t?f(t,c,a):a()}function n(n,r,o,i,a){if(a!==!1&&(a=!0),!l.aborted||i){t&&a&&t(n,r,o);for(var s=e(o),c=m(n),f=c.length,u=0;u<f;u++)c[u].apply(s,r);var p=d[y[n]];return p&&p.push([x,n,r,s]),s}}function i(t,e){g[t]=m(t).concat(e)}function h(t,e){var n=g[t];if(n)for(var r=0;r<n.length;r++)n[r]===e&&n.splice(r,1)}function m(t){return g[t]||[]}function v(t){return p[t]=p[t]||o(n)}function w(t,e){l.aborted||u(t,function(t,n){e=e||\"feature\",y[n]=e,e in d||(d[e]=[])})}var g={},y={},x={on:i,addEventListener:i,removeEventListener:h,emit:n,get:v,listeners:m,context:e,buffer:w,abort:s,aborted:!1};return x}function i(t){return f(t,c,a)}function a(){return new r}function s(){(d.api||d.feature)&&(l.aborted=!0,d=l.backlog={})}var c=\"nr@context\",f=t(\"gos\"),u=t(31),d={},p={},l=e.exports=o();e.exports.getOrSetContext=i,l.backlog=d},{}],gos:[function(t,e,n){function r(t,e,n){if(o.call(t,e))return t[e];var r=n();if(Object.defineProperty&&Object.keys)try{return Object.defineProperty(t,e,{value:r,writable:!0,enumerable:!1}),r}catch(i){}return t[e]=r,r}var o=Object.prototype.hasOwnProperty;e.exports=r},{}],handle:[function(t,e,n){function r(t,e,n,r){o.buffer([t],r),o.emit(t,e,n)}var o=t(\"ee\").get(\"handle\");e.exports=r,r.ee=o},{}],id:[function(t,e,n){function r(t){var e=typeof t;return!t||\"object\"!==e&&\"function\"!==e?-1:t===window?0:a(t,i,function(){return o++})}var o=1,i=\"nr@id\",a=t(\"gos\");e.exports=r},{}],loader:[function(t,e,n){function r(){if(!T++){var t=O.info=NREUM.info,e=m.getElementsByTagName(\"script\")[0];if(setTimeout(f.abort,3e4),!(t&&t.licenseKey&&t.applicationID&&e))return f.abort();c(E,function(e,n){t[e]||(t[e]=n)});var n=a();s(\"mark\",[\"onload\",n+O.offset],null,\"api\"),s(\"timing\",[\"load\",n]);var r=m.createElement(\"script\");0===t.agent.indexOf(\"http://\")||0===t.agent.indexOf(\"https://\")?r.src=t.agent:r.src=l+\"://\"+t.agent,e.parentNode.insertBefore(r,e)}}function o(){\"complete\"===m.readyState&&i()}function i(){s(\"mark\",[\"domContent\",a()+O.offset],null,\"api\")}var a=t(26),s=t(\"handle\"),c=t(31),f=t(\"ee\"),u=t(29),d=t(21),p=t(23),l=d.getConfiguration(\"ssl\")===!1?\"http\":\"https\",h=window,m=h.document,v=\"addEventListener\",w=\"attachEvent\",g=h.XMLHttpRequest,y=g&&g.prototype,x=!1;NREUM.o={ST:setTimeout,SI:h.setImmediate,CT:clearTimeout,XHR:g,REQ:h.Request,EV:h.Event,PR:h.Promise,MO:h.MutationObserver};var b=\"\"+location,E={beacon:\"bam.nr-data.net\",errorBeacon:\"bam.nr-data.net\",agent:\"js-agent.newrelic.com/nr-spa-1216.min.js\"},R=g&&y&&y[v]&&!/CriOS/.test(navigator.userAgent),O=e.exports={offset:a.getLastTimestamp(),now:a,origin:b,features:{},xhrWrappable:R,userAgent:u,disabled:x};if(!x){t(20),t(27),m[v]?(m[v](\"DOMContentLoaded\",i,p(!1)),h[v](\"load\",r,p(!1))):(m[w](\"onreadystatechange\",o),h[w](\"onload\",r)),s(\"mark\",[\"firstbyte\",a.getLastTimestamp()],null,\"api\");var T=0}},{}],\"wrap-function\":[function(t,e,n){function r(t,e){function n(e,n,r,c,f){function nrWrapper(){var i,a,u,p;try{a=this,i=d(arguments),u=\"function\"==typeof r?r(i,a):r||{}}catch(l){o([l,\"\",[i,a,c],u],t)}s(n+\"start\",[i,a,c],u,f);try{return p=e.apply(a,i)}catch(h){throw s(n+\"err\",[i,a,h],u,f),h}finally{s(n+\"end\",[i,a,p],u,f)}}return a(e)?e:(n||(n=\"\"),nrWrapper[p]=e,i(e,nrWrapper,t),nrWrapper)}function r(t,e,r,o,i){r||(r=\"\");var s,c,f,u=\"-\"===r.charAt(0);for(f=0;f<e.length;f++)c=e[f],s=t[c],a(s)||(t[c]=n(s,u?c+r:r,o,c,i))}function s(n,r,i,a){if(!h||e){var s=h;h=!0;try{t.emit(n,r,i,e,a)}catch(c){o([c,n,r,i],t)}h=s}}return t||(t=u),n.inPlace=r,n.flag=p,n}function o(t,e){e||(e=u);try{e.emit(\"internal-error\",t)}catch(n){}}function i(t,e,n){if(Object.defineProperty&&Object.keys)try{var r=Object.keys(t);return r.forEach(function(n){Object.defineProperty(e,n,{get:function(){return t[n]},set:function(e){return t[n]=e,e}})}),e}catch(i){o([i],n)}for(var a in t)l.call(t,a)&&(e[a]=t[a]);return e}function a(t){return!(t&&t instanceof Function&&t.apply&&!t[p])}function s(t,e){var n=e(t);return n[p]=t,i(t,n,u),n}function c(t,e,n){var r=t[e];t[e]=s(r,n)}function f(){for(var t=arguments.length,e=new Array(t),n=0;n<t;++n)e[n]=arguments[n];return e}var u=t(\"ee\"),d=t(32),p=\"nr@original\",l=Object.prototype.hasOwnProperty,h=!1;e.exports=r,e.exports.wrapFunction=s,e.exports.wrapInPlace=c,e.exports.argsToArray=f},{}]},{},[\"loader\",2,17,5,3,4]);</script><script type=\"text/javascript\">window.NREUM||(NREUM={});NREUM.info={\"beacon\":\"bam.nr-data.net\",\"queueTime\":0,\"licenseKey\":\"ba34eb72cb\",\"agent\":\"\",\"transactionName\":\"MgFaZkVVWBBXABIPWAtLfkdZV0IKWQ1JC1YMChZRWkcYFV8GERUNLQtVV2dVUQYYBAMS\",\"applicationID\":\"1087113,1087114\",\"errorBeacon\":\"bam.nr-data.net\",\"applicationTime\":7}</script>\\n  <meta http-equiv=\"Content-Language\" content=\"en\" />\\n  <meta name=\"language\" content=\"en\" />\\n  <link rel=\"shortcut icon\" href=\"https://assets.pokemon.com/static2/_ui/img/favicon.ico\" />\\n\\n  <title>The Official Pok&eacute;mon Website | Pokemon.com | \\n  \\n    Explore the World of Pokémon\\n  \\n</title>\\n  \\n  \\n    \\n    <meta property=\"og:title\" content=\"The Official Pok&eacute;mon Website | Pokemon.com\" />\\n    <meta property=\"og:description\" content=\"The official source for Pokémon news and information on the Pokémon Trading Card Game, apps, video games, animation, and the Pokédex.\" />\\n    <meta property=\"og:image\" content=\"https://assets.pokemon.com/static2/_ui/img/og-default-image.jpeg\" />\\n    \\n    <meta name=\"twitter:card\" content=\"summary\" />\\n    <meta name=\"twitter:title\" content=\"The Official Pok&eacute;mon Website | Pokemon.com\" />\\n    <meta name=\"twitter:description\" content=\"The official source for Pokémon news and information on the Pokémon Trading Card Game, apps, video games, animation, and the Pokédex.\" />\\n    <meta name=\"twitter:image\" content=\"https://assets.pokemon.com/static2/_ui/img/og-default-image.jpeg\" />\\n  \\n\\n\\n\\n  \\n  <meta name=\"description\" content=\"The official source for Pokémon news and information on the Pokémon Trading Card Game, apps, video games, animation, and the Pokédex.\" />\\n  \\n\\n\\n  <meta name=\"viewport\" content=\"width=device-width, initial-scale=1, maximum-scale=1\" />\\n\\n  <link rel=\"stylesheet\" href=\"https://assets.pokemon.com/static2/_ui/css/main.css\" />\\n  <link href=\\'//fonts.googleapis.com/css?family=Roboto:400,700\\' rel=\\'stylesheet\\' type=\\'text/css\\' />\\n\\n  \\n  \\n  <link rel=\"alternate\" hreflang=\"fr\" href=\"https://www.pokemon.com/fr/\" />\\n  <link rel=\"alternate\" hreflang=\"en\" href=\"https://www.pokemon.com/us/\" />\\n  <link rel=\"alternate\" hreflang=\"es-do\" href=\"https://www.pokemon.com/el/\" />\\n  <link rel=\"alternate\" hreflang=\"de\" href=\"https://www.pokemon.com/de/\" />\\n  <link rel=\"alternate\" hreflang=\"it\" href=\"https://www.pokemon.com/it/\" />\\n  <link rel=\"alternate\" hreflang=\"es-py\" href=\"https://www.pokemon.com/el/\" />\\n  <link rel=\"alternate\" hreflang=\"es-cl\" href=\"https://www.pokemon.com/el/\" />\\n  <link rel=\"alternate\" hreflang=\"pt-br\" href=\"https://www.pokemon.com/br/\" />\\n  <link rel=\"alternate\" hreflang=\"es-gt\" href=\"https://www.pokemon.com/el/\" />\\n  <link rel=\"alternate\" hreflang=\"fi\" href=\"https://www.pokemon.com/fi/\" />\\n  <link rel=\"alternate\" hreflang=\"es-mx\" href=\"https://www.pokemon.com/el/\" />\\n  <link rel=\"alternate\" hreflang=\"ja\" href=\"https://www.pokemon.com/jp/\" />\\n  <link rel=\"alternate\" hreflang=\"es\" href=\"https://www.pokemon.com/es/\" />\\n  <link rel=\"alternate\" hreflang=\"en-gb\" href=\"https://www.pokemon.com/uk/\" />\\n  <link rel=\"alternate\" hreflang=\"ru\" href=\"https://www.pokemon.com/ru/\" />\\n  <link rel=\"alternate\" hreflang=\"es-hn\" href=\"https://www.pokemon.com/el/\" />\\n  <link rel=\"alternate\" hreflang=\"nl\" href=\"https://www.pokemon.com/nl/\" />\\n  <link rel=\"alternate\" hreflang=\"es-uy\" href=\"https://www.pokemon.com/el/\" />\\n  <link rel=\"alternate\" hreflang=\"es-bo\" href=\"https://www.pokemon.com/el/\" />\\n  <link rel=\"alternate\" hreflang=\"es-ar\" href=\"https://www.pokemon.com/el/\" />\\n  <link rel=\"alternate\" hreflang=\"nb\" href=\"https://www.pokemon.com/no/\" />\\n  <link rel=\"alternate\" hreflang=\"sv\" href=\"https://www.pokemon.com/se/\" />\\n  <link rel=\"alternate\" hreflang=\"es-cr\" href=\"https://www.pokemon.com/el/\" />\\n  <link rel=\"alternate\" hreflang=\"es-pe\" href=\"https://www.pokemon.com/el/\" />\\n  <link rel=\"alternate\" hreflang=\"es-co\" href=\"https://www.pokemon.com/el/\" />\\n  <link rel=\"alternate\" hreflang=\"es-pa\" href=\"https://www.pokemon.com/el/\" />\\n  <link rel=\"alternate\" hreflang=\"es-sv\" href=\"https://www.pokemon.com/el/\" />\\n  <link rel=\"alternate\" hreflang=\"da\" href=\"https://www.pokemon.com/dk/\" />\\n\\n    <!-- google search appliance meta tags -->\\n\\n\\n<script src=\"https://assets.pokemon.com/static2/_ui/js/vendor/modernizr.custom.js\"></script>\\n\\n\\n<!-- Google Tag Manager -->\\n<noscript><iframe src=\"//www.googletagmanager.com/ns.html?id=GTM-V9L7\"\\nheight=\"0\" width=\"0\" style=\"display:none;visibility:hidden\"></iframe></noscript>\\n<script>(function(w,d,s,l,i){w[l]=w[l]||[];w[l].push({\\'gtm.start\\':\\nnew Date().getTime(),event:\\'gtm.js\\'});var f=d.getElementsByTagName(s)[0],\\nj=d.createElement(s),dl=l!=\\'dataLayer\\'?\\'&l=\\'+l:\\'\\';j.async=true;j.src=\\n\\'//www.googletagmanager.com/gtm.js?id=\\'+i+dl;f.parentNode.insertBefore(j,f);\\n})(window,document,\\'script\\',\\'dataLayer\\',\\'GTM-V9L7\\');</script>\\n<!-- End Google Tag Manager -->\\n\\n\\n  <!-- START: GOOGLE TAG MANAGER - PAGE DETAILS -->\\n\\n  <!-- END: GOOGLE TAG MANAGER - PAGE DETAILS -->\\n\\n\\n  <script>\\n    // TODO: this should be moved to a better place in the application\\n    // needed for image deferred loading in sliders\\n    window.addEventListener(\\'load\\', function(){\\n      window.loaded = true;\\n    });\\n  </script>\\n\\n\\n  <script>\\n    window.token = \"GCtLhKJ58oJRXYDjyhTH3sDWVniy50YQIfghx5i2FCpJXgXye3U77AAmI94pq1Sa\";\\n    window.mockAPI = false;\\n    window.loginURL = \\'/us/pokemon-trainer-club/login\\';\\n    window.pokemonUI = window.pokemonUI || {};\\n\\n    window.pokemonUI.countryCode = \\'us\\'.replace(\\'/\\', \\'\\');\\n    window.pokemonUI.api = {\\n      \\'user-details\\': \\'https://www.pokemon.com/api/users/details\\',\\n      \\'base-url-secure\\': \\'https://www.pokemon.com\\',\\n\\n      \\'gsa\\': \\'/us/search/api/\\'\\n\\n    };\\n\\n    window.pokemonUI.config = {\\n        \\'collection\\': \\'production_pokemon_collection\\'\\n    };\\n\\n    window.pokemonUI.modals = window.pokemonUI.modals || {};\\n    window.pokemonUI.modals = {\\n      \"season\": \"Season\",\\n      \"episode\": \"Episode\",\\n      \"legal\": \"Notice: If you click on the YouTube video above, you will leave Pokemon.com. The Pokémon Company International is not responsible for the content of any linked website that is not operated by The Pokémon Company International. Please note that these websites\\' privacy policies and security practices may differ from The Pokémon Company International\\'s standards.\",\\n      \\n      \"twitchlegal\": \"Notice: If you click on the Twitch video above, you will leave Pokemon.com. The Pokémon Company International is not responsible for the content of any linked website that is not operated by The Pokémon Company International. Please note that these websites\\' privacy policies and security practices may differ from The Pokémon Company International\\'s standards.\",\\n    };\\n    window.pokemonUI.dictionary = window.pokemonUI.dictionary || {};\\n    window.pokemonUI.dictionary.dashboard = {\\n      \"youRecentlyPurchased\": \"You Recently Redeemed\",\\n      \"shopMore\": \"Shop More\"\\n    };\\n    window.pokemonUI.global_dictionary = window.pokemonUI.global_dictionary || {};\\n    window.pokemonUI.global_dictionary.search = {\\n        \\'searchUrl\\': \\'/us/search/\\',\\n        \\'GSALanguageCode\\': \\'us\\'.replace(\\'/\\', \\'\\'),\\n        \\'sortBy\\': \\'Sort by:\\',\\n        \\'filterBy\\': \\'Filter by:\\',\\n        \\'selectCategory\\': \\'View All\\',\\n        \\'mostRelevant\\': \\'Most Relevant\\',\\n        \\'mostRecent\\': \\'Most Recent\\',\\n        \\'returnedResults\\': \\'Returned XXXX Results\\',\\n        \\'recommendedResults\\': \\'Recommended Results\\',\\n        \\'playGame\\': \\'Play Game\\',\\n        \\'all\\': {title : \\'View All\\'},\\n        \\'pokedex\\' : {title : \\'Pokédex\\'},\\n        \\'videogames\\' : {title : \\'Video Game\\'},\\n        \\'tcg\\' : {title : \\'Trading Card Game\\'},\\n        \\'funzone\\' : {title : \\'Online Game\\'},\\n        \\'animation\\' : {title : \\'Pokémon TV\\'},\\n        \\'news\\' : {title : \\'News\\'},\\n        \\'events\\' : {title : \\'Events\\'},\\n        \\'strategy\\' : {title : \\'Strategy\\'},\\n        \\n        \"numberPrefix\": \"#\"\\n    };\\n    window.pokemonUI.global_dictionary.datatables = {\\n        \\'search\\': \\'Search:\\',\\n        \\'previous\\': \\'Previous\\',\\n        \\'next\\': \\'Next\\',\\n        \\'emptyTable\\': \"No data is available.\",\\n        \\'zeroRecords\\': \"No matching records found.\"\\n    };\\n    window.pokemonUI.global_dictionary.errorMessages = {\\n        \\n        \\'dataError\\': \\'Currently unavailable. Please try again.\\'\\n    };\\n    window.pokemonUI[\\'ui-path\\'] = \\'https://assets.pokemon.com/static2/_ui/\\'\\n\\n    window.pokemonUI.global_api = {\\n\\n       \\'gsa\\': \\'/us/search/api/\\',\\n \\n       \\'status-indicators\\': {\\n            \\'game-server-status\\': \\'/api/tcg/game_server_status\\',\\n            \\'tcgo-in-maintenance\\': \\'/api/tcg/in_maintenance_status\\',\\n            \\'notifications\\': \\'https://www.pokemon.com/api/user/notifications/config\\'\\n        }\\n    };\\n\\n    \\n\\n    window.pokemonUI.cookie = {\\n        set: function (name, value, days) {\\n            if (days) {\\n                var date = new Date();\\n                date.setTime(date.getTime()+(days*24*60*60*1000));\\n                var expires = \"; expires=\"+date.toGMTString();\\n            }\\n            else var expires = \"\";\\n            document.cookie = name+\"=\"+value+expires+\"; path=/\";\\n        },\\n\\n        get:function(name){\\n            var nameEQ = name + \\'=\\',\\n                ca = document.cookie.split(\\';\\'),\\n                c, i = 0, ii = 0;\\n\\n            for(i = 0, ii = ca.length; i < ii; i++) {\\n                c = ca[i];\\n\\n                while(c.charAt(0) === \\' \\'){\\n                    c = c.substring(1, c.length);\\n                }\\n\\n                if(c.indexOf(nameEQ) === 0){\\n                    var value = c.substring(nameEQ.length, c.length);\\n                    if (value.charAt(0) == \\'\"\\' && value.charAt(value.length-1) == \\'\"\\') {\\n                        value = value.substring(1,value.length-1);\\n                    }\\n                    return value;\\n                }\\n            }\\n            return null;\\n        }\\n    };\\n    \\n    window.pokemonUI.cookie.set(\"django_language\", \"en\", 365);\\n    \\n\\n    \\n\\n    \\n    window.enableDashboard = true;\\n    \\n  </script>\\n\\n\\n\\n\\n\\n\\n\\n    <link rel=\"stylesheet\" href=\"https://assets.pokemon.com/static2/_ui/css/homepage.css\" />\\n\\n\\n\\n  <script data-main=\"https://assets.pokemon.com/static2/_ui/js/home.js\" src=\"https://assets.pokemon.com/static2/_ui/js/vendor/require.js\"></script>\\n\\n\\n\\n\\n\\n<link rel=\"stylesheet\" href=\"https://assets.pokemon.com/static2/_ui/css/gus.css\" media=\"all\" type=\"text/css\"/>\\n<link rel=\"stylesheet\" href=\"https://assets.pokemon.com/static2/_ui/css/gus_integration.css\" />\\n\\n</head>\\n<body class=\"us fluid custom-form-elements \\n\\n  \\n\\n\">\\n\\n\\n    <div id=\\'gus-wrapper\\'>\\n<div class=\"pokemon-gus-container\" data-site=\"pcom\" data-locale=\"en\" data-api=\"https://www.pokemon.com/api/gus/\" data-width=\"913px\"></div>\\n</div>\\n\\n\\n\\n\\n\\n  \\n    \\n\\n\\n\\n\\n\\n<div class=\"main-filler\"></div>\\n<nav class=\"main\">\\n\\n    \\n\\n    <div class=\"blocker\"></div>\\n\\n    <div class=\"content-wrapper\">\\n\\n        <div class=\"nav-bar\">\\n            <a href=\"#\" class=\"nav-toggle\"><span\\n                    class=\"icon icon_hamburger\"></span></a>\\n\\n            <ul class=\"dashboard-open visible-mobile\">\\n                <li class=\"visible-signed-in\">\\n                    <a href=\"/us/pokemon-trainer-club/login\">\\n                        <div class=\"avatar-icon-wrapper\">\\n                            <img class=\"avatar-icon avatar-icon-mobile\"\\n                                 src=\"https://assets.pokemon.com/static2/_ui/img/chrome/profile-navigation/profile-nav-avatar.png\"\\n                                 alt=\"View Profile\"/>\\n                        </div>\\n                    </a>\\n                </li>\\n\\n                <li class=\"visible-not-signed-in\">\\n                    <a href=\"/us/pokemon-trainer-club/login\">\\n                        <div class=\"avatar-icon-wrapper\">\\n                            <img class=\"avatar-icon avatar-icon-mobile\"\\n                                src=\"https://assets.pokemon.com/static2/_ui/img/chrome/profile-navigation/profile-nav-signup.png\"\\n                                alt=\"Log In / Sign Up\"/>\\n                        </div>\\n                        <div class=\"sign-in-text-wrapper sign-in-text-wrapper-mobile\">\\n                            Log In\\n                        </div>\\n                    </a>\\n                </li>\\n            </ul>\\n        </div>\\n        \\n        <ul data-analytics-label=\"primary-nav\">\\n\\n  \\n\\n\\n<li class=\"home\">\\n  <a href=\"/us/\"\\n     \\n     \\n     \\n     target=\"_self\"\\n     data-content-id=\"\"\\n     data-content-type=\"Sidebar\"\\n     data-content-variation=\"sidebarLeft\"\\n     data-content-location=\"\"\\n     data-content-category=\"\"\\n     data-content-download=\"\">\\n    <span class=\"fill\"></span>\\n\\n    <span class=\"icon icon_home\">\\n        \\n        \\n    </span>\\n\\n    <span class=\"title title_home\">Home</span>\\n  </a>\\n\\n\\n\\n</li>\\n\\n\\n\\n<li class=\"explore\">\\n  <a href=\"/us/pokedex/\"\\n     \\n     \\n     \\n     target=\"_self\"\\n     data-content-id=\"\"\\n     data-content-type=\"Sidebar\"\\n     data-content-variation=\"sidebarLeft\"\\n     data-content-location=\"\"\\n     data-content-category=\"\"\\n     data-content-download=\"\">\\n    <span class=\"fill\"></span>\\n\\n    <span class=\"icon icon_pokeball\">\\n        \\n        \\n    </span>\\n\\n    <span class=\"title title_pokeball\">Pokédex</span>\\n  </a>\\n\\n\\n\\n</li>\\n\\n\\n\\n<li class=\"watch\">\\n  <a href=\"/us/pokemon-video-games/\"\\n     \\n     \\n     \\n     target=\"_self\"\\n     data-content-id=\"\"\\n     data-content-type=\"Sidebar\"\\n     data-content-variation=\"sidebarLeft\"\\n     data-content-location=\"\"\\n     data-content-category=\"\"\\n     data-content-download=\"\">\\n    <span class=\"fill\"></span>\\n\\n    <span class=\"icon icon_joystick\">\\n        \\n        \\n    </span>\\n\\n    <span class=\"title title_joystick\">Video Games & Apps</span>\\n  </a>\\n\\n\\n\\n</li>\\n\\n\\n\\n<li class=\"play\">\\n  <a href=\"/us/pokemon-tcg/\"\\n     \\n     \\n     \\n     target=\"_self\"\\n     data-content-id=\"\"\\n     data-content-type=\"Sidebar\"\\n     data-content-variation=\"sidebarLeft\"\\n     data-content-location=\"\"\\n     data-content-category=\"\"\\n     data-content-download=\"\">\\n    <span class=\"fill\"></span>\\n\\n    <span class=\"icon icon_cards\">\\n        \\n        \\n    </span>\\n\\n    <span class=\"title title_cards\">Trading Card Game</span>\\n  </a>\\n\\n<a href=\"#\" class=\"subnav-toggle\"><span class=\"icon\"></span></a>\\n\\n<ul class=\"subnav secondary\">\\n\\n    <li class=\"subnav-title\"\\n        data-content-id=\"\"\\n        data-content-type=\"Sidebar\"\\n        data-content-variation=\"sidebarLeft\"\\n        data-content-location=\"\"\\n        data-content-category=\"\"\\n        data-content-download=\"\">\\n        <a href=\"#\" class=\"subnav-toggle\"><span class=\"icon\"></span></a>\\n        <a href=\"#\"><span class=\"title\">Trading Card Game</span></a>\\n    </li>\\n\\n\\n    \\n<li>\\n    <a href=\"/us/pokemon-tcg/play-online/\"\\n       \\n       \\n       \\n       data-content-id=\"\"\\n       data-content-type=\"Sidebar\"\\n       data-content-variation=\"sidebarLeft\"\\n       data-content-location=\"\"\\n       data-content-category=\"\"\\n       data-content-download=\"\"\\n       target=\"_self\">Pokémon TCG Online</a>\\n    \\n    \\n    \\n</li>\\n<li>\\n    <a href=\"/us/pokemon-tcg/play-online/leaderboards/\"\\n       \\n       \\n       \\n       data-content-id=\"\"\\n       data-content-type=\"Sidebar\"\\n       data-content-variation=\"sidebarLeft\"\\n       data-content-location=\"\"\\n       data-content-category=\"\"\\n       data-content-download=\"\"\\n       target=\"_self\">TCG Online Leaderboards</a>\\n    \\n    \\n    \\n</li>\\n\\n\\n</ul>\\n\\n\\n</li>\\n\\n\\n\\n<li class=\"attend\">\\n  <a href=\"/us/pokemon-episodes/\"\\n     \\n     \\n     \\n     target=\"_self\"\\n     data-content-id=\"\"\\n     data-content-type=\"Sidebar\"\\n     data-content-variation=\"sidebarLeft\"\\n     data-content-location=\"\"\\n     data-content-category=\"\"\\n     data-content-download=\"\">\\n    <span class=\"fill\"></span>\\n\\n    <span class=\"icon icon_pokemontv\">\\n        \\n        \\n    </span>\\n\\n    <span class=\"title title_pokemontv\">Pokémon TV</span>\\n  </a>\\n\\n\\n\\n</li>\\n\\n\\n\\n<li class=\"trade\">\\n  <a href=\"/us/play-pokemon/\"\\n     \\n     \\n     \\n     target=\"_self\"\\n     data-content-id=\"\"\\n     data-content-type=\"Sidebar\"\\n     data-content-variation=\"sidebarLeft\"\\n     data-content-location=\"\"\\n     data-content-category=\"\"\\n     data-content-download=\"\">\\n    <span class=\"fill\"></span>\\n\\n    <span class=\"icon icon_event\">\\n        \\n        \\n    </span>\\n\\n    <span class=\"title title_event\">Play! Pokémon Events</span>\\n  </a>\\n\\n<a href=\"#\" class=\"subnav-toggle\"><span class=\"icon\"></span></a>\\n\\n<ul class=\"subnav secondary\">\\n\\n    <li class=\"subnav-title\"\\n        data-content-id=\"\"\\n        data-content-type=\"Sidebar\"\\n        data-content-variation=\"sidebarLeft\"\\n        data-content-location=\"\"\\n        data-content-category=\"\"\\n        data-content-download=\"\">\\n        <a href=\"#\" class=\"subnav-toggle\"><span class=\"icon\"></span></a>\\n        <a href=\"#\"><span class=\"title\">Play! Pokémon Events</span></a>\\n    </li>\\n\\n\\n    \\n<li>\\n    <a href=\"/us/play-pokemon/\"\\n       \\n       \\n       \\n       data-content-id=\"\"\\n       data-content-type=\"Sidebar\"\\n       data-content-variation=\"sidebarLeft\"\\n       data-content-location=\"\"\\n       data-content-category=\"\"\\n       data-content-download=\"\"\\n       target=\"_self\">Play! Pokémon Events</a>\\n    \\n    <a href=\"#\" class=\"subnav-toggle\"><span class=\"icon\"></span></a>\\n\\n<ul class=\"subnav tertiary\">\\n\\n    <li class=\"subnav-title\"\\n        data-content-id=\"\"\\n        data-content-type=\"Sidebar\"\\n        data-content-variation=\"sidebarLeft\"\\n        data-content-location=\"\"\\n        data-content-category=\"\"\\n        data-content-download=\"\">\\n        <a href=\"#\" class=\"subnav-toggle\"><span class=\"icon\"></span></a>\\n        <a href=\"#\"><span class=\"title\">Play! Pokémon Events</span></a>\\n    </li>\\n\\n\\n    \\n<li>\\n    <a href=\"/us/play-pokemon/pokemon-events/\"\\n       \\n       \\n       \\n       data-content-id=\"\"\\n       data-content-type=\"Sidebar\"\\n       data-content-variation=\"sidebarLeft\"\\n       data-content-location=\"\"\\n       data-content-category=\"\"\\n       data-content-download=\"\"\\n       target=\"_self\">Play! Pokémon Events</a>\\n    \\n    <a href=\"#\" class=\"subnav-toggle\"><span class=\"icon\"></span></a>\\n\\n<ul class=\"subnav tertiary\">\\n\\n    <li class=\"subnav-title\"\\n        data-content-id=\"\"\\n        data-content-type=\"Sidebar\"\\n        data-content-variation=\"sidebarLeft\"\\n        data-content-location=\"\"\\n        data-content-category=\"\"\\n        data-content-download=\"\">\\n        <a href=\"#\" class=\"subnav-toggle\"><span class=\"icon\"></span></a>\\n        <a href=\"#\"><span class=\"title\">Play! Pokémon Events</span></a>\\n    </li>\\n\\n\\n    \\n<li>\\n    <a href=\"/us/play-pokemon/pokemon-events/find-an-event/\"\\n       \\n       \\n       \\n       data-content-id=\"\"\\n       data-content-type=\"Sidebar\"\\n       data-content-variation=\"sidebarLeft\"\\n       data-content-location=\"\"\\n       data-content-category=\"\"\\n       data-content-download=\"\"\\n       target=\"_self\">Event Locator</a>\\n    \\n    \\n    \\n</li>\\n<li>\\n    <a href=\"/us/play-pokemon/pokemon-events/play-in-a-league/\"\\n       \\n       \\n       \\n       data-content-id=\"\"\\n       data-content-type=\"Sidebar\"\\n       data-content-variation=\"sidebarLeft\"\\n       data-content-location=\"\"\\n       data-content-category=\"\"\\n       data-content-download=\"\"\\n       target=\"_self\">Pokémon League</a>\\n    \\n    \\n    \\n</li>\\n<li>\\n    <a href=\"/us/play-pokemon/pokemon-events/pokemon-tournaments/\"\\n       \\n       \\n       \\n       data-content-id=\"\"\\n       data-content-type=\"Sidebar\"\\n       data-content-variation=\"sidebarLeft\"\\n       data-content-location=\"\"\\n       data-content-category=\"\"\\n       data-content-download=\"\"\\n       target=\"_self\">Pokémon Championship Series</a>\\n    \\n    \\n    \\n</li>\\n<li>\\n    <a href=\"/us/play-pokemon/pokemon-events/pokemon-tournaments/earn-championship-points/\"\\n       \\n       \\n       \\n       data-content-id=\"\"\\n       data-content-type=\"Sidebar\"\\n       data-content-variation=\"sidebarLeft\"\\n       data-content-location=\"\"\\n       data-content-category=\"\"\\n       data-content-download=\"\"\\n       target=\"_self\">Championship Points</a>\\n    \\n    \\n    \\n</li>\\n<li>\\n    <a href=\"/us/play-pokemon/leaderboards/\"\\n       \\n       \\n       \\n       data-content-id=\"\"\\n       data-content-type=\"Sidebar\"\\n       data-content-variation=\"sidebarLeft\"\\n       data-content-location=\"\"\\n       data-content-category=\"\"\\n       data-content-download=\"\"\\n       target=\"_self\">Championship Rating and Rankings</a>\\n    \\n    \\n    \\n</li>\\n<li>\\n    <a href=\"/us/play-pokemon/pokemon-events/pre-release-tournaments/\"\\n       \\n       \\n       \\n       data-content-id=\"\"\\n       data-content-type=\"Sidebar\"\\n       data-content-variation=\"sidebarLeft\"\\n       data-content-location=\"\"\\n       data-content-category=\"\"\\n       data-content-download=\"\"\\n       target=\"_self\">Prerelease Tournaments</a>\\n    \\n    \\n    \\n</li>\\n\\n\\n</ul>\\n\\n    \\n</li>\\n<li>\\n    <a href=\"/us/play-pokemon/about/\"\\n       \\n       \\n       \\n       data-content-id=\"\"\\n       data-content-type=\"Sidebar\"\\n       data-content-variation=\"sidebarLeft\"\\n       data-content-location=\"\"\\n       data-content-category=\"\"\\n       data-content-download=\"\"\\n       target=\"_self\">About Play! Pokémon</a>\\n    \\n    <a href=\"#\" class=\"subnav-toggle\"><span class=\"icon\"></span></a>\\n\\n<ul class=\"subnav tertiary\">\\n\\n    <li class=\"subnav-title\"\\n        data-content-id=\"\"\\n        data-content-type=\"Sidebar\"\\n        data-content-variation=\"sidebarLeft\"\\n        data-content-location=\"\"\\n        data-content-category=\"\"\\n        data-content-download=\"\">\\n        <a href=\"#\" class=\"subnav-toggle\"><span class=\"icon\"></span></a>\\n        <a href=\"#\"><span class=\"title\">About Play! Pokémon</span></a>\\n    </li>\\n\\n\\n    \\n<li>\\n    <a href=\"/us/play-pokemon/about/play-points/\"\\n       \\n       \\n       \\n       data-content-id=\"\"\\n       data-content-type=\"Sidebar\"\\n       data-content-variation=\"sidebarLeft\"\\n       data-content-location=\"\"\\n       data-content-category=\"\"\\n       data-content-download=\"\"\\n       target=\"_self\">Play! Points</a>\\n    \\n    \\n    \\n</li>\\n<li>\\n    <a href=\"/us/play-pokemon/about/tournaments-rules-and-resources/\"\\n       \\n       \\n       \\n       data-content-id=\"\"\\n       data-content-type=\"Sidebar\"\\n       data-content-variation=\"sidebarLeft\"\\n       data-content-location=\"\"\\n       data-content-category=\"\"\\n       data-content-download=\"\"\\n       target=\"_self\">Rules & Resources</a>\\n    \\n    \\n    \\n</li>\\n<li>\\n    <a href=\"/us/play-pokemon/about/tournaments-glossary/\"\\n       \\n       \\n       \\n       data-content-id=\"\"\\n       data-content-type=\"Sidebar\"\\n       data-content-variation=\"sidebarLeft\"\\n       data-content-location=\"\"\\n       data-content-category=\"\"\\n       data-content-download=\"\"\\n       target=\"_self\">Play! Pokémon Glossary</a>\\n    \\n    \\n    \\n</li>\\n<li>\\n    <a href=\"/us/play-pokemon/about/video-game-glossary/\"\\n       \\n       \\n       \\n       data-content-id=\"\"\\n       data-content-type=\"Sidebar\"\\n       data-content-variation=\"sidebarLeft\"\\n       data-content-location=\"\"\\n       data-content-category=\"\"\\n       data-content-download=\"\"\\n       target=\"_self\">Video Game Glossary</a>\\n    \\n    \\n    \\n</li>\\n<li>\\n    <a href=\"/us/play-pokemon/about/parents-guide/\"\\n       \\n       \\n       \\n       data-content-id=\"\"\\n       data-content-type=\"Sidebar\"\\n       data-content-variation=\"sidebarLeft\"\\n       data-content-location=\"\"\\n       data-content-category=\"\"\\n       data-content-download=\"\"\\n       target=\"_self\">Parents Guide</a>\\n    \\n    \\n    \\n</li>\\n\\n\\n</ul>\\n\\n    \\n</li>\\n<li>\\n    <a href=\"/us/play-pokemon/organize/\"\\n       \\n       \\n       \\n       data-content-id=\"\"\\n       data-content-type=\"Sidebar\"\\n       data-content-variation=\"sidebarLeft\"\\n       data-content-location=\"\"\\n       data-content-category=\"\"\\n       data-content-download=\"\"\\n       target=\"_self\">Organize Events</a>\\n    \\n    \\n    \\n</li>\\n\\n\\n</ul>\\n\\n    \\n</li>\\n<li>\\n    <a href=\"/us/play-pokemon/leaderboards/\"\\n       \\n       \\n       \\n       data-content-id=\"\"\\n       data-content-type=\"Sidebar\"\\n       data-content-variation=\"sidebarLeft\"\\n       data-content-location=\"\"\\n       data-content-category=\"\"\\n       data-content-download=\"\"\\n       target=\"_self\">Play! Pokémon Leaderboards</a>\\n    \\n    \\n    \\n</li>\\n\\n\\n</ul>\\n\\n\\n</li>\\n\\n\\n\\n<li class=\"game last-item\">\\n  <a href=\"/us/pokemon-news/\"\\n     \\n     \\n     \\n     target=\"_self\"\\n     data-content-id=\"\"\\n     data-content-type=\"Sidebar\"\\n     data-content-variation=\"sidebarLeft\"\\n     data-content-location=\"\"\\n     data-content-category=\"\"\\n     data-content-download=\"\">\\n    <span class=\"fill\"></span>\\n\\n    <span class=\"icon icon_news\">\\n        \\n        \\n    </span>\\n\\n    <span class=\"title title_news\">News</span>\\n  </a>\\n\\n\\n\\n</li>\\n\\n\\n\\n    <li class=\"search\">\\n        <div class=\"search-wrapper\">\\n            <form id=\"mobile-nav-site-search-widget\" action=\"/search/\" method=\"GET\">\\n                <input id=\"mobile-search\" type=\"search\" value=\"\" placeholder=\"Search\" name=\"q\"\\n                       id=\"mobile-nav-site-search-widget-term\"/>\\n                <span class=\"icon icon_search\"></span>\\n            </form>\\n        </div>\\n    </li>\\n</ul>\\n\\n\\n        \\n    </div>\\n\\n</nav>\\n\\n\\n  \\n  \\n    \\n    \\n      \\n\\n\\n\\n\\n\\n<div id=\"user-dashboard\" class=\"\\n\\n    \\n        default-background\\n    \\n\\n\">\\n\\n    <div class=\"drawer\">\\n\\n        <nav class=\"profile-nav hidden-mobile\">\\n\\n            <ul class=\"dashboard-open\">\\n                <li class=\"visible-not-signed-in sign-up\">\\n                    <a href=\"https://club.pokemon.com/us/pokemon-trainer-club/login\">\\n                        <span class=\"\">\\n                            <div class=\"avatar-icon-wrapper\">\\n                                <img class=\"avatar-icon\" src=\"https://assets.pokemon.com/static2/_ui/img/chrome/profile-navigation/profile-nav-signup.png\"\\n                                     alt=\"Sign In\"/>\\n                            </div>\\n                            <div class=\"sign-in-text-wrapper\">\\n                                Log In\\n                            </div>\\n                        </span>\\n                    </a>\\n                </li>\\n\\n                <li class=\"visible-signed-in\">\\n                    <a href=\"https://club.pokemon.com/us/pokemon-trainer-club/edit-profile/\">\\n                        <span class=\"\">\\n                            <div class=\"avatar-icon-wrapper\">\\n                                <img class=\"avatar-icon\"\\n                                     src=\"https://assets.pokemon.com/static2/_ui/img/chrome/profile-navigation/profile-nav-avatar.png\"\\n                                     alt=\"Profile\"/>\\n                            </div>\\n                        </span>\\n                    </a>\\n                </li>\\n\\n                \\n                    <li class=\"visible-signed-in organizer-link\">\\n                        <a href=\"/us/pokemon-trainer-club/play-pokemon/events/\">\\n                            <span class=\"\" >\\n                                <div class=\"organizer-icon-wrapper\">\\n                                    <img class=\"organizer-icon default\" alt=\"Profile\"\\n                                         src=\"https://assets.pokemon.com/static2/_ui/img/chrome/profile-navigation/profile-nav-builder.png\" />\\n                                    <img class=\"organizer-icon ie9-hover\" alt=\"Profile\"\\n                                         src=\"https://assets.pokemon.com/static2/_ui/img/chrome/profile-navigation/profile-nav-builder-ie9-hover.png\" />\\n                                    <span class=\"offscreen\">Profile</span>\\n                                </div>\\n                            </span>\\n                        </a>\\n                    </li>\\n                \\n\\n                <li class=\"visible-signed-in sign-in\" id=\"sidebar-logout-button\">\\n                    <a href=\"/us/pokemon-trainer-club/logout\">\\n                        <span>Log Out</span>\\n                    </a>\\n                </li>\\n\\n            </ul>\\n            <div class=\"search\">\\n                <a class=\"icon icon_search\" href=\"\">\\n                    <span class=\"offscreen\"></span>\\n                </a>\\n            </div>\\n            <div class=\"bottom-angle\"></div>\\n        </nav>\\n\\n        <div class=\"dashboard\"></div>\\n\\n    </div>\\n\\n</div>\\n\\n    \\n    \\n  \\n\\n\\n  <div class=\"container\\n  \\n    \\n  \\n  \">\\n    \\n    \\n    \\n    \\n      \\n\\n\\n\\n\\n\\n\\n<section class=\"mosaic section\"  data-tile-template=\"MosaicDefault\">\\n\\n    <script>\\n    // For GTM Custom Dimension Tracking\\n    // Can\\'t be the first child element that\\'s why it is inside the section\\n    window.pokemonMosaicType = \\'MosaicDefault\\';\\n    </script>\\n\\n    \\n\\n    <div class=\"column-8 push-1\" data-tile-position=\"Main\">\\n\\n        \\n            \\n\\n\\n\\n\\n\\n\\n\\n\\n\\n\\n\\n  \\n  <a href=\"/us/pokemon-news/hisuian-growlithe-hisuian-qwilfish-and-hisuian-sneasel-debut-in-pokemon-go-s-hisuian-discoveries-event/\"\\n     \\n     \\n     \\n     data-analytics-label=\"https://assets.pokemon.com/assets//cms2/img/video-games/_tiles/pokemon-go/07272022/pokemon-go-169.jpg\"\\n     data-content-id=\"\"\\n     data-content-type=\"\"\\n     data-content-variation=\"\"\\n     data-content-location=\"\"\\n     data-content-category=\"\"\\n     data-content-download=\"\"\\n     >\\n  \\n\\n   <div class=\"content-block  content-block-full content-hero  \">\\n    \\n\\n      \\n      <div class=\"content-hero-wrapper \">\\n      \\n\\n      \\n\\n      \\n\\n      \\n        <div class=\"tile-image-wrapper\">\\n            <img\\n                 \\n                 src=\"https://assets.pokemon.com/assets//cms2/img/video-games/_tiles/pokemon-go/07272022/pokemon-go-169.jpg\"\\n                 class=\"breakpoint rating-image\"\\n                 data-maxwidth720px=\"https://assets.pokemon.com/assets//cms2/img/video-games/_tiles/pokemon-go/07272022/pokemon-go-169.jpg\"\\n                 data-minwidth721px=\"https://assets.pokemon.com/assets//cms2/img/video-games/_tiles/pokemon-go/07272022/pokemon-go-169.jpg\"\\n                 \\n                 alt=\"Pokémon GO Says Hello to Hisui\">\\n        </div>\\n      \\n\\n      </div>\\n    \\n\\n    \\n  \\n      <div class=\"banner  banner-lightbrown\">\\n\\n    \\n\\n    \\n    \\n      <h3>Pokémon GO Says Hello to Hisui</h3>\\n      <p>Hisuian Growlithe, Hisuian Qwilfish, and Hisuian Sneasel make their debuts in Hisuian Discoveries.</p>\\n    \\n\\n    \\n\\n    \\n\\n    \\n\\n      </div>\\n  \\n    \\n\\n  \\n\\n    </div>\\n\\n  \\n  </a>\\n  \\n\\n\\n\\n\\n\\n\\n\\n        \\n        \\n            \\n\\n\\n\\n\\n\\n\\n\\n\\n\\n\\n\\n  \\n  <a href=\"/us/pokemon-news/sygna-suit-may-blaziken-in-pokemon-masters-ex/\"\\n     \\n     \\n     \\n     data-analytics-label=\"https://assets.pokemon.com/assets//cms2/img/video-games/_tiles/pokemon-masters/07292022/pokemon-masters-ex-169.jpg\"\\n     data-content-id=\"\"\\n     data-content-type=\"\"\\n     data-content-variation=\"\"\\n     data-content-location=\"\"\\n     data-content-category=\"\"\\n     data-content-download=\"\"\\n     >\\n  \\n\\n   <div class=\"content-block  content-block-half-first  \">\\n    \\n\\n      \\n\\n      \\n\\n      \\n\\n      \\n        <div class=\"tile-image-wrapper\">\\n            <img\\n                 \\n                 src=\"https://assets.pokemon.com/assets//cms2/img/video-games/_tiles/pokemon-masters/07292022/pokemon-masters-ex-169.jpg\"\\n                 class=\"breakpoint rating-image\"\\n                 data-maxwidth720px=\"https://assets.pokemon.com/assets//cms2/img/video-games/_tiles/pokemon-masters/07292022/pokemon-masters-ex-169.jpg\"\\n                 data-minwidth721px=\"https://assets.pokemon.com/assets//cms2/img/video-games/_tiles/pokemon-masters/07292022/pokemon-masters-ex-169.jpg\"\\n                 \\n                 alt=\"Sygna Suit May & Blaziken Are Turning Up the Heat on Pasio\">\\n        </div>\\n      \\n\\n      \\n    \\n\\n    \\n  \\n      <div class=\"banner  banner-lightred\">\\n\\n    \\n\\n    \\n    \\n      <h3>Sygna Suit May & Blaziken Are Turning Up the Heat on Pasio</h3>\\n      \\n    \\n\\n    \\n\\n    \\n\\n    \\n\\n      </div>\\n  \\n    \\n\\n  \\n\\n    </div>\\n\\n  \\n  </a>\\n  \\n\\n\\n\\n\\n\\n\\n\\n        \\n        \\n            \\n\\n\\n\\n\\n\\n\\n\\n\\n\\n\\n\\n  \\n  <a href=\"/us/pokemon-news/register-to-battle-in-the-i-choose-chu-online-competition/\"\\n     \\n     \\n     \\n     data-analytics-label=\"https://assets.pokemon.com/assets//cms2/img/video-games/_tiles/pokemon-sword-shield/online-competition/i-choose-chu/i-choose-chu-169-en.jpg\"\\n     data-content-id=\"\"\\n     data-content-type=\"\"\\n     data-content-variation=\"\"\\n     data-content-location=\"\"\\n     data-content-category=\"\"\\n     data-content-download=\"\"\\n     >\\n  \\n\\n   <div class=\"content-block  content-block-half  \">\\n    \\n\\n      \\n\\n      \\n\\n      \\n\\n      \\n        <div class=\"tile-image-wrapper\">\\n            <img\\n                 \\n                 src=\"https://assets.pokemon.com/assets//cms2/img/video-games/_tiles/pokemon-sword-shield/online-competition/i-choose-chu/i-choose-chu-169-en.jpg\"\\n                 class=\"breakpoint rating-image\"\\n                 data-maxwidth720px=\"https://assets.pokemon.com/assets//cms2/img/video-games/_tiles/pokemon-sword-shield/online-competition/i-choose-chu/i-choose-chu-169-en.jpg\"\\n                 data-minwidth721px=\"https://assets.pokemon.com/assets//cms2/img/video-games/_tiles/pokemon-sword-shield/online-competition/i-choose-chu/i-choose-chu-169-en.jpg\"\\n                 \\n                 alt=\"Choose Pichu, Pikachu, and Raichu or Alolan Raichu for These Shocking Battles\">\\n        </div>\\n      \\n\\n      \\n    \\n\\n    \\n  \\n      <div class=\"banner  banner-black\">\\n\\n    \\n\\n    \\n    \\n      <h3>Choose Pichu, Pikachu, and Raichu or Alolan Raichu for These Shocking Battles</h3>\\n      \\n    \\n\\n    \\n\\n    \\n\\n    \\n\\n      </div>\\n  \\n    \\n\\n  \\n\\n    </div>\\n\\n  \\n  </a>\\n  \\n\\n\\n\\n\\n\\n\\n\\n        \\n\\n    </div>\\n\\n    <div class=\"column-4 push-9\" data-tile-position=\"Right_\">\\n\\n        \\n        \\n            \\n\\n\\n\\n\\n\\n\\n\\n\\n\\n\\n\\n  \\n  <a href=\"/us/play-pokemon/worlds/2022/competition-schedules/\"\\n     \\n     \\n     \\n     data-analytics-label=\"https://assets.pokemon.com/assets//cms2/img/attend-events/championship/2022-worlds/2022-worlds-169.jpg\"\\n     data-content-id=\"\"\\n     data-content-type=\"\"\\n     data-content-variation=\"\"\\n     data-content-location=\"\"\\n     data-content-category=\"\"\\n     data-content-download=\"\"\\n     >\\n  \\n\\n   <div class=\"content-block  content-block-full  \">\\n    \\n\\n      \\n\\n      \\n\\n      \\n\\n      \\n        <div class=\"tile-image-wrapper\">\\n            <img\\n                 \\n                 src=\"https://assets.pokemon.com/assets//cms2/img/attend-events/championship/2022-worlds/2022-worlds-169.jpg\"\\n                 class=\"breakpoint rating-image\"\\n                 data-maxwidth720px=\"https://assets.pokemon.com/assets//cms2/img/attend-events/championship/2022-worlds/2022-worlds-169.jpg\"\\n                 data-minwidth721px=\"https://assets.pokemon.com/assets//cms2/img/attend-events/championship/2022-worlds/2022-worlds-169.jpg\"\\n                 \\n                 alt=\"See the 2022 Pokémon World Championships Schedule\">\\n        </div>\\n      \\n\\n      \\n    \\n\\n    \\n  \\n      <div class=\"banner  banner-pink\">\\n\\n    \\n\\n    \\n    \\n      <h3>See the 2022 Pokémon World Championships Schedule</h3>\\n      \\n    \\n\\n    \\n\\n    \\n\\n    \\n\\n      </div>\\n  \\n    \\n\\n  \\n\\n    </div>\\n\\n  \\n  </a>\\n  \\n\\n\\n\\n\\n\\n\\n\\n        \\n        \\n        \\n        \\n            \\n\\n\\n\\n\\n\\n\\n\\n\\n\\n\\n\\n  \\n  <a href=\"/us/pokemon-news/poketoon-episode-7-is-available-now-on-pokemon-tv/\"\\n     \\n     \\n     \\n     data-analytics-label=\"https://assets.pokemon.com/assets//cms2/img/watch-pokemon-tv/_tiles/poketoon/07/poketoon-169-en.png\"\\n     data-content-id=\"\"\\n     data-content-type=\"\"\\n     data-content-variation=\"\"\\n     data-content-location=\"\"\\n     data-content-category=\"\"\\n     data-content-download=\"\"\\n     >\\n  \\n\\n   <div class=\"content-block  content-block-full  \">\\n    \\n\\n      \\n\\n      \\n\\n      \\n\\n      \\n        <div class=\"tile-image-wrapper\">\\n            <img\\n                 \\n                 src=\"https://assets.pokemon.com/assets//cms2/img/watch-pokemon-tv/_tiles/poketoon/07/poketoon-169-en.png\"\\n                 class=\"breakpoint rating-image\"\\n                 data-maxwidth720px=\"https://assets.pokemon.com/assets//cms2/img/watch-pokemon-tv/_tiles/poketoon/07/poketoon-169-en.png\"\\n                 data-minwidth721px=\"https://assets.pokemon.com/assets//cms2/img/watch-pokemon-tv/_tiles/poketoon/07/poketoon-169-en.png\"\\n                 \\n                 alt=\"Chill Out This Summer with the Next POKÉTOON Episode\">\\n        </div>\\n      \\n\\n      \\n    \\n\\n    \\n  \\n      <div class=\"banner  banner-blue\">\\n\\n    \\n\\n    \\n    \\n      <h3>Chill Out This Summer with the Next <em>POKÉTOON</em> Episode</h3>\\n      \\n    \\n\\n    \\n\\n    \\n\\n    \\n\\n      </div>\\n  \\n    \\n\\n  \\n\\n    </div>\\n\\n  \\n  </a>\\n  \\n\\n\\n\\n\\n\\n\\n\\n        \\n        \\n        \\n        \\n            \\n\\n\\n\\n\\n\\n\\n\\n\\n\\n\\n\\n  \\n  <a href=\"/us/pokemon-news/celebrate-friendship-between-pokemon-on-pokemon-tv/\"\\n     \\n     \\n     \\n     data-analytics-label=\"https://assets.pokemon.com/assets//cms2/img/watch-pokemon-tv/_tiles/stunts/friendship/friendship-34-en.png\"\\n     data-content-id=\"\"\\n     data-content-type=\"\"\\n     data-content-variation=\"\"\\n     data-content-location=\"\"\\n     data-content-category=\"\"\\n     data-content-download=\"\"\\n     >\\n  \\n\\n   <div class=\"content-block  content-block-full  \">\\n    \\n\\n    \\n  \\n      <div class=\"banner banner-right banner-lightpurple\">\\n\\n    \\n      <div class=\"tile-image-wrapper \">\\n        <img src=\"https://assets.pokemon.com/assets//cms2/img/watch-pokemon-tv/_tiles/stunts/friendship/friendship-34-en.png\" alt=\"Making Friends on Pokémon TV\">\\n      </div>\\n    \\n\\n    <div class=\"banner-wrapper\">\\n    \\n      <h3>Making Friends on Pokémon&nbsp;TV</h3>\\n      \\n    \\n\\n    \\n\\n    </div>\\n\\n    \\n\\n      </div>\\n  \\n    \\n\\n  \\n\\n    </div>\\n\\n  \\n  </a>\\n  \\n\\n\\n\\n\\n\\n\\n\\n        \\n        \\n\\n        \\n    </div>\\n\\n    <div class=\"loader\"></div>\\n\\n</section>\\n\\n\\n<noscript>\\n    \\n        <div>\\n            <a href=\"/us/pokemon-news/hisuian-growlithe-hisuian-qwilfish-and-hisuian-sneasel-debut-in-pokemon-go-s-hisuian-discoveries-event/\">\\n                <h3>Pokémon GO Says Hello to Hisui</h3>\\n                <p>Hisuian Growlithe, Hisuian Qwilfish, and Hisuian Sneasel make their debuts in Hisuian Discoveries.</p>\\n                \\n                <img src=\"https://assets.pokemon.com/assets//cms2/img/video-games/_tiles/pokemon-go/07272022/pokemon-go-169.jpg\" alt=\"Pokémon GO Says Hello to Hisui\" />\\n                \\n            </a>\\n        </div>\\n    \\n        <div>\\n            <a href=\"/us/play-pokemon/worlds/2022/competition-schedules/\">\\n                <h3>See the 2022 Pokémon World Championships Schedule</h3>\\n                <p></p>\\n                \\n                <img src=\"https://assets.pokemon.com/assets//cms2/img/attend-events/championship/2022-worlds/2022-worlds-169.jpg\" alt=\"See the 2022 Pokémon World Championships Schedule\" />\\n                \\n            </a>\\n        </div>\\n    \\n        <div>\\n            <a href=\"/us/pokemon-news/poketoon-episode-7-is-available-now-on-pokemon-tv/\">\\n                <h3>Chill Out This Summer with the Next <em>POKÉTOON</em> Episode</h3>\\n                <p></p>\\n                \\n                <img src=\"https://assets.pokemon.com/assets//cms2/img/watch-pokemon-tv/_tiles/poketoon/07/poketoon-169-en.png\" alt=\"Chill Out This Summer with the Next &lt;em&gt;POKÉTOON&lt;/em&gt; Episode\" />\\n                \\n            </a>\\n        </div>\\n    \\n        <div>\\n            <a href=\"/us/pokemon-news/sygna-suit-may-blaziken-in-pokemon-masters-ex/\">\\n                <h3>Sygna Suit May & Blaziken Are Turning Up the Heat on Pasio</h3>\\n                <p></p>\\n                \\n                <img src=\"https://assets.pokemon.com/assets//cms2/img/video-games/_tiles/pokemon-masters/07292022/pokemon-masters-ex-169.jpg\" alt=\"Sygna Suit May &amp; Blaziken Are Turning Up the Heat on Pasio\" />\\n                \\n            </a>\\n        </div>\\n    \\n        <div>\\n            <a href=\"/us/pokemon-news/register-to-battle-in-the-i-choose-chu-online-competition/\">\\n                <h3>Choose Pichu, Pikachu, and Raichu or Alolan Raichu for These Shocking Battles</h3>\\n                <p></p>\\n                \\n                <img src=\"https://assets.pokemon.com/assets//cms2/img/video-games/_tiles/pokemon-sword-shield/online-competition/i-choose-chu/i-choose-chu-169-en.jpg\" alt=\"Choose Pichu, Pikachu, and Raichu or Alolan Raichu for These Shocking Battles\" />\\n                \\n            </a>\\n        </div>\\n    \\n        <div>\\n            <a href=\"/us/pokemon-news/celebrate-friendship-between-pokemon-on-pokemon-tv/\">\\n                <h3>Making Friends on Pokémon&nbsp;TV</h3>\\n                <p></p>\\n                \\n                <img src=\"https://assets.pokemon.com/assets//cms2/img/watch-pokemon-tv/_tiles/stunts/friendship/friendship-34-en.png\" alt=\"Making Friends on Pokémon&amp;nbsp;TV\" />\\n                \\n            </a>\\n        </div>\\n    \\n</noscript>\\n\\n\\n\\n\\n<section id=\"pokemon-character-slider\" class=\"slider-widget preload-images\">\\n\\n  \\n  <div class=\"slider-title\">\\n    <div class=\"column-12 push-1\">\\n      <h3 class=\"pokemon-character-slider-title\">\\n        <span class=\"notch-left-top-outer\"></span>\\n        <span class=\"icon icon_pokeball\"></span>\\n        Featured Pokémon\\n      </h3>\\n    </div>\\n  </div>\\n  \\n\\n  <div class=\"slider-wrapper\">\\n    <ul class=\"slider\">\\n\\n\\n\\n<li data-analytics-label=\"Slowking | \"\\n    data-content-id=\"featured-item\"\\n    data-content-type=\"Slider\"\\n    data-content-variation=\"slideCenter\"\\n    data-content-location=\"\"\\n    data-content-category=\"Featured Pokemon\"\\n    data-content-download=\"\">\\n\\n  <div class=\"pokedex-bg\">199</div>\\n  <img data-preload-src=\"https://assets.pokemon.com/assets/cms2/img/pokedex/full//199.png\"\\n       class=\"pokemon-character preload\"\\n       alt=\"Slowking\" >\\n  <div class=\"mini-profile\">\\n    <h5>Slowking\\n      <span class=\"pokedex\">199</span>\\n    </h5>\\n    <dl>\\n\\n      <dt>Type</dt>\\n\\n      <dd class=\"types\">\\n        <span class=\"type-label background-color-water\">\\n          Water\\n        </span>\\n        <span class=\"type-label background-color-psychic\">\\n          Psychic\\n        </span>\\n      </dd>\\n\\n      <dt>Abilities</dt>\\n\\n      <dd class=\"abilities\">\\n      \\n        <span class=\"ability-label\">Oblivious</span>\\n        /\\n      \\n        <span class=\"ability-label\">Own Tempo</span>\\n        \\n      \\n      </dd>\\n    </dl>\\n    <span class=\"notch-bottom-center-small\"></span>\\n  </div>\\n\\n\\n  <a href=\"/us/pokedex/slowking\" class=\"block-link\" title=\"Slowking\" style=\"background-color: #fff; opacity: 0;\">\\n    <span class=\"offscreen\">Slowking Profile</span>\\n  </a>\\n</li>\\n\\n\\n\\n<li data-analytics-label=\"Regigigas | \"\\n    data-content-id=\"featured-item\"\\n    data-content-type=\"Slider\"\\n    data-content-variation=\"slideCenter\"\\n    data-content-location=\"\"\\n    data-content-category=\"Featured Pokemon\"\\n    data-content-download=\"\">\\n\\n  <div class=\"pokedex-bg\">486</div>\\n  <img data-preload-src=\"https://assets.pokemon.com/assets/cms2/img/pokedex/full//486.png\"\\n       class=\"pokemon-character preload\"\\n       alt=\"Regigigas\" >\\n  <div class=\"mini-profile\">\\n    <h5>Regigigas\\n      <span class=\"pokedex\">486</span>\\n    </h5>\\n    <dl>\\n\\n      <dt>Type</dt>\\n\\n      <dd class=\"types\">\\n        <span class=\"type-label background-color-normal\">\\n          Normal\\n        </span>\\n        <span class=\"type-label background-color-\">\\n          \\n        </span>\\n      </dd>\\n\\n      <dt>Abilities</dt>\\n\\n      <dd class=\"abilities\">\\n      \\n        <span class=\"ability-label\">Slow Start</span>\\n        \\n      \\n      </dd>\\n    </dl>\\n    <span class=\"notch-bottom-center-small\"></span>\\n  </div>\\n\\n\\n  <a href=\"/us/pokedex/regigigas\" class=\"block-link\" title=\"Regigigas\" style=\"background-color: #fff; opacity: 0;\">\\n    <span class=\"offscreen\">Regigigas Profile</span>\\n  </a>\\n</li>\\n\\n\\n\\n<li data-analytics-label=\"Oshawott | \"\\n    data-content-id=\"featured-item\"\\n    data-content-type=\"Slider\"\\n    data-content-variation=\"slideCenter\"\\n    data-content-location=\"\"\\n    data-content-category=\"Featured Pokemon\"\\n    data-content-download=\"\">\\n\\n  <div class=\"pokedex-bg\">501</div>\\n  <img data-preload-src=\"https://assets.pokemon.com/assets/cms2/img/pokedex/full//501.png\"\\n       class=\"pokemon-character preload\"\\n       alt=\"Oshawott\" >\\n  <div class=\"mini-profile\">\\n    <h5>Oshawott\\n      <span class=\"pokedex\">501</span>\\n    </h5>\\n    <dl>\\n\\n      <dt>Type</dt>\\n\\n      <dd class=\"types\">\\n        <span class=\"type-label background-color-water\">\\n          Water\\n        </span>\\n        <span class=\"type-label background-color-\">\\n          \\n        </span>\\n      </dd>\\n\\n      <dt>Abilities</dt>\\n\\n      <dd class=\"abilities\">\\n      \\n        <span class=\"ability-label\">Torrent</span>\\n        \\n      \\n      </dd>\\n    </dl>\\n    <span class=\"notch-bottom-center-small\"></span>\\n  </div>\\n\\n\\n  <a href=\"/us/pokedex/oshawott\" class=\"block-link\" title=\"Oshawott\" style=\"background-color: #fff; opacity: 0;\">\\n    <span class=\"offscreen\">Oshawott Profile</span>\\n  </a>\\n</li>\\n\\n\\n\\n<li data-analytics-label=\"Venipede | \"\\n    data-content-id=\"featured-item\"\\n    data-content-type=\"Slider\"\\n    data-content-variation=\"slideCenter\"\\n    data-content-location=\"\"\\n    data-content-category=\"Featured Pokemon\"\\n    data-content-download=\"\">\\n\\n  <div class=\"pokedex-bg\">543</div>\\n  <img data-preload-src=\"https://assets.pokemon.com/assets/cms2/img/pokedex/full//543.png\"\\n       class=\"pokemon-character preload\"\\n       alt=\"Venipede\" >\\n  <div class=\"mini-profile\">\\n    <h5>Venipede\\n      <span class=\"pokedex\">543</span>\\n    </h5>\\n    <dl>\\n\\n      <dt>Type</dt>\\n\\n      <dd class=\"types\">\\n        <span class=\"type-label background-color-bug\">\\n          Bug\\n        </span>\\n        <span class=\"type-label background-color-poison\">\\n          Poison\\n        </span>\\n      </dd>\\n\\n      <dt>Abilities</dt>\\n\\n      <dd class=\"abilities\">\\n      \\n        <span class=\"ability-label\">Swarm</span>\\n        /\\n      \\n        <span class=\"ability-label\">Poison Point</span>\\n        \\n      \\n      </dd>\\n    </dl>\\n    <span class=\"notch-bottom-center-small\"></span>\\n  </div>\\n\\n\\n  <a href=\"/us/pokedex/venipede\" class=\"block-link\" title=\"Venipede\" style=\"background-color: #fff; opacity: 0;\">\\n    <span class=\"offscreen\">Venipede Profile</span>\\n  </a>\\n</li>\\n\\n\\n\\n<li data-analytics-label=\"Eelektross | \"\\n    data-content-id=\"featured-item\"\\n    data-content-type=\"Slider\"\\n    data-content-variation=\"slideCenter\"\\n    data-content-location=\"\"\\n    data-content-category=\"Featured Pokemon\"\\n    data-content-download=\"\">\\n\\n  <div class=\"pokedex-bg\">604</div>\\n  <img data-preload-src=\"https://assets.pokemon.com/assets/cms2/img/pokedex/full//604.png\"\\n       class=\"pokemon-character preload\"\\n       alt=\"Eelektross\" >\\n  <div class=\"mini-profile\">\\n    <h5>Eelektross\\n      <span class=\"pokedex\">604</span>\\n    </h5>\\n    <dl>\\n\\n      <dt>Type</dt>\\n\\n      <dd class=\"types\">\\n        <span class=\"type-label background-color-electric\">\\n          Electric\\n        </span>\\n        <span class=\"type-label background-color-\">\\n          \\n        </span>\\n      </dd>\\n\\n      <dt>Abilities</dt>\\n\\n      <dd class=\"abilities\">\\n      \\n        <span class=\"ability-label\">Levitate</span>\\n        \\n      \\n      </dd>\\n    </dl>\\n    <span class=\"notch-bottom-center-small\"></span>\\n  </div>\\n\\n\\n  <a href=\"/us/pokedex/eelektross\" class=\"block-link\" title=\"Eelektross\" style=\"background-color: #fff; opacity: 0;\">\\n    <span class=\"offscreen\">Eelektross Profile</span>\\n  </a>\\n</li>\\n\\n\\n\\n<li data-analytics-label=\"Stunfisk | \"\\n    data-content-id=\"featured-item\"\\n    data-content-type=\"Slider\"\\n    data-content-variation=\"slideCenter\"\\n    data-content-location=\"\"\\n    data-content-category=\"Featured Pokemon\"\\n    data-content-download=\"\">\\n\\n  <div class=\"pokedex-bg\">618</div>\\n  <img data-preload-src=\"https://assets.pokemon.com/assets/cms2/img/pokedex/full//618.png\"\\n       class=\"pokemon-character preload\"\\n       alt=\"Stunfisk\" >\\n  <div class=\"mini-profile\">\\n    <h5>Stunfisk\\n      <span class=\"pokedex\">618</span>\\n    </h5>\\n    <dl>\\n\\n      <dt>Type</dt>\\n\\n      <dd class=\"types\">\\n        <span class=\"type-label background-color-ground\">\\n          Ground\\n        </span>\\n        <span class=\"type-label background-color-electric\">\\n          Electric\\n        </span>\\n      </dd>\\n\\n      <dt>Abilities</dt>\\n\\n      <dd class=\"abilities\">\\n      \\n        <span class=\"ability-label\">Static</span>\\n        /\\n      \\n        <span class=\"ability-label\">Limber</span>\\n        \\n      \\n      </dd>\\n    </dl>\\n    <span class=\"notch-bottom-center-small\"></span>\\n  </div>\\n\\n\\n  <a href=\"/us/pokedex/stunfisk\" class=\"block-link\" title=\"Stunfisk\" style=\"background-color: #fff; opacity: 0;\">\\n    <span class=\"offscreen\">Stunfisk Profile</span>\\n  </a>\\n</li>\\n\\n\\n\\n<li data-analytics-label=\"Barbaracle | \"\\n    data-content-id=\"featured-item\"\\n    data-content-type=\"Slider\"\\n    data-content-variation=\"slideCenter\"\\n    data-content-location=\"\"\\n    data-content-category=\"Featured Pokemon\"\\n    data-content-download=\"\">\\n\\n  <div class=\"pokedex-bg\">689</div>\\n  <img data-preload-src=\"https://assets.pokemon.com/assets/cms2/img/pokedex/full//689.png\"\\n       class=\"pokemon-character preload\"\\n       alt=\"Barbaracle\" >\\n  <div class=\"mini-profile\">\\n    <h5>Barbaracle\\n      <span class=\"pokedex\">689</span>\\n    </h5>\\n    <dl>\\n\\n      <dt>Type</dt>\\n\\n      <dd class=\"types\">\\n        <span class=\"type-label background-color-rock\">\\n          Rock\\n        </span>\\n        <span class=\"type-label background-color-water\">\\n          Water\\n        </span>\\n      </dd>\\n\\n      <dt>Abilities</dt>\\n\\n      <dd class=\"abilities\">\\n      \\n        <span class=\"ability-label\">Sniper</span>\\n        /\\n      \\n        <span class=\"ability-label\">Tough Claws</span>\\n        \\n      \\n      </dd>\\n    </dl>\\n    <span class=\"notch-bottom-center-small\"></span>\\n  </div>\\n\\n\\n  <a href=\"/us/pokedex/barbaracle\" class=\"block-link\" title=\"Barbaracle\" style=\"background-color: #fff; opacity: 0;\">\\n    <span class=\"offscreen\">Barbaracle Profile</span>\\n  </a>\\n</li>\\n\\n\\n\\n<li data-analytics-label=\"Wishiwashi | \"\\n    data-content-id=\"featured-item\"\\n    data-content-type=\"Slider\"\\n    data-content-variation=\"slideCenter\"\\n    data-content-location=\"\"\\n    data-content-category=\"Featured Pokemon\"\\n    data-content-download=\"\">\\n\\n  <div class=\"pokedex-bg\">746</div>\\n  <img data-preload-src=\"https://assets.pokemon.com/assets/cms2/img/pokedex/full//746.png\"\\n       class=\"pokemon-character preload\"\\n       alt=\"Wishiwashi\" >\\n  <div class=\"mini-profile\">\\n    <h5>Wishiwashi\\n      <span class=\"pokedex\">746</span>\\n    </h5>\\n    <dl>\\n\\n      <dt>Type</dt>\\n\\n      <dd class=\"types\">\\n        <span class=\"type-label background-color-water\">\\n          Water\\n        </span>\\n        <span class=\"type-label background-color-\">\\n          \\n        </span>\\n      </dd>\\n\\n      <dt>Abilities</dt>\\n\\n      <dd class=\"abilities\">\\n      \\n        <span class=\"ability-label\">Schooling</span>\\n        \\n      \\n      </dd>\\n    </dl>\\n    <span class=\"notch-bottom-center-small\"></span>\\n  </div>\\n\\n\\n  <a href=\"/us/pokedex/wishiwashi\" class=\"block-link\" title=\"Wishiwashi\" style=\"background-color: #fff; opacity: 0;\">\\n    <span class=\"offscreen\">Wishiwashi Profile</span>\\n  </a>\\n</li>\\n\\n\\n\\n<li data-analytics-label=\"Shiinotic | \"\\n    data-content-id=\"featured-item\"\\n    data-content-type=\"Slider\"\\n    data-content-variation=\"slideCenter\"\\n    data-content-location=\"\"\\n    data-content-category=\"Featured Pokemon\"\\n    data-content-download=\"\">\\n\\n  <div class=\"pokedex-bg\">756</div>\\n  <img data-preload-src=\"https://assets.pokemon.com/assets/cms2/img/pokedex/full//756.png\"\\n       class=\"pokemon-character preload\"\\n       alt=\"Shiinotic\" >\\n  <div class=\"mini-profile\">\\n    <h5>Shiinotic\\n      <span class=\"pokedex\">756</span>\\n    </h5>\\n    <dl>\\n\\n      <dt>Type</dt>\\n\\n      <dd class=\"types\">\\n        <span class=\"type-label background-color-grass\">\\n          Grass\\n        </span>\\n        <span class=\"type-label background-color-fairy\">\\n          Fairy\\n        </span>\\n      </dd>\\n\\n      <dt>Abilities</dt>\\n\\n      <dd class=\"abilities\">\\n      \\n        <span class=\"ability-label\">Effect Spore</span>\\n        /\\n      \\n        <span class=\"ability-label\">Illuminate</span>\\n        \\n      \\n      </dd>\\n    </dl>\\n    <span class=\"notch-bottom-center-small\"></span>\\n  </div>\\n\\n\\n  <a href=\"/us/pokedex/shiinotic\" class=\"block-link\" title=\"Shiinotic\" style=\"background-color: #fff; opacity: 0;\">\\n    <span class=\"offscreen\">Shiinotic Profile</span>\\n  </a>\\n</li>\\n\\n\\n\\n<li data-analytics-label=\"Nihilego | \"\\n    data-content-id=\"featured-item\"\\n    data-content-type=\"Slider\"\\n    data-content-variation=\"slideCenter\"\\n    data-content-location=\"\"\\n    data-content-category=\"Featured Pokemon\"\\n    data-content-download=\"\">\\n\\n  <div class=\"pokedex-bg\">793</div>\\n  <img data-preload-src=\"https://assets.pokemon.com/assets/cms2/img/pokedex/full//793.png\"\\n       class=\"pokemon-character preload\"\\n       alt=\"Nihilego\" >\\n  <div class=\"mini-profile\">\\n    <h5>Nihilego\\n      <span class=\"pokedex\">793</span>\\n    </h5>\\n    <dl>\\n\\n      <dt>Type</dt>\\n\\n      <dd class=\"types\">\\n        <span class=\"type-label background-color-rock\">\\n          Rock\\n        </span>\\n        <span class=\"type-label background-color-poison\">\\n          Poison\\n        </span>\\n      </dd>\\n\\n      <dt>Abilities</dt>\\n\\n      <dd class=\"abilities\">\\n      \\n        <span class=\"ability-label\">Beast Boost</span>\\n        \\n      \\n      </dd>\\n    </dl>\\n    <span class=\"notch-bottom-center-small\"></span>\\n  </div>\\n\\n\\n  <a href=\"/us/pokedex/nihilego\" class=\"block-link\" title=\"Nihilego\" style=\"background-color: #fff; opacity: 0;\">\\n    <span class=\"offscreen\">Nihilego Profile</span>\\n  </a>\\n</li>\\n\\n    </ul>\\n  </div><!-- class=\"slider-wrapper\" -->\\n\\n  \\n  <div class=\"slider-more-button\">\\n    <div class=\"column-12 push-1\">\\n      <div class=\"content-block content-block-full\">\\n        <a class=\"button button-black right \"\\n           \\n           \\n           href=\"/us/pokedex/\">Explore More Pokémon</a>\\n      </div>\\n    </div>\\n  </div>\\n  \\n\\n<noscript>\\n\\n<div>\\n    <a href=\"/us/pokedex/slowking\">\\n        <h5>Slowking</h5>\\n        <img src=\"https://assets.pokemon.com/assets/cms2/img/pokedex/full//199.png\" alt=\"Slowking\" />\\n    </a>\\n</div>\\n\\n<div>\\n    <a href=\"/us/pokedex/regigigas\">\\n        <h5>Regigigas</h5>\\n        <img src=\"https://assets.pokemon.com/assets/cms2/img/pokedex/full//486.png\" alt=\"Regigigas\" />\\n    </a>\\n</div>\\n\\n<div>\\n    <a href=\"/us/pokedex/oshawott\">\\n        <h5>Oshawott</h5>\\n        <img src=\"https://assets.pokemon.com/assets/cms2/img/pokedex/full//501.png\" alt=\"Oshawott\" />\\n    </a>\\n</div>\\n\\n<div>\\n    <a href=\"/us/pokedex/venipede\">\\n        <h5>Venipede</h5>\\n        <img src=\"https://assets.pokemon.com/assets/cms2/img/pokedex/full//543.png\" alt=\"Venipede\" />\\n    </a>\\n</div>\\n\\n<div>\\n    <a href=\"/us/pokedex/eelektross\">\\n        <h5>Eelektross</h5>\\n        <img src=\"https://assets.pokemon.com/assets/cms2/img/pokedex/full//604.png\" alt=\"Eelektross\" />\\n    </a>\\n</div>\\n\\n<div>\\n    <a href=\"/us/pokedex/stunfisk\">\\n        <h5>Stunfisk</h5>\\n        <img src=\"https://assets.pokemon.com/assets/cms2/img/pokedex/full//618.png\" alt=\"Stunfisk\" />\\n    </a>\\n</div>\\n\\n<div>\\n    <a href=\"/us/pokedex/barbaracle\">\\n        <h5>Barbaracle</h5>\\n        <img src=\"https://assets.pokemon.com/assets/cms2/img/pokedex/full//689.png\" alt=\"Barbaracle\" />\\n    </a>\\n</div>\\n\\n<div>\\n    <a href=\"/us/pokedex/wishiwashi\">\\n        <h5>Wishiwashi</h5>\\n        <img src=\"https://assets.pokemon.com/assets/cms2/img/pokedex/full//746.png\" alt=\"Wishiwashi\" />\\n    </a>\\n</div>\\n\\n<div>\\n    <a href=\"/us/pokedex/shiinotic\">\\n        <h5>Shiinotic</h5>\\n        <img src=\"https://assets.pokemon.com/assets/cms2/img/pokedex/full//756.png\" alt=\"Shiinotic\" />\\n    </a>\\n</div>\\n\\n<div>\\n    <a href=\"/us/pokedex/nihilego\">\\n        <h5>Nihilego</h5>\\n        <img src=\"https://assets.pokemon.com/assets/cms2/img/pokedex/full//793.png\" alt=\"Nihilego\" />\\n    </a>\\n</div>\\n\\n</noscript>\\n\\n</section>\\n\\n\\n\\n    \\n\\n<section class=\"mosaic section\" data-tile-template=\"MosaicD\">\\n\\n    <script>\\n    // For GTM Custom Dimension Tracking\\n    // Can\\'t be the first child element that\\'s why it is inside the section\\n    window.pokemonMosaicType = \\'MosaicD\\';\\n    </script>\\n\\n\\t<div class=\"column-4 push-1 staggered-1\" data-tile-position=\"Left_\">\\n\\n        \\n\\t\\t<div class=\"content-block content-block-full visible-mobile\">\\n\\t\\t\\t<h2 class=\"section-title\">What&#39;s New This Week</h2>\\n\\t\\t</div>\\n        \\n\\n        \\n            \\n\\n\\n\\n\\n\\n\\n\\n\\n\\n\\n\\n  \\n  <a href=\"/us/pokemon-news/glaceon-and-the-season-9-battle-pass-are-now-available-in-pokemon-unite/\"\\n     \\n     \\n     \\n     data-analytics-label=\"https://assets.pokemon.com/assets//cms2/img/video-games/_tiles/pokemon-unite/07212022/pokemon-unite-169.jpg\"\\n     data-content-id=\"\"\\n     data-content-type=\"\"\\n     data-content-variation=\"\"\\n     data-content-location=\"\"\\n     data-content-category=\"\"\\n     data-content-download=\"\"\\n     >\\n  \\n\\n   <div class=\"content-block  content-block-full  \">\\n    \\n\\n      \\n\\n      \\n\\n      \\n\\n      \\n        <div class=\"tile-image-wrapper\">\\n            <img\\n                 \\n                 src=\"https://assets.pokemon.com/assets//cms2/img/video-games/_tiles/pokemon-unite/07212022/pokemon-unite-169.jpg\"\\n                 class=\"breakpoint rating-image\"\\n                 data-maxwidth720px=\"https://assets.pokemon.com/assets//cms2/img/video-games/_tiles/pokemon-unite/07212022/pokemon-unite-169.jpg\"\\n                 data-minwidth721px=\"https://assets.pokemon.com/assets//cms2/img/video-games/_tiles/pokemon-unite/07212022/pokemon-unite-169.jpg\"\\n                 \\n                 alt=\"Glaceon and a New Battle Pass Are Keeping Things Cool in Pokémon UNITE\">\\n        </div>\\n      \\n\\n      \\n    \\n\\n    \\n  \\n      <div class=\"banner  banner-lightpurple\">\\n\\n    \\n\\n    \\n    \\n      <h3>Glaceon and a New Battle Pass Are Keeping Things Cool in Pokémon UNITE</h3>\\n      <p>Get ready for new Holowear, a frosty Ranged Attacker, and more.</p>\\n    \\n\\n    \\n\\n    \\n\\n    \\n\\n      </div>\\n  \\n    \\n\\n  \\n\\n    </div>\\n\\n  \\n  </a>\\n  \\n\\n\\n\\n\\n\\n\\n\\n        \\n        \\n            \\n\\n\\n\\n\\n\\n\\n\\n\\n\\n\\n\\n  \\n  <a href=\"/us/pokemon-tcg/product-gallery/trick-or-trade-booster-bundle/\"\\n     \\n     \\n     \\n     data-analytics-label=\"https://assets.pokemon.com/assets//cms2/img/trading-card-game/series/incrementals/trick-or-trade-booster-bundle/trick-or-trade-booster-bundle-169.jpg\"\\n     data-content-id=\"\"\\n     data-content-type=\"\"\\n     data-content-variation=\"\"\\n     data-content-location=\"\"\\n     data-content-category=\"\"\\n     data-content-download=\"\"\\n     >\\n  \\n\\n   <div class=\"content-block  content-block-full  \">\\n    \\n\\n      \\n\\n      \\n\\n      \\n\\n      \\n        <div class=\"tile-image-wrapper\">\\n            <img\\n                 \\n                 src=\"https://assets.pokemon.com/assets//cms2/img/trading-card-game/series/incrementals/trick-or-trade-booster-bundle/trick-or-trade-booster-bundle-169.jpg\"\\n                 class=\"breakpoint rating-image\"\\n                 data-maxwidth720px=\"https://assets.pokemon.com/assets//cms2/img/trading-card-game/series/incrementals/trick-or-trade-booster-bundle/trick-or-trade-booster-bundle-169.jpg\"\\n                 data-minwidth721px=\"https://assets.pokemon.com/assets//cms2/img/trading-card-game/series/incrementals/trick-or-trade-booster-bundle/trick-or-trade-booster-bundle-169.jpg\"\\n                 \\n                 alt=\"The Pokémon TCG Serves Up a Halloween Treat\">\\n        </div>\\n      \\n\\n      \\n    \\n\\n    \\n  \\n      <div class=\"banner  banner-orange\">\\n\\n    \\n\\n    \\n    \\n      <h3>The Pokémon TCG Serves Up a Halloween Treat</h3>\\n      <p>Trick or Trade BOOster Bundles offer a fun new way to delight trick-or-treaters.</p>\\n    \\n\\n    \\n\\n    \\n\\n    \\n\\n      </div>\\n  \\n    \\n\\n  \\n\\n    </div>\\n\\n  \\n  </a>\\n  \\n\\n\\n\\n\\n\\n\\n\\n        \\n\\n\\t</div>\\n\\n\\t<div class=\"column-4 push-5\" data-tile-position=\"Middle_\">\\n\\n\\t\\t\\n            \\n\\n\\n\\n\\n\\n\\n\\n\\n\\n\\n\\n  \\n  <a href=\"/us/strategy/regigigas-deck-strategy-six-powerful-pokemon-line-up-for-battle/\"\\n     \\n     \\n     \\n     data-analytics-label=\"https://assets.pokemon.com/assets//cms2/img/trading-card-game/_tiles/strategy/swsh10/regigigas/swsh10-regigigas-169-en.jpg\"\\n     data-content-id=\"\"\\n     data-content-type=\"\"\\n     data-content-variation=\"\"\\n     data-content-location=\"\"\\n     data-content-category=\"\"\\n     data-content-download=\"\"\\n     >\\n  \\n\\n   <div class=\"content-block  content-block-full  \">\\n    \\n\\n      \\n\\n      \\n\\n      \\n\\n      \\n        <div class=\"tile-image-wrapper\">\\n            <img\\n                 \\n                 src=\"https://assets.pokemon.com/assets//cms2/img/trading-card-game/_tiles/strategy/swsh10/regigigas/swsh10-regigigas-169-en.jpg\"\\n                 class=\"breakpoint rating-image\"\\n                 data-maxwidth720px=\"https://assets.pokemon.com/assets//cms2/img/trading-card-game/_tiles/strategy/swsh10/regigigas/swsh10-regigigas-169-en.jpg\"\\n                 data-minwidth721px=\"https://assets.pokemon.com/assets//cms2/img/trading-card-game/_tiles/strategy/swsh10/regigigas/swsh10-regigigas-169-en.jpg\"\\n                 \\n                 alt=\"Regigigas Leads the Pack in a Devastating New Deck\">\\n        </div>\\n      \\n\\n      \\n    \\n\\n    \\n  \\n      <div class=\"banner  banner-gray\">\\n\\n    \\n\\n    \\n    \\n      <h3>Regigigas Leads the Pack in a Devastating New Deck</h3>\\n      <p>Go big with six Legendary Pokémon at once thanks to the <em>Sword & Shield—Astral Radiance</em> expansion.</p>\\n    \\n\\n    \\n\\n    \\n\\n    \\n\\n      </div>\\n  \\n    \\n\\n  \\n\\n    </div>\\n\\n  \\n  </a>\\n  \\n\\n\\n\\n\\n\\n\\n\\n        \\n\\n        \\n\\t\\t<div class=\"content-block content-block-full hidden-mobile\">\\n\\t\\t\\t<h2 class=\"section-title\">What&#39;s New This Week</h2>\\n\\t\\t</div>\\n        \\n\\n\\t\\t\\n            \\n\\n\\n\\n\\n\\n\\n\\n\\n\\n\\n\\n  \\n  <a href=\"/us/pokemon-news/more-pokemon-primers-for-young-readers-habitats-and-opposites/\"\\n     \\n     \\n     \\n     data-analytics-label=\"https://assets.pokemon.com/assets//cms2/img/misc/_tiles/pokemon-primers/04/pokemon-primers-169.png\"\\n     data-content-id=\"\"\\n     data-content-type=\"\"\\n     data-content-variation=\"\"\\n     data-content-location=\"\"\\n     data-content-category=\"\"\\n     data-content-download=\"\"\\n     >\\n  \\n\\n   <div class=\"content-block  content-block-full  \">\\n    \\n\\n      \\n\\n      \\n\\n      \\n\\n      \\n        <div class=\"tile-image-wrapper\">\\n            <img\\n                 \\n                 src=\"https://assets.pokemon.com/assets//cms2/img/misc/_tiles/pokemon-primers/04/pokemon-primers-169.png\"\\n                 class=\"breakpoint rating-image\"\\n                 data-maxwidth720px=\"https://assets.pokemon.com/assets//cms2/img/misc/_tiles/pokemon-primers/04/pokemon-primers-169.png\"\\n                 data-minwidth721px=\"https://assets.pokemon.com/assets//cms2/img/misc/_tiles/pokemon-primers/04/pokemon-primers-169.png\"\\n                 \\n                 alt=\"More Pokémon Primers for Young Readers: Habitats and Opposites\">\\n        </div>\\n      \\n\\n      \\n    \\n\\n    \\n  \\n      <div class=\"banner  banner-yellow\">\\n\\n    \\n\\n    \\n    \\n      <h3>More <em>Pokémon Primers</em> for Young Readers: Habitats and Opposites</h3>\\n      <p>Two new collections introduce the topics of habitats and opposites with help from Pikachu and friends.</p>\\n    \\n\\n    \\n\\n    \\n\\n    \\n\\n      </div>\\n  \\n    \\n\\n  \\n\\n    </div>\\n\\n  \\n  </a>\\n  \\n\\n\\n\\n\\n\\n\\n\\n        \\n\\n\\t</div>\\n\\n\\t<div class=\"column-4 push-9 staggered-2\" data-tile-position=\"Right_\">\\n\\n        \\n            \\n\\n\\n\\n\\n\\n\\n\\n\\n\\n\\n\\n  \\n  <a href=\"/us/pokemon-news/skyla-lance-and-friends-star-in-pokemon-center-s-pokemon-trainers-collection/\"\\n     \\n     \\n     \\n     data-analytics-label=\"https://assets.pokemon.com/assets//cms2/img/misc/_tiles/pokemon-center/07282022/pokemon-center-169.jpg\"\\n     data-content-id=\"\"\\n     data-content-type=\"\"\\n     data-content-variation=\"\"\\n     data-content-location=\"\"\\n     data-content-category=\"\"\\n     data-content-download=\"\"\\n     >\\n  \\n\\n   <div class=\"content-block  content-block-full  \">\\n    \\n\\n      \\n\\n      \\n\\n      \\n\\n      \\n        <div class=\"tile-image-wrapper\">\\n            <img\\n                 \\n                 src=\"https://assets.pokemon.com/assets//cms2/img/misc/_tiles/pokemon-center/07282022/pokemon-center-169.jpg\"\\n                 class=\"breakpoint rating-image\"\\n                 data-maxwidth720px=\"https://assets.pokemon.com/assets//cms2/img/misc/_tiles/pokemon-center/07282022/pokemon-center-169.jpg\"\\n                 data-minwidth721px=\"https://assets.pokemon.com/assets//cms2/img/misc/_tiles/pokemon-center/07282022/pokemon-center-169.jpg\"\\n                 \\n                 alt=\"Pokémon Center Celebrates the Bond Between Pokémon and Trainer\">\\n        </div>\\n      \\n\\n      \\n    \\n\\n    \\n  \\n      <div class=\"banner  banner-blue\">\\n\\n    \\n\\n    \\n    \\n      <h3>Pokémon Center Celebrates the Bond Between Pokémon and Trainer</h3>\\n      <p>Dawn, Skyla, Lance, and more star in the Pokémon Trainers collection, featuring playful posters and fabulous fashion.</p>\\n    \\n\\n    \\n\\n    \\n\\n    \\n\\n      </div>\\n  \\n    \\n\\n  \\n\\n    </div>\\n\\n  \\n  </a>\\n  \\n\\n\\n\\n\\n\\n\\n\\n        \\n\\n        \\n            \\n                \\n\\n\\n\\n\\n\\n\\n\\n\\n\\n\\n\\n  \\n  <a href=\"/us/pokemon-news/pokemon-sword-and-pokemon-shield-ranked-battles-july-2022-season-season-32/\"\\n     \\n     \\n     \\n     data-analytics-label=\"https://assets.pokemon.com/assets//cms2/img/video-games/_tiles/pokemon-sword-shield/ranked-battles/2022/july-ranked-battle-season-169-en.jpg\"\\n     data-content-id=\"\"\\n     data-content-type=\"\"\\n     data-content-variation=\"\"\\n     data-content-location=\"\"\\n     data-content-category=\"\"\\n     data-content-download=\"\"\\n     >\\n  \\n\\n   <div class=\"content-block  content-block-full  \">\\n    \\n\\n      \\n\\n      \\n\\n      \\n\\n      \\n        <div class=\"tile-image-wrapper\">\\n            <img\\n                 \\n                 src=\"https://assets.pokemon.com/assets//cms2/img/video-games/_tiles/pokemon-sword-shield/ranked-battles/2022/july-ranked-battle-season-169-en.jpg\"\\n                 class=\"breakpoint rating-image\"\\n                 data-maxwidth720px=\"https://assets.pokemon.com/assets//cms2/img/video-games/_tiles/pokemon-sword-shield/ranked-battles/2022/july-ranked-battle-season-169-en.jpg\"\\n                 data-minwidth721px=\"https://assets.pokemon.com/assets//cms2/img/video-games/_tiles/pokemon-sword-shield/ranked-battles/2022/july-ranked-battle-season-169-en.jpg\"\\n                 \\n                 alt=\"Play in the Ranked Battles July 2022 Season (Season 32) Now\">\\n        </div>\\n      \\n\\n      \\n    \\n\\n    \\n  \\n      <div class=\"banner  banner-lightblue\">\\n\\n    \\n\\n    \\n    \\n      <h3>Play in the Ranked Battles July 2022 Season (Season 32) Now</h3>\\n      <p>Earn in-game rewards by competing against <em>Pokémon Sword</em> and <em>Pokémon Shield</em> players from around the world.</p>\\n    \\n\\n    \\n\\n    \\n\\n    \\n\\n      </div>\\n  \\n    \\n\\n  \\n\\n    </div>\\n\\n  \\n  </a>\\n  \\n\\n\\n\\n\\n\\n\\n\\n            \\n        \\n\\n        \\n\\t\\t<a href=\"/us/pokemon-news/\" data-analytics-label=\"#need-analytics-label\">\\n\\t\\t\\t<div class=\"content-block content-block-full\">\\n\\t\\t\\t\\t<div class=\"color-block color-block-orange\">\\n\\t\\t\\t\\t\\t<h2>View All News</h2>\\n\\t\\t\\t\\t</div>\\n                \\n\\t\\t\\t\\t<div class=\"banner banner-lightblue dog-ear-br\">\\n\\t\\t\\t\\t\\t<p>Keep up with all the latest developments!</p>\\n\\t\\t\\t\\t</div>\\n                \\n\\t\\t\\t</div>\\n\\t\\t</a>\\n        \\n\\n\\t</div>\\n\\n    <div class=\"loader\"></div>\\n\\n</section>\\n\\n\\n<noscript>\\n    \\n        <div>\\n            <a href=\"/us/pokemon-news/glaceon-and-the-season-9-battle-pass-are-now-available-in-pokemon-unite/\">\\n                <h3>Glaceon and a New Battle Pass Are Keeping Things Cool in Pokémon UNITE</h3>\\n                <p>Get ready for new Holowear, a frosty Ranged Attacker, and more.</p>\\n                \\n                <img src=\"https://assets.pokemon.com/assets//cms2/img/video-games/_tiles/pokemon-unite/07212022/pokemon-unite-169.jpg\" alt=\"Glaceon and a New Battle Pass Are Keeping Things Cool in Pokémon UNITE\" />\\n                \\n            </a>\\n        </div>\\n    \\n        <div>\\n            <a href=\"/us/pokemon-tcg/product-gallery/trick-or-trade-booster-bundle/\">\\n                <h3>The Pokémon TCG Serves Up a Halloween Treat</h3>\\n                <p>Trick or Trade BOOster Bundles offer a fun new way to delight trick-or-treaters.</p>\\n                \\n                <img src=\"https://assets.pokemon.com/assets//cms2/img/trading-card-game/series/incrementals/trick-or-trade-booster-bundle/trick-or-trade-booster-bundle-169.jpg\" alt=\"The Pokémon TCG Serves Up a Halloween Treat\" />\\n                \\n            </a>\\n        </div>\\n    \\n        <div>\\n            <a href=\"/us/strategy/regigigas-deck-strategy-six-powerful-pokemon-line-up-for-battle/\">\\n                <h3>Regigigas Leads the Pack in a Devastating New Deck</h3>\\n                <p>Go big with six Legendary Pokémon at once thanks to the &lt;em&gt;Sword &amp; Shield—Astral Radiance&lt;/em&gt; expansion.</p>\\n                \\n                <img src=\"https://assets.pokemon.com/assets//cms2/img/trading-card-game/_tiles/strategy/swsh10/regigigas/swsh10-regigigas-169-en.jpg\" alt=\"Regigigas Leads the Pack in a Devastating New Deck\" />\\n                \\n            </a>\\n        </div>\\n    \\n        <div>\\n            <a href=\"/us/pokemon-news/more-pokemon-primers-for-young-readers-habitats-and-opposites/\">\\n                <h3>More <em>Pokémon Primers</em> for Young Readers: Habitats and Opposites</h3>\\n                <p>Two new collections introduce the topics of habitats and opposites with help from Pikachu and friends.</p>\\n                \\n                <img src=\"https://assets.pokemon.com/assets//cms2/img/misc/_tiles/pokemon-primers/04/pokemon-primers-169.png\" alt=\"More &lt;em&gt;Pokémon Primers&lt;/em&gt; for Young Readers: Habitats and Opposites\" />\\n                \\n            </a>\\n        </div>\\n    \\n        <div>\\n            <a href=\"/us/pokemon-news/skyla-lance-and-friends-star-in-pokemon-center-s-pokemon-trainers-collection/\">\\n                <h3>Pokémon Center Celebrates the Bond Between Pokémon and Trainer</h3>\\n                <p>Dawn, Skyla, Lance, and more star in the Pokémon Trainers collection, featuring playful posters and fabulous fashion.</p>\\n                \\n                <img src=\"https://assets.pokemon.com/assets//cms2/img/misc/_tiles/pokemon-center/07282022/pokemon-center-169.jpg\" alt=\"Pokémon Center Celebrates the Bond Between Pokémon and Trainer\" />\\n                \\n            </a>\\n        </div>\\n    \\n        <div>\\n            <a href=\"/us/pokemon-news/pokemon-sword-and-pokemon-shield-ranked-battles-july-2022-season-season-32/\">\\n                <h3>Play in the Ranked Battles July 2022 Season (Season 32) Now</h3>\\n                <p>Earn in-game rewards by competing against &lt;em&gt;Pokémon Sword&lt;/em&gt; and &lt;em&gt;Pokémon Shield&lt;/em&gt; players from around the world.</p>\\n                \\n                <img src=\"https://assets.pokemon.com/assets//cms2/img/video-games/_tiles/pokemon-sword-shield/ranked-battles/2022/july-ranked-battle-season-169-en.jpg\" alt=\"Play in the Ranked Battles July 2022 Season (Season 32) Now\" />\\n                \\n            </a>\\n        </div>\\n    \\n</noscript>\\n\\n\\n\\n\\n\\n\\n\\n\\n    \\n    \\n    <!-- end of container -->\\n  </div>\\n\\n  \\n\\n  \\n\\n  <div id=\"back-to-top\" class=\"visible-mobile\">\\n    <span class=\"offscreen\">Back to Top</span>\\n  </div>\\n\\n  <div class=\"footer-divider\">\\n    <span class=\"footer-notch\"></span>\\n  </div>\\n\\n  <footer class=\"global-footer\">\\n    <div class=\"content-wrapper match-height-tablet\">\\n      \\n\\n\\n<div class=\"global-footer-links match\">\\n  <h2><span class=\"offscreen\">The Pok&eacute;mon Company</span></h2>\\n  <ul>\\n    \\n      \\n      <li>\\n        <a href=\"/us/pokemon-news/\" rel=\"\" title=\"\">\\n          What\\'s New\\n        </a>\\n      </li>\\n      \\n      <li>\\n        <a href=\"/us/parents-guide/\"\\n          rel=\"\"\\n          title=\"\">\\n          Pokémon Parents Guide\\n        </a>\\n      </li>\\n      <li>\\n        <a href=\"/us/customer-service/\" rel=\"\" title=\"\">\\n          Customer Service\\n        </a>\\n      </li>\\n      <li>\\n        <a href=\"https://corporate.pokemon.com/en-us/\" rel=\"\" title=\"\" id=\"about-our-company-link\">\\n          About Our Company\\n        </a>\\n      </li>\\n      \\n      <li>\\n        <a id=\"careers-link\" href=\"https://boards.greenhouse.io/pokemoncareers\" class=\"exit-link\"\\n          target=\"_blank\"\\n          rel=\"https://boards.greenhouse.io/pokemoncareers\"\\n          title=\"External: https://boards.greenhouse.io/pokemoncareers\">\\n          Pokémon Careers\\n        </a>\\n      </li>\\n      \\n    \\n    <li>\\n      <a href=\"/us/country-region/\" rel=\"\" title=\"\">\\n        Select a Country/Region\\n        <i class=\"icon-us\"></i>\\n      </a>\\n    </li>\\n    <li>\\n      <a id=\"press-link\" href=\"https://press.pokemon.com/\" class=\"exit-link\"\\n        target=\"_blank\"\\n        rel=\"https://press.pokemon.com/\"\\n        title=\"External: https://press.pokemon.com/\">\\n        Pokémon Press Site\\n      </a>\\n    </li>\\n    \\n    \\n    \\n  </ul>\\n</div>\\n\\n      \\n      \\n<div class=\"global-footer-social match\">\\n\\n    <div class=\"footer-social-wrapper\">\\n        <div class=\"find-us\">\\n            <div class=\"find-us-box\">\\n\\n\\n                <a href=\"https://www.facebook.com/pokemon\" class=\"facebook exit-link\" target=\"_blank\"\\n                   title=\"External: https://www.facebook.com/pokemon\">\\n                    <span class=\"offscreen\">Facebook</span>\\n                </a>\\n\\n                <a href=\"https://www.youtube.com/user/Pokemon\" class=\"youtube exit-link\" target=\"_blank\"\\n                   title=\"External: https://www.youtube.com/user/Pokemon\">\\n                    <span class=\"offscreen\">Youtube</span>\\n                </a>\\n\\n                <a href=\"https://www.twitter.com/pokemon\" class=\"twitter exit-link\" target=\"_blank\"\\n                   title=\"External: https://www.twitter.com/pokemon\">\\n                    <span class=\"offscreen\">Twitter</span>\\n                </a>\\n \\n                <a href=\"https://www.instagram.com/pokemon\" class=\"instagram exit-link\" target=\"_blank\"\\n                   title=\"External: https://www.instagram.com/pokemon\">\\n                    <span class=\"offscreen\">Instagram</span>\\n                </a>\\n\\n\\n                <a href=\"https://www.pinterest.com/pokemon\" class=\"pinterest exit-link\" target=\"_blank\"\\n                   title=\"External: https://www.pinterest.com/pokemon\">\\n                    <span class=\"offscreen\">Pinterest</span>\\n                </a>\\n\\n            </div>\\n        </div>\\n\\n    </div>\\n\\n</div>\\n\\n      \\n      \\n      \\n\\n<div class=\"global-footer-legal match\">\\n\\n  <div class=\"footer-legal-wrapper\">\\n\\n    <div id=\"footer--privacy\">\\n        <a\\n            title=\"External: https://caru.bbbprograms.org/seal/Confirmation/1596150491\"\\n            \\n            class=\"exit-link\" target=\"_blank\"\\n            href=\"https://caru.bbbprograms.org/seal/Confirmation/1596150491\"\\n            \\n            >\\n        </a>\\n      <ul>\\n\\n          <li>\\n            <a href=\"/us/terms-of-use/\">Terms of Use</a>\\n          </li>\\n\\n          <li>\\n            <a href=\"/us/privacy-notice/\">Privacy Notice</a>\\n          </li>\\n\\n          <li>\\n            <a id=\"cookieLink\" href=\"/us/cookie-page/\">Cookie Page</a>\\n          </li>\\n\\n          <li>\\n            <a href=\"/us/legal/\">Legal Info</a>\\n          </li>\\n\\n          \\n            <li>\\n              <a id=\"securityLink\" href=\"/us/vulnerability-disclosure-program/\">Security</a>\\n            </li>\\n          \\n          \\n        </ul>\\n    </div>\\n\\n    <span>©2022 Pokémon. ©1995 - 2022 Nintendo/Creatures Inc./GAME FREAK inc. TM, ®Nintendo.</span>\\n\\n  </div>\\n\\n</div>\\n\\n      \\n    </div>\\n    \\n  </footer>\\n\\n\\n  \\n\\n\\n<div id=\"modal\" class=\"popup\">\\n\\t<div class=\"externalLink\">\\n    <h6>\\n\\n      You are about to leave a site operated by The Pokémon Company International, Inc.\\n\\n    </h6>\\n\\t\\t<p>\\n\\nThe Pokémon Company International is not responsible for the content of any linked website that is not operated by The Pokémon Company International. Please note that these websites\\' privacy policies and security practices may differ from The Pokémon Company International\\'s standards.\\n\\n    </p>\\n\\t\\t<div class=\"buttons-wrapper\">\\n\\t\\t\\t<a href=\"#\" class=\"button button-green arrow-right continueBtn\">\\n\\n        Continue\\n\\n      </a>\\n\\t\\t\\t<a href=\"#\" class=\"button button-darkgray arrow-left closeBtn\">\\n\\n        Cancel\\n\\n      </a>\\n\\t\\t</div>\\n\\t</div>\\n</div>\\n\\n<div id=\"pokemon-center-modal\" class=\"popup\">\\n\\t<div class=\"externalLink centerLink\">\\n    <h6>\\n      Click Continue to visit PokemonCenter.com, our official online shop.\\n    </h6>\\n    <h6>\\n      The privacy and security policies differ.\\n    </h6>\\n\\t\\t<div class=\"buttons-wrapper\">\\n\\t\\t\\t<a href=\"#\" class=\"button button-green arrow-right continueBtn\">\\n\\n        Continue\\n\\n      </a>\\n\\t\\t\\t<a href=\"#\" class=\"button button-darkgray arrow-left closeBtn\" target=\"_blank\">\\n\\n        Cancel\\n\\n      </a>\\n\\t\\t</div>\\n\\t</div>\\n</div>\\n\\n<div id=\"site-search-modal\" class=\"popup\">\\n\\n\\t<form id=\"site-search-widget\" class=\"form-analytics\" name=\"site-search-modal\">\\n\\t\\t<span class=\"search\"><input type=\"search\" placeholder=\"Search\" name=\"search\" id=\"site-search-widget-term\" autocomplete=\"off\" /></span>\\n\\t\\t<span class=\"submit icon icon_search\"><input type=\"submit\" value=\"\" id=\"site-search-widget-submit\"/></span>\\n        <div id=\"modal-search-results\"></div>\\n\\t</form>\\n</div>\\n\\n<div id=\\'report-screen-name-success-modal\\' class=\\'popup\\'>\\n  <h6>Report Inappropriate Screen Name</h6>\\n\\n  <div class=\\'modalBox\\'>\\n    <img src=\"https://assets.pokemon.com/static2/_ui/img/chrome/external_link_bumper.png\" alt=\"\" class=\"hidden-mobile\" />\\n\\n    <p>\\n    Pokemon.com administrators have been notified and will review the screen name for compliance with the Terms of Use.\\n    </p>\\n\\n    <div class=\\'buttons-wrapper\\'>\\n      <a href=\\'#\\' class=\\'button button-orange closeBtn\\'>\\n        Close\\n      </a>\\n    </div>\\n  </div>\\n</div>\\n\\n<div id=\\'report-screen-name-failure-modal\\' class=\\'popup\\'>\\n  <h6>Report Inappropriate Screen Name</h6>\\n\\n  <div class=\\'modalBox\\'>\\n    <img src=\"https://assets.pokemon.com/static2/_ui/img/chrome/external_link_bumper.png\" alt=\"\" class=\"hidden-mobile\" />\\n\\n    <p>\\n    Your request could not be completed. Please try again. If the problem persists, please contact Customer Support.\\n    </p>\\n\\n    <div class=\\'buttons-wrapper\\'>\\n      <a href=\\'#\\' class=\\'button button-orange closeBtn\\'>\\n        Close\\n      </a>\\n    </div>\\n  </div>\\n</div>\\n\\n<div id=\\'popupScreen\\' class=\"popupScreen\"></div>\\n\\n\\n  \\n    \\n<div id=\"video-modal\" class=\"popup\">\\n<span class=\"watch-token-info\"><span class=\"token_icon\"></span><p class=\"token_verbal\">You\\'ve been awarded <span class=\"token_amount\">0</span> Token(s) for watching Pokémon TV!</p></span>\\n    <div class=\"video-modal-wrapper\">\\n\\n        <header class=\"video-header\">\\n            <h4 id=\"episodeInfo\">\\n\\n            </h4>\\n            <!-- HEADLINE -->\\n            <h1 id=\"episodeTitle\"></h1>\\n        </header>\\n\\n        <div class=\"video-container\">\\n        </div>\\n\\n        <p class=\"hidden-text\"><strong>Views: <span id=\"videoViews\"></span></strong></p>\\n        <p class=\"legal\"></p>\\n\\n        <p class=\"video-summary\">\\n\\n        </p>\\n\\n        \\n\\n        <a href=\"#\" class=\"closeBtn button button-orange no-arrow right\"><i class=\"icon icon_multiply\"></i> Close</a>\\n\\n    </div>\\n\\n</div>\\n\\n\\n\\n \\n\\n\\n</body>\\n</html>\\n'"
      ]
     },
     "execution_count": 48,
     "metadata": {},
     "output_type": "execute_result"
    }
   ],
   "source": [
    "#go into any URL and get its content\n",
    "r=requests.get(\"https://www.pokemon.com/us/\")\n",
    "r.text                                                #get the entire content in text form\n"
   ]
  },
  {
   "cell_type": "code",
   "execution_count": 49,
   "id": "7e38a46d",
   "metadata": {},
   "outputs": [
    {
     "name": "stdout",
     "output_type": "stream",
     "text": [
      "200\n"
     ]
    }
   ],
   "source": [
    "print(r.status_code)"
   ]
  },
  {
   "cell_type": "code",
   "execution_count": 52,
   "id": "bb564061",
   "metadata": {},
   "outputs": [],
   "source": [
    "url=\"http://www.something.com/\"\n",
    "data={\n",
    "    \"p1\":4,\n",
    "    \"p2\":5\n",
    "}\n",
    "\n",
    "r2=requests.post(url=url,data=data)"
   ]
  },
  {
   "cell_type": "markdown",
   "id": "dba69e4e",
   "metadata": {},
   "source": [
    "# json module"
   ]
  },
  {
   "cell_type": "code",
   "execution_count": 1,
   "id": "f55805c0",
   "metadata": {},
   "outputs": [],
   "source": [
    "import json"
   ]
  },
  {
   "cell_type": "code",
   "execution_count": 2,
   "id": "193cad0a",
   "metadata": {},
   "outputs": [
    {
     "data": {
      "text/plain": [
       "'\\nJava Script Object Notation (JSON) is a light weight data format with many similarities to python dictionaries. \\nJSON objects are useful because browsers can quickly parse them,\\nwhich is ideal for transporting data between a client and a server.\\n'"
      ]
     },
     "execution_count": 2,
     "metadata": {},
     "output_type": "execute_result"
    }
   ],
   "source": [
    "\"\"\"\n",
    "Java Script Object Notation (JSON) is a light weight data format with many similarities to python dictionaries. \n",
    "JSON objects are useful because browsers can quickly parse them,\n",
    "which is ideal for transporting data between a client and a server.\n",
    "\n",
    "\"\"\""
   ]
  },
  {
   "cell_type": "code",
   "execution_count": 8,
   "id": "58817329",
   "metadata": {},
   "outputs": [
    {
     "name": "stdout",
     "output_type": "stream",
     "text": [
      "{\"var1\":\"hrithik\",\"var2\":89}\n",
      "{'var1': 'hrithik', 'var2': 89}\n",
      "hrithik\n"
     ]
    }
   ],
   "source": [
    "data='{\"var1\":\"hrithik\",\"var2\":89}'\n",
    "print(data)\n",
    "# print(data[\"var1\"])               #not valid format\n",
    "\n",
    "\n",
    "parsed=json.loads(data)\n",
    "print(parsed)\n",
    "print(parsed[\"var1\"])"
   ]
  },
  {
   "cell_type": "code",
   "execution_count": 14,
   "id": "db08ebbf",
   "metadata": {},
   "outputs": [
    {
     "name": "stdout",
     "output_type": "stream",
     "text": [
      "{\"list\": [\"sachin\", \"dhoni\", \"virat\"], \"games\": [\"cricket\", 75], \"is_bad\": false}\n"
     ]
    }
   ],
   "source": [
    "dict={\"list\":[\"sachin\",\"dhoni\",\"virat\"],\"games\":(\"cricket\",75), \"is_bad\":False}\n",
    "#This is not javascript compatable\n",
    "#to make it javascipt compatable we use json.dumps\n",
    "dict2=json.dumps(dict)                #dict2 will be javascript compatable\n",
    "print(dict2)"
   ]
  },
  {
   "cell_type": "markdown",
   "id": "7b08f22c",
   "metadata": {},
   "source": [
    "# pickle module"
   ]
  },
  {
   "cell_type": "code",
   "execution_count": 1,
   "id": "f2dcc32f",
   "metadata": {},
   "outputs": [],
   "source": [
    "import pickle"
   ]
  },
  {
   "cell_type": "code",
   "execution_count": 3,
   "id": "588332eb",
   "metadata": {},
   "outputs": [],
   "source": [
    "#pickling a python object \n",
    "#to store it in a file for later use"
   ]
  },
  {
   "cell_type": "code",
   "execution_count": 6,
   "id": "460951cb",
   "metadata": {},
   "outputs": [],
   "source": [
    "pokemons=[\"pikachu\",\"sceptile\",\"squirtle\",\"bulbasaur\"]    #an object\n",
    "file=\"pokemon.pkl\"                                        #a file to store an object\n",
    "fileobject=open(file,'wb')                     #passing them as an file object   #wb=write_binnary\n",
    "pickle.dump(pokemons,fileobject)\n",
    "fileobject.close()\n"
   ]
  },
  {
   "cell_type": "code",
   "execution_count": 7,
   "id": "078a3527",
   "metadata": {},
   "outputs": [],
   "source": [
    "#re-pickling"
   ]
  },
  {
   "cell_type": "code",
   "execution_count": 9,
   "id": "cdfba5a5",
   "metadata": {},
   "outputs": [
    {
     "name": "stdout",
     "output_type": "stream",
     "text": [
      "['pikachu', 'sceptile', 'squirtle', 'bulbasaur']\n"
     ]
    }
   ],
   "source": [
    "file=\"pokemon.pkl\" \n",
    "fileobject=open(file,'rb')\n",
    "pkmn=pickle.load(fileobject)\n",
    "print(pkmn)"
   ]
  },
  {
   "cell_type": "markdown",
   "id": "c1904e3c",
   "metadata": {},
   "source": [
    "# Regular expression"
   ]
  },
  {
   "cell_type": "code",
   "execution_count": 57,
   "id": "a61e78e3",
   "metadata": {},
   "outputs": [],
   "source": [
    "import re"
   ]
  },
  {
   "cell_type": "code",
   "execution_count": 58,
   "id": "342c4012",
   "metadata": {},
   "outputs": [],
   "source": [
    "# a random string to work on \n",
    "mystr='''Tata Limited                           \n",
    "Dr. David Landsman, executive director\n",
    "18, Grosvenor Place\n",
    "London SW1X 7HSc\n",
    "Phone: +44 (20) 7235 8281\n",
    "Fax: +44 (20) 7235 8727\n",
    "Email: tata@tata.co.uk\n",
    "Website: www.europe.tata.com\n",
    "Directions: View map\n",
    "\n",
    "Tata Sons, North America\n",
    "1700 North Moore St, Suite 1520\n",
    "Arlington, VA 22209-1911\n",
    "USA\n",
    "Phone: +1 (703) 243 9787\n",
    "Fax: +1 (703) 243 9791\n",
    "66-66\n",
    "455-4545\n",
    "Email: northamerica@tata.com \n",
    "Website: www.northamerica.tata.com\n",
    "Directions: View map fass\n",
    "harry bhai lekin\n",
    "bahut hi badia aadmi haiaiinaiiiiiiiiiiii'''\n"
   ]
  },
  {
   "cell_type": "code",
   "execution_count": 59,
   "id": "dc94885e",
   "metadata": {},
   "outputs": [],
   "source": [
    "#functions present in this module \n",
    "# findall , search , split , sub , finditer"
   ]
  },
  {
   "cell_type": "code",
   "execution_count": 60,
   "id": "56ee8b88",
   "metadata": {},
   "outputs": [
    {
     "name": "stdout",
     "output_type": "stream",
     "text": [
      "Normally a space will be printed \n",
      "\n",
      "\n",
      "\\n\n"
     ]
    }
   ],
   "source": [
    "#raw string \n",
    "#the escape characters are also treated as normal characters\n",
    "\n",
    "print(\"Normally a space will be printed \")\n",
    "print(\"\\n\")\n",
    "print(r\"\\n\")"
   ]
  },
  {
   "cell_type": "code",
   "execution_count": 61,
   "id": "f7028797",
   "metadata": {},
   "outputs": [
    {
     "name": "stdout",
     "output_type": "stream",
     "text": [
      "<re.Match object; span=(475, 479), match='fass'>\n"
     ]
    }
   ],
   "source": [
    "patt=re.compile(r\"fass\")\n",
    "matches=patt.finditer(mystr)\n",
    "for match in matches:\n",
    "    print(match)"
   ]
  },
  {
   "cell_type": "code",
   "execution_count": 62,
   "id": "3a23059e",
   "metadata": {},
   "outputs": [
    {
     "name": "stdout",
     "output_type": "stream",
     "text": [
      "fass\n"
     ]
    }
   ],
   "source": [
    "#means that characters from [475 to 479] contains fass\n",
    "print(mystr[475: 479])"
   ]
  },
  {
   "cell_type": "code",
   "execution_count": 63,
   "id": "ed2db89e",
   "metadata": {},
   "outputs": [
    {
     "data": {
      "text/plain": [
       "'\\n\\n\\nMeta Characters\\n[] A set of characters\\n\\\\ Signals a special sequence (can also be used to escape special characters)\\n. Any character (except newline character)\\n^ Starts with\\n$ Ends with\\n* Zero or more occurrences\\n+ One or more occurrences\\n{} Exactly the specified number of occurrences\\n| Either or\\n() Capture and group\\n\\n'"
      ]
     },
     "execution_count": 63,
     "metadata": {},
     "output_type": "execute_result"
    }
   ],
   "source": [
    "\"\"\"\n",
    "\n",
    "\n",
    "Meta Characters\n",
    "[] A set of characters\n",
    "\\ Signals a special sequence (can also be used to escape special characters)\n",
    ". Any character (except newline character)\n",
    "^ Starts with\n",
    "$ Ends with\n",
    "* Zero or more occurrences\n",
    "+ One or more occurrences\n",
    "{} Exactly the specified number of occurrences\n",
    "| Either or\n",
    "() Capture and group\n",
    "\n",
    "\"\"\""
   ]
  },
  {
   "cell_type": "code",
   "execution_count": 64,
   "id": "a3e5047e",
   "metadata": {},
   "outputs": [
    {
     "name": "stdout",
     "output_type": "stream",
     "text": [
      "<re.Match object; span=(512, 516), match='aadm'>\n",
      "<re.Match object; span=(519, 523), match='aiai'>\n"
     ]
    }
   ],
   "source": [
    "#example using meta characters\n",
    "\n",
    "patt=re.compile(r\".adm\")                   #using meta character \".\"\n",
    "matches=patt.finditer(mystr)\n",
    "for match in matches:\n",
    "    print(match)\n",
    "    \n",
    "patt=re.compile(r\"(ai){2}\")                   #using meta character \"() and {}\" /  basically ai appering 2 times\n",
    "matches=patt.finditer(mystr)\n",
    "for match in matches:\n",
    "    print(match)"
   ]
  },
  {
   "cell_type": "code",
   "execution_count": 65,
   "id": "b0a37dc1",
   "metadata": {},
   "outputs": [
    {
     "data": {
      "text/plain": [
       "'\\nSpecial Sequences\\n\\\\A Returns a match if the specified characters are at the beginning of the string\\n\\x08 Returns a match where the specified characters are at the beginning or at the end of a word r” ain\\x08.”\\n\\\\B Returns a match where the specified characters are present, but NOT at the beginning (or at the end) of a word\\n\\n\\\\d Returns a match where the string contains digits (numbers from 0-9)\\n\\\\D Returns a match where the string DOES NOT contain digits\\n\\\\s Returns a match where the string contains a white space character\\n\\\\S Returns a match where the string DOES NOT contain a white space character\\n\\\\w Returns a match where the string contains any word characters (characters from a to Z, digits from 0-9, and the underscore _ character)\\n\\\\W Returns a match where the string DOES NOT contain any word characters\\n\\\\Z Returns a match if the specified characters are at the end of the string\\n\\n'"
      ]
     },
     "execution_count": 65,
     "metadata": {},
     "output_type": "execute_result"
    }
   ],
   "source": [
    "\"\"\"\n",
    "Special Sequences\n",
    "\\A Returns a match if the specified characters are at the beginning of the string\n",
    "\\b Returns a match where the specified characters are at the beginning or at the end of a word r” ain\\b.”\n",
    "\\B Returns a match where the specified characters are present, but NOT at the beginning (or at the end) of a word\n",
    "\n",
    "\\d Returns a match where the string contains digits (numbers from 0-9)\n",
    "\\D Returns a match where the string DOES NOT contain digits\n",
    "\\s Returns a match where the string contains a white space character\n",
    "\\S Returns a match where the string DOES NOT contain a white space character\n",
    "\\w Returns a match where the string contains any word characters (characters from a to Z, digits from 0-9, and the underscore _ character)\n",
    "\\W Returns a match where the string DOES NOT contain any word characters\n",
    "\\Z Returns a match if the specified characters are at the end of the string\n",
    "\n",
    "\"\"\""
   ]
  },
  {
   "cell_type": "code",
   "execution_count": 68,
   "id": "b909058f",
   "metadata": {},
   "outputs": [
    {
     "name": "stdout",
     "output_type": "stream",
     "text": [
      "<re.Match object; span=(0, 4), match='Tata'>\n"
     ]
    }
   ],
   "source": [
    "patt=re.compile(r\"\\ATata\")         #using /A special sequence\n",
    "matches=patt.finditer(mystr)\n",
    "for match in matches:\n",
    "    print(match)"
   ]
  },
  {
   "cell_type": "code",
   "execution_count": 69,
   "id": "089aee5d",
   "metadata": {},
   "outputs": [
    {
     "name": "stdout",
     "output_type": "stream",
     "text": [
      "<re.Match object; span=(311, 321), match='22209-1911'>\n"
     ]
    }
   ],
   "source": [
    "#searchig a pattern of digits using special sequence\n",
    "patt=re.compile(r\"\\d{5}-\\d{4}\")         #using /b special sequence\n",
    "matches=patt.finditer(mystr)\n",
    "for match in matches:\n",
    "    print(match)"
   ]
  },
  {
   "cell_type": "markdown",
   "id": "896770d8",
   "metadata": {},
   "source": [
    "# Converting .py to .exe"
   ]
  },
  {
   "cell_type": "code",
   "execution_count": 2,
   "id": "4df48adc",
   "metadata": {},
   "outputs": [],
   "source": [
    "# CWH video no 87"
   ]
  },
  {
   "cell_type": "markdown",
   "id": "39a01ff0",
   "metadata": {},
   "source": [
    "# Raise In Python + Examples"
   ]
  },
  {
   "cell_type": "code",
   "execution_count": 6,
   "id": "587938fd",
   "metadata": {},
   "outputs": [
    {
     "name": "stdout",
     "output_type": "stream",
     "text": [
      "Enter your namek\n",
      "your name : k\n"
     ]
    }
   ],
   "source": [
    "a=input(\"Enter your name\")\n",
    "\n",
    "if a.isnumeric():\n",
    "    raise Exception(\"Numbers are not allowed\")\n",
    "print(f\"your name : {a}\")"
   ]
  },
  {
   "cell_type": "code",
   "execution_count": 10,
   "id": "e896c668",
   "metadata": {},
   "outputs": [
    {
     "name": "stdout",
     "output_type": "stream",
     "text": [
      "Enter the first number 5\n",
      "Enter the second number 0\n"
     ]
    },
    {
     "ename": "ZeroDivisionError",
     "evalue": "The value of b cannot be 0",
     "output_type": "error",
     "traceback": [
      "\u001b[1;31m---------------------------------------------------------------------------\u001b[0m",
      "\u001b[1;31mZeroDivisionError\u001b[0m                         Traceback (most recent call last)",
      "Input \u001b[1;32mIn [10]\u001b[0m, in \u001b[0;36m<cell line: 4>\u001b[1;34m()\u001b[0m\n\u001b[0;32m      3\u001b[0m b\u001b[38;5;241m=\u001b[39m\u001b[38;5;28mint\u001b[39m(\u001b[38;5;28minput\u001b[39m(\u001b[38;5;124m\"\u001b[39m\u001b[38;5;124mEnter the second number \u001b[39m\u001b[38;5;124m\"\u001b[39m))\n\u001b[0;32m      4\u001b[0m \u001b[38;5;28;01mif\u001b[39;00m b\u001b[38;5;241m==\u001b[39m\u001b[38;5;241m0\u001b[39m:\n\u001b[1;32m----> 5\u001b[0m     \u001b[38;5;28;01mraise\u001b[39;00m \u001b[38;5;167;01mZeroDivisionError\u001b[39;00m(\u001b[38;5;124m\"\u001b[39m\u001b[38;5;124mThe value of b cannot be 0\u001b[39m\u001b[38;5;124m\"\u001b[39m)\n\u001b[0;32m      6\u001b[0m \u001b[38;5;28mprint\u001b[39m(a\u001b[38;5;241m/\u001b[39mb)\n",
      "\u001b[1;31mZeroDivisionError\u001b[0m: The value of b cannot be 0"
     ]
    }
   ],
   "source": [
    "#raising zero division error\n",
    "a=int(input(\"Enter the first number \"))\n",
    "b=int(input(\"Enter the second number \"))\n",
    "if b==0:\n",
    "    raise ZeroDivisionError(\"The value of b cannot be 0\")\n",
    "print(a/b)"
   ]
  },
  {
   "cell_type": "code",
   "execution_count": 1,
   "id": "333cd920",
   "metadata": {},
   "outputs": [
    {
     "name": "stdout",
     "output_type": "stream",
     "text": [
      "Enter your nameharry\n"
     ]
    },
    {
     "ename": "ValueError",
     "evalue": "Harry is blocked he is not allowed",
     "output_type": "error",
     "traceback": [
      "\u001b[1;31m---------------------------------------------------------------------------\u001b[0m",
      "\u001b[1;31mNameError\u001b[0m                                 Traceback (most recent call last)",
      "Input \u001b[1;32mIn [1]\u001b[0m, in \u001b[0;36m<cell line: 2>\u001b[1;34m()\u001b[0m\n\u001b[0;32m      2\u001b[0m \u001b[38;5;28;01mtry\u001b[39;00m:\n\u001b[1;32m----> 3\u001b[0m     \u001b[38;5;28mprint\u001b[39m(\u001b[43ma\u001b[49m)\n\u001b[0;32m      5\u001b[0m \u001b[38;5;28;01mexcept\u001b[39;00m \u001b[38;5;167;01mException\u001b[39;00m \u001b[38;5;28;01mas\u001b[39;00m e:\n",
      "\u001b[1;31mNameError\u001b[0m: name 'a' is not defined",
      "\nDuring handling of the above exception, another exception occurred:\n",
      "\u001b[1;31mValueError\u001b[0m                                Traceback (most recent call last)",
      "Input \u001b[1;32mIn [1]\u001b[0m, in \u001b[0;36m<cell line: 2>\u001b[1;34m()\u001b[0m\n\u001b[0;32m      5\u001b[0m \u001b[38;5;28;01mexcept\u001b[39;00m \u001b[38;5;167;01mException\u001b[39;00m \u001b[38;5;28;01mas\u001b[39;00m e:\n\u001b[0;32m      7\u001b[0m     \u001b[38;5;28;01mif\u001b[39;00m c \u001b[38;5;241m==\u001b[39m\u001b[38;5;124m\"\u001b[39m\u001b[38;5;124mharry\u001b[39m\u001b[38;5;124m\"\u001b[39m:\n\u001b[1;32m----> 8\u001b[0m         \u001b[38;5;28;01mraise\u001b[39;00m \u001b[38;5;167;01mValueError\u001b[39;00m(\u001b[38;5;124m\"\u001b[39m\u001b[38;5;124mHarry is blocked he is not allowed\u001b[39m\u001b[38;5;124m\"\u001b[39m)\n\u001b[0;32m     10\u001b[0m     \u001b[38;5;28mprint\u001b[39m(\u001b[38;5;124m\"\u001b[39m\u001b[38;5;124mException handled\u001b[39m\u001b[38;5;124m\"\u001b[39m)\n",
      "\u001b[1;31mValueError\u001b[0m: Harry is blocked he is not allowed"
     ]
    }
   ],
   "source": [
    "c = input(\"Enter your name\")\n",
    "try:\n",
    "    print(a)\n",
    "\n",
    "except Exception as e:\n",
    "\n",
    "    if c ==\"harry\":\n",
    "        raise ValueError(\"Harry is blocked he is not allowed\")\n",
    "\n",
    "    print(\"Exception handled\")"
   ]
  },
  {
   "cell_type": "markdown",
   "id": "05b0556d",
   "metadata": {},
   "source": [
    "# 'is' vs '==': What's The Difference? |"
   ]
  },
  {
   "cell_type": "code",
   "execution_count": 2,
   "id": "b03ce594",
   "metadata": {},
   "outputs": [
    {
     "data": {
      "text/plain": [
       "'\\n\"\"==\" -  value equality          #the value of the object is equal\\nis - refrence inequality         #the object itself is same\\n\\n'"
      ]
     },
     "execution_count": 2,
     "metadata": {},
     "output_type": "execute_result"
    }
   ],
   "source": [
    "\"\"\"\n",
    "\"\"==\" -  value equality          #the value of the object is equal\n",
    "is - refrence inequality         #the object itself is same\n",
    "\n",
    "\"\"\""
   ]
  },
  {
   "cell_type": "markdown",
   "id": "e3522fe7",
   "metadata": {},
   "source": [
    "# Creating a Command Line Utility In Python"
   ]
  },
  {
   "cell_type": "code",
   "execution_count": 1,
   "id": "866921d3",
   "metadata": {},
   "outputs": [],
   "source": [
    "# A command-line utility is a way of giving operating system instructions using lines of text.\n",
    "# Command-line programs operate via the command line or PowerShell. \n",
    "# It will interact with a command-line script."
   ]
  },
  {
   "cell_type": "code",
   "execution_count": null,
   "id": "d5d3d16e",
   "metadata": {},
   "outputs": [],
   "source": [
    "\"\"\"\n",
    "\n",
    "import argparse       #allow us to write a command-line interface for our scripts\n",
    "import sys\n",
    "\n",
    "def calc(args):\n",
    "    if args.o == 'add':\n",
    "        return args.x + args.y\n",
    "\n",
    "    elif args.o == 'mul':\n",
    "        return args.x * args.y\n",
    "\n",
    "    elif args.o == 'sub':\n",
    "        return args.x - args.y\n",
    "\n",
    "    elif args.o == 'div':\n",
    "        return args.x / args.y\n",
    "\n",
    "    else:\n",
    "        return \"Something went wrong\"\n",
    "\n",
    "if __name__ == '__main__':\n",
    "    parser = argparse.ArgumentParser()            #object of the class ArgumentParser()  \n",
    "     \n",
    "     \n",
    "    # We fill ArgumentParser with information about program arguments by making calls to the add_argument() method.\n",
    "    parser.add_argument('--x', type=float, default=1.0,\n",
    "                        help=\"Enter first number. This is a utility for calculation. Please contact harry bhai\")\n",
    "\n",
    "    parser.add_argument('--y', type=float, default=3.0,\n",
    "                        help=\"Enter second number. This is a utility for calculation. Please contact harry bhai\")\n",
    "\n",
    "    parser.add_argument('--o', type=str, default=\"add\",\n",
    "                        help=\"This is a utility for calculation. Please contact harry bhai for more\")\n",
    "\n",
    "\n",
    "    #When we execute .parse_args(), we will get the Namespace object that contains \n",
    "    # a simple property for each input argument received from the command line\n",
    "    args = parser.parse_args()\n",
    "    sys.stdout.write(str(calc(args)))\n",
    "\n",
    "\n",
    "\"\"\""
   ]
  },
  {
   "cell_type": "code",
   "execution_count": 2,
   "id": "ec775137",
   "metadata": {},
   "outputs": [
    {
     "data": {
      "text/plain": [
       "'\\nopen CMD and type:\\npython .\\x0cile-name.py --x 9 --y 2 --o add\\n\\n11 will be displayed on CMD\\n\\n'"
      ]
     },
     "execution_count": 2,
     "metadata": {},
     "output_type": "execute_result"
    }
   ],
   "source": [
    "# how to run this program?\n",
    "\"\"\"\n",
    "open CMD and type:\n",
    "python .\\file-name.py --x 9 --y 2 --o add\n",
    "\n",
    "11 will be displayed on CMD\n",
    "\n",
    "\"\"\"\n"
   ]
  },
  {
   "cell_type": "markdown",
   "id": "04edfda7",
   "metadata": {},
   "source": [
    "# Creating a Python Package Using Setuptools "
   ]
  },
  {
   "cell_type": "code",
   "execution_count": 5,
   "id": "8c3d3147",
   "metadata": {},
   "outputs": [
    {
     "data": {
      "text/plain": [
       "'\\nrefer CWH #95 video\\n \\n'"
      ]
     },
     "execution_count": 5,
     "metadata": {},
     "output_type": "execute_result"
    }
   ],
   "source": [
    "\"\"\"\n",
    "refer CWH #95 video\n",
    "( https://www.codewithharry.com/videos/python-tutorials-for-absolute-beginners-95/ )\n",
    " \n",
    "\"\"\""
   ]
  },
  {
   "cell_type": "markdown",
   "id": "54b7ff5c",
   "metadata": {},
   "source": [
    "# Future Paths"
   ]
  },
  {
   "cell_type": "code",
   "execution_count": 6,
   "id": "a800c2d8",
   "metadata": {},
   "outputs": [
    {
     "data": {
      "text/plain": [
       "'\\nWeb Developement : Flask or Django \\n\\n'"
      ]
     },
     "execution_count": 6,
     "metadata": {},
     "output_type": "execute_result"
    }
   ],
   "source": [
    "\"\"\"\n",
    "Web Developement : Flask or Django \n",
    "GUI Developement : Tkinter , wxPython ,JPython\n",
    "Data Science : NumPY , Pandas , Python mySQL\n",
    "Machine Learning : CWH playlist\n",
    "\n",
    "\n",
    "#Final Plan: DEATH\n",
    "\n",
    "\"\"\""
   ]
  },
  {
   "cell_type": "code",
   "execution_count": null,
   "id": "2d36ac9c",
   "metadata": {},
   "outputs": [],
   "source": []
  }
 ],
 "metadata": {
  "kernelspec": {
   "display_name": "Python 3 (ipykernel)",
   "language": "python",
   "name": "python3"
  },
  "language_info": {
   "codemirror_mode": {
    "name": "ipython",
    "version": 3
   },
   "file_extension": ".py",
   "mimetype": "text/x-python",
   "name": "python",
   "nbconvert_exporter": "python",
   "pygments_lexer": "ipython3",
   "version": "3.10.1"
  }
 },
 "nbformat": 4,
 "nbformat_minor": 5
}
